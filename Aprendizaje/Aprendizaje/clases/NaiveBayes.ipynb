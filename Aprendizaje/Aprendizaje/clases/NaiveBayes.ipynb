{
 "metadata": {
  "name": ""
 },
 "nbformat": 3,
 "nbformat_minor": 0,
 "worksheets": [
  {
   "cells": [
    {
     "cell_type": "markdown",
     "metadata": {},
     "source": [
      "* Procedure\n",
      "    * Divide data in train and test sets\n",
      "    * Keep test data in a safe!\n",
      "    * Transform test data (normalize, discretize, etc)\n",
      "    * Train model\n",
      "    * Transform test data with the parameters found in step 3\n",
      "    * Test model with test data\n",
      "    * Evaluate results"
     ]
    },
    {
     "cell_type": "code",
     "collapsed": false,
     "input": [
      "from sklearn.naive_bayes import GaussianNB\n",
      "import pandas as pd\n",
      "import csv\n"
     ],
     "language": "python",
     "metadata": {},
     "outputs": [],
     "prompt_number": 1
    },
    {
     "cell_type": "code",
     "collapsed": false,
     "input": [
      "df = pd.read_csv(\"naive.dat\")\n",
      "df['Ingreso']"
     ],
     "language": "python",
     "metadata": {},
     "outputs": [
      {
       "metadata": {},
       "output_type": "pyout",
       "prompt_number": 54,
       "text": [
        "20"
       ]
      }
     ],
     "prompt_number": 54
    },
    {
     "cell_type": "code",
     "collapsed": false,
     "input": [
      "df.describe()"
     ],
     "language": "python",
     "metadata": {},
     "outputs": [
      {
       "html": [
        "<div style=\"max-height:1000px;max-width:1500px;overflow:auto;\">\n",
        "<table border=\"1\" class=\"dataframe\">\n",
        "  <thead>\n",
        "    <tr style=\"text-align: right;\">\n",
        "      <th></th>\n",
        "      <th>Ingreso</th>\n",
        "      <th>Saldo</th>\n",
        "    </tr>\n",
        "  </thead>\n",
        "  <tbody>\n",
        "    <tr>\n",
        "      <th>count</th>\n",
        "      <td>  7.000000</td>\n",
        "      <td>  7.000000</td>\n",
        "    </tr>\n",
        "    <tr>\n",
        "      <th>mean</th>\n",
        "      <td> 21.428571</td>\n",
        "      <td> 16.428571</td>\n",
        "    </tr>\n",
        "    <tr>\n",
        "      <th>std</th>\n",
        "      <td>  6.900656</td>\n",
        "      <td> 13.138457</td>\n",
        "    </tr>\n",
        "    <tr>\n",
        "      <th>min</th>\n",
        "      <td> 10.000000</td>\n",
        "      <td>  5.000000</td>\n",
        "    </tr>\n",
        "    <tr>\n",
        "      <th>25%</th>\n",
        "      <td> 20.000000</td>\n",
        "      <td> 10.000000</td>\n",
        "    </tr>\n",
        "    <tr>\n",
        "      <th>50%</th>\n",
        "      <td> 20.000000</td>\n",
        "      <td> 10.000000</td>\n",
        "    </tr>\n",
        "    <tr>\n",
        "      <th>75%</th>\n",
        "      <td> 25.000000</td>\n",
        "      <td> 20.000000</td>\n",
        "    </tr>\n",
        "    <tr>\n",
        "      <th>max</th>\n",
        "      <td> 30.000000</td>\n",
        "      <td> 40.000000</td>\n",
        "    </tr>\n",
        "  </tbody>\n",
        "</table>\n",
        "<p>8 rows \u00d7 2 columns</p>\n",
        "</div>"
       ],
       "metadata": {},
       "output_type": "pyout",
       "prompt_number": 50,
       "text": [
        "         Ingreso      Saldo\n",
        "count   7.000000   7.000000\n",
        "mean   21.428571  16.428571\n",
        "std     6.900656  13.138457\n",
        "min    10.000000   5.000000\n",
        "25%    20.000000  10.000000\n",
        "50%    20.000000  10.000000\n",
        "75%    25.000000  20.000000\n",
        "max    30.000000  40.000000\n",
        "\n",
        "[8 rows x 2 columns]"
       ]
      }
     ],
     "prompt_number": 50
    },
    {
     "cell_type": "code",
     "collapsed": false,
     "input": [
      "gnb = GaussianNB()\n",
      "modelo=gnb.fit(df[['Ingreso','Saldo']],df['Clase'])"
     ],
     "language": "python",
     "metadata": {},
     "outputs": [],
     "prompt_number": 5
    },
    {
     "cell_type": "code",
     "collapsed": false,
     "input": [
      "modelo.predict_proba([30,6.6])\n"
     ],
     "language": "python",
     "metadata": {},
     "outputs": [
      {
       "metadata": {},
       "output_type": "pyout",
       "prompt_number": 47,
       "text": [
        "array([[ 0.93844094,  0.06155906]])"
       ]
      }
     ],
     "prompt_number": 47
    },
    {
     "cell_type": "heading",
     "level": 4,
     "metadata": {},
     "source": [
      "Ejercicio: Generen datos (con python o excel) para un problema con dos o tres variables independientes (puede ser saldo e ingreso) y de acuerdo a una regle asignen la variable dependiente. Prueben aprender dicha funci\u00f3n con el m\u00e9todo de Bayes. Sigan el procedimiento visto en clase para generar el modelo y propongan una manera de medir el error"
     ]
    },
    {
     "cell_type": "code",
     "collapsed": false,
     "input": [
      "from sklearn.metrics import accuracy_score\n",
      "accuracy_score(res2,val)"
     ],
     "language": "python",
     "metadata": {},
     "outputs": [
      {
       "metadata": {},
       "output_type": "pyout",
       "prompt_number": 44,
       "text": [
        "0.8571428571428571"
       ]
      }
     ],
     "prompt_number": 44
    }
   ],
   "metadata": {}
  }
 ]
}