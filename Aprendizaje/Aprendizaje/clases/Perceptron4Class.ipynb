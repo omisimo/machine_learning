{
 "metadata": {
  "name": ""
 },
 "nbformat": 3,
 "nbformat_minor": 0,
 "worksheets": [
  {
   "cells": [
    {
     "cell_type": "heading",
     "level": 1,
     "metadata": {},
     "source": [
      "Perceptron"
     ]
    },
    {
     "cell_type": "markdown",
     "metadata": {},
     "source": [
      "* Procedure\n",
      "    * Divide data in train and test sets\n",
      "    * Keep test data in a safe!\n",
      "    * Transform test data (normalize, discretize, etc)\n",
      "    * Train model\n",
      "    * Transform test data with the parameters found in step 3\n",
      "    * Test model with test data\n",
      "    * Evaluate results"
     ]
    },
    {
     "cell_type": "code",
     "collapsed": false,
     "input": [
      "import pandas as pd\n",
      "import numpy as np\n",
      "import csv\n",
      "from sklearn.cross_validation import train_test_split\n",
      "from sklearn.linear_model import LinearRegression\n",
      "from sklearn.linear_model import Ridge\n",
      "import matplotlib.pyplot as plt\n",
      "%matplotlib inline"
     ],
     "language": "python",
     "metadata": {},
     "outputs": [],
     "prompt_number": 168
    },
    {
     "cell_type": "heading",
     "level": 4,
     "metadata": {},
     "source": [
      "Transfer Function and Training Procedure "
     ]
    },
    {
     "cell_type": "code",
     "collapsed": false,
     "input": [
      "from random import sample\n",
      "\n",
      "def salida(w,X):\n",
      "    res= np.sum(np.asarray(w[1:])*np.asarray(X)) +w[0]\n",
      "    if res >=0:\n",
      "        return 1\n",
      "    else:\n",
      "        return 0\n",
      "def entrena(X,y,w,la=0.0):\n",
      "    eta=0.01\n",
      "    for i in range(len(X)):\n",
      "        error=y[i]-salida(w,X[i])\n",
      "        w[0]=w[0]+eta*(error)-la*w[0]\n",
      "        for j in range(len(w)-1):\n",
      "            w[j+1]=w[j+1]+eta*(error*X[i][j])-la*w[j+1]\n",
      "    return w\n"
     ],
     "language": "python",
     "metadata": {},
     "outputs": [],
     "prompt_number": 277
    }
   ],
   "metadata": {}
  }
 ]
}