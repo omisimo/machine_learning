{
 "cells": [
  {
   "cell_type": "code",
   "execution_count": 1,
   "metadata": {
    "collapsed": false
   },
   "outputs": [],
   "source": [
    "import numpy as np\n",
    "import random as r\n",
    "import pandas as pd\n",
    "from matplotlib import pylab as plt\n",
    "from sklearn.preprocessing import StandardScaler\n",
    "from sklearn.cross_validation import train_test_split\n",
    "%matplotlib inline"
   ]
  },
  {
   "cell_type": "markdown",
   "metadata": {},
   "source": [
    "### Perceptrones"
   ]
  },
  {
   "cell_type": "code",
   "execution_count": 2,
   "metadata": {
    "collapsed": true
   },
   "outputs": [],
   "source": [
    "def step(x, y, w, eta):\n",
    "    err = y - np.sign(np.dot(x,w))\n",
    "    #print y, sum(w*x), err\n",
    "    #print eta, err, x, eta*err*x\n",
    "    w = w + eta*err*x\n",
    "    return w\n",
    "\n",
    "def perceptron(x, y, w, eta=0.1, maxiter=100, tol=1e-5):\n",
    "    k = 0\n",
    "    iter = 0\n",
    "    errs = []\n",
    "    while iter < maxiter:\n",
    "        w = step(x[k,:], y[k], w, eta)\n",
    "        err = sum((y - np.sign(np.dot(x, w)))**2)\n",
    "        errs.append(err)\n",
    "        if k >= x.shape[0] - 1:\n",
    "            k = 0\n",
    "        else:\n",
    "            k = k + 1\n",
    "        iter = iter + 1\n",
    "    return w, errs\n",
    "\n",
    "def predict(x, w):\n",
    "    return np.sign(np.dot(x,w))"
   ]
  },
  {
   "cell_type": "markdown",
   "metadata": {},
   "source": [
    "### Función lógica AND"
   ]
  },
  {
   "cell_type": "code",
   "execution_count": 69,
   "metadata": {
    "collapsed": false
   },
   "outputs": [
    {
     "data": {
      "text/plain": [
       "<matplotlib.collections.PathCollection at 0x10e231ad0>"
      ]
     },
     "execution_count": 69,
     "metadata": {},
     "output_type": "execute_result"
    },
    {
     "data": {
      "image/png": "[encoded data removed]",
      "text/plain": [
       "<matplotlib.figure.Figure at 0x10dd92490>"
      ]
     },
     "metadata": {},
     "output_type": "display_data"
    }
   ],
   "source": [
    "r.seed(1234)\n",
    "n = 1000\n",
    "wstar = np.array([5,4,3])\n",
    "#x = np.array([[1, r.normalvariate(0,5), r.normalvariate(0,5)] for i in range(n)])\n",
    "#y = np.dot(x, wstar)\n",
    "x = np.array([[-1,-1],[-1,1],[1,-1],[1,1]]*10, dtype='float64')\n",
    "x = x + 0.2*np.random.randn(x.shape[0],x.shape[1])\n",
    "x = np.column_stack((np.ones(40), x))\n",
    "y = np.array([-1,-1,-1,1]*10, dtype='float64')\n",
    "y = np.sign(y) #np.sign(y + [r.normalvariate(0,4) for i in range(len(y))])\n",
    "plt.scatter(x[:,1], x[:,2],linewidths=0,c=y)"
   ]
  },
  {
   "cell_type": "code",
   "execution_count": 70,
   "metadata": {
    "collapsed": false
   },
   "outputs": [
    {
     "name": "stdout",
     "output_type": "stream",
     "text": [
      "[-0.276       0.69520406  0.65039693]\n"
     ]
    }
   ],
   "source": [
    "w0 = np.array([2,1,0])\n",
    "w1, errs1 = perceptron(x, y, w0, eta=0.001, maxiter=10000)\n",
    "#w2, errs2 = perceptron(x, y, w0, eta=0.01, maxiter=5000) # La solución varía mucho\n",
    "print w1"
   ]
  },
  {
   "cell_type": "code",
   "execution_count": 71,
   "metadata": {
    "collapsed": false
   },
   "outputs": [
    {
     "data": {
      "text/plain": [
       "[<matplotlib.lines.Line2D at 0x10e299050>]"
      ]
     },
     "execution_count": 71,
     "metadata": {},
     "output_type": "execute_result"
    },
    {
     "data": {
      "image/png": "[encoded data removed]",
      "text/plain": [
       "<matplotlib.figure.Figure at 0x10d265d50>"
      ]
     },
     "metadata": {},
     "output_type": "display_data"
    }
   ],
   "source": [
    "plt.plot(errs1)\n",
    "#plt.plot(errs2)"
   ]
  },
  {
   "cell_type": "code",
   "execution_count": 74,
   "metadata": {
    "collapsed": false
   },
   "outputs": [
    {
     "name": "stdout",
     "output_type": "stream",
     "text": [
      "Error: 0\n"
     ]
    },
    {
     "data": {
      "image/png": "[encoded data removed]",
      "text/plain": [
       "<matplotlib.figure.Figure at 0x10df81390>"
      ]
     },
     "metadata": {},
     "output_type": "display_data"
    }
   ],
   "source": [
    "a = np.linspace(-2,2,100)\n",
    "plt.scatter(x[:,1], x[:,2],linewidths=0, c=y, alpha=0.5)\n",
    "plt.plot(a, -1/w1[2]*(w1[0] + w1[1]*a), color='black', linewidth=2)\n",
    "print 'Error: %d' % sum((y - predict(x,w1))**2)"
   ]
  },
  {
   "cell_type": "markdown",
   "metadata": {},
   "source": [
    "### Ahora con datos regLin4"
   ]
  },
  {
   "cell_type": "code",
   "execution_count": 49,
   "metadata": {
    "collapsed": false
   },
   "outputs": [],
   "source": [
    "df = pd.read_csv('datos/regLin4.csv')\n",
    "x = np.column_stack((np.ones(len(df['X'])), np.array(df['X'])))\n",
    "y = 2*np.array(df['y']) - 1"
   ]
  },
  {
   "cell_type": "code",
   "execution_count": 51,
   "metadata": {
    "collapsed": false
   },
   "outputs": [
    {
     "name": "stdout",
     "output_type": "stream",
     "text": [
      "[ 0.984      -0.03282226]\n"
     ]
    },
    {
     "data": {
      "text/plain": [
       "[<matplotlib.lines.Line2D at 0x10da8a750>]"
      ]
     },
     "execution_count": 51,
     "metadata": {},
     "output_type": "execute_result"
    },
    {
     "data": {
      "image/png": "[encoded data removed]",
      "text/plain": [
       "<matplotlib.figure.Figure at 0x10d7dfe90>"
      ]
     },
     "metadata": {},
     "output_type": "display_data"
    }
   ],
   "source": [
    "w0 = np.ones(2)\n",
    "w1, errs1 = perceptron(x, y, w0, eta=0.0001, maxiter=10000)\n",
    "print w1\n",
    "plt.plot(errs1)"
   ]
  },
  {
   "cell_type": "code",
   "execution_count": 57,
   "metadata": {
    "collapsed": false
   },
   "outputs": [
    {
     "name": "stdout",
     "output_type": "stream",
     "text": [
      "Error: 0\n"
     ]
    },
    {
     "data": {
      "image/png": "[encoded data removed]",
      "text/plain": [
       "<matplotlib.figure.Figure at 0x10de3f790>"
      ]
     },
     "metadata": {},
     "output_type": "display_data"
    }
   ],
   "source": [
    "a = np.linspace(-15,15,100)\n",
    "plt.scatter(x[:,1], y,linewidths=0, alpha=0.5)\n",
    "plt.axvline(-w1[0]/w1[1], color='black')\n",
    "#plt.plot(a, -1/w1[2]*(w1[0] + w1[1]*a), color='black', linewidth=2)\n",
    "print 'Error: %d' % sum((y - predict(x,w1))**2)"
   ]
  },
  {
   "cell_type": "code",
   "execution_count": null,
   "metadata": {
    "collapsed": true
   },
   "outputs": [],
   "source": []
  }
 ],
 "metadata": {
  "kernelspec": {
   "display_name": "Python 2",
   "language": "python",
   "name": "python2"
  },
  "language_info": {
   "codemirror_mode": {
    "name": "ipython",
    "version": 2
   },
   "file_extension": ".py",
   "mimetype": "text/x-python",
   "name": "python",
   "nbconvert_exporter": "python",
   "pygments_lexer": "ipython2",
   "version": "2.7.9"
  }
 },
 "nbformat": 4,
 "nbformat_minor": 0
}
