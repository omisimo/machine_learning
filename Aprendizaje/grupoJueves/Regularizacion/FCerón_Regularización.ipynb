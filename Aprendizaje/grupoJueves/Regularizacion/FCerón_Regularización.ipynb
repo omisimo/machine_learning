{
 "cells": [
  {
   "cell_type": "code",
   "execution_count": 490,
   "metadata": {
    "collapsed": true
   },
   "outputs": [],
   "source": [
    "import pandas as pd\n",
    "import numpy as np\n",
    "import csv\n",
    "from sklearn.cross_validation import train_test_split\n",
    "from sklearn.linear_model import LinearRegression\n",
    "from random import random, randint\n",
    "import matplotlib.pyplot as plt\n",
    "%matplotlib inline"
   ]
  },
  {
   "cell_type": "code",
   "execution_count": 491,
   "metadata": {
    "collapsed": true
   },
   "outputs": [],
   "source": [
    "df = pd.read_csv(\"regLinPoli.csv\")"
   ]
  },
  {
   "cell_type": "code",
   "execution_count": 492,
   "metadata": {
    "collapsed": false
   },
   "outputs": [],
   "source": [
    "X=df[['X','X2','X3','X4']]\n",
    "y=df[['y']]"
   ]
  },
  {
   "cell_type": "code",
   "execution_count": 493,
   "metadata": {
    "collapsed": true
   },
   "outputs": [],
   "source": [
    "X_train, X_test, Y_train, Y_test = train_test_split(X,y, train_size=0.75)"
   ]
  },
  {
   "cell_type": "code",
   "execution_count": 494,
   "metadata": {
    "collapsed": false
   },
   "outputs": [
    {
     "data": {
      "text/plain": [
       "4"
      ]
     },
     "execution_count": 494,
     "metadata": {},
     "output_type": "execute_result"
    }
   ],
   "source": [
    "len(X_train.columns)"
   ]
  },
  {
   "cell_type": "code",
   "execution_count": 495,
   "metadata": {
    "collapsed": true
   },
   "outputs": [],
   "source": [
    "def salida(w0,w,X):\n",
    "    suma = w0\n",
    "    for i in range(len(w)):\n",
    "        suma = suma+w[i]*X[i]\n",
    "        return suma"
   ]
  },
  {
   "cell_type": "code",
   "execution_count": 496,
   "metadata": {
    "collapsed": true
   },
   "outputs": [],
   "source": [
    "def entrena(w0,w,X_train,y,lam):\n",
    "    Nu=0.01\n",
    "    numerodedatos = len(X_train)\n",
    "    for i in range(numerodedatos):\n",
    "        sal = salida(w0,w,X_train[i])\n",
    "        error = y[i]-sal\n",
    "        w0 =w0+Nu*error\n",
    "        nodeatributos = len(X_train[i])\n",
    "        for j in range (nodeatributos):\n",
    "            w[j]=w[j]+Nu*error*X_train[i][j]-lam*w[j]\n",
    "    return w0,w"
   ]
  },
  {
   "cell_type": "code",
   "execution_count": 497,
   "metadata": {
    "collapsed": true
   },
   "outputs": [],
   "source": [
    "def ECM(w0,w,X_train,y):\n",
    "    resECM = []\n",
    "    for i in range(len(w)):\n",
    "        res = sum((y-w0-w[i]*X_train[i])**2)\n",
    "        resECM.append(res)\n",
    "    return(resECM) "
   ]
  },
  {
   "cell_type": "code",
   "execution_count": 498,
   "metadata": {
    "collapsed": true
   },
   "outputs": [],
   "source": [
    "from sklearn import preprocessing\n",
    "escalaX=preprocessing.StandardScaler()\n",
    "escalaY=preprocessing.StandardScaler()\n",
    "escalaX.fit(X_train)\n",
    "X_train=escalaX.transform(X_train)\n",
    "escalaY.fit(Y_train)\n",
    "Y_train=escalaY.transform(Y_train)\n",
    "X_traina=np.array(X_train)\n",
    "Y_traina=np.array(Y_train)"
   ]
  },
  {
   "cell_type": "code",
   "execution_count": 499,
   "metadata": {
    "collapsed": false
   },
   "outputs": [],
   "source": [
    "from random import random, randint\n",
    "w0=random()\n",
    "w=[random() for i in range(4)]"
   ]
  },
  {
   "cell_type": "code",
   "execution_count": 500,
   "metadata": {
    "collapsed": true
   },
   "outputs": [],
   "source": [
    "#Estoy dividiendo el conjunto train en dos: un nuevo train(b) y uno de validación\n",
    "X_trainb, X_valida, Y_trainb, Y_valida = train_test_split(X_traina,Y_traina, train_size=0.75)"
   ]
  },
  {
   "cell_type": "code",
   "execution_count": 501,
   "metadata": {
    "collapsed": false
   },
   "outputs": [],
   "source": [
    "lam=0\n",
    "lambdas=[]\n",
    "errores=[]\n",
    "for i in range(11):\n",
    "    w0,w=entrena(w0,w,X_trainb,Y_trainb,lam)\n",
    "    errorlam=ECM(w0,w,X_valida,Y_valida) #calculo el error con el conjunto de validación\n",
    "    errorprom=errorprom=np.mean(errorlam)\n",
    "    lambdas.append(lam)\n",
    "    errores.append(errorprom)\n",
    "    #No hago la gráfica porque aún no aprendo bien a graficar y no lo he logrado\n",
    "    lam = lam+.01"
   ]
  },
  {
   "cell_type": "code",
   "execution_count": 502,
   "metadata": {
    "collapsed": false
   },
   "outputs": [],
   "source": [
    "lambdafinal = lambdas[errores.index(np.min(errores))]"
   ]
  },
  {
   "cell_type": "code",
   "execution_count": 503,
   "metadata": {
    "collapsed": true
   },
   "outputs": [],
   "source": [
    "X_testa=np.array(X_test)\n",
    "Y_testa=np.array(Y_test)"
   ]
  },
  {
   "cell_type": "code",
   "execution_count": 504,
   "metadata": {
    "collapsed": false
   },
   "outputs": [],
   "source": [
    "errortest=[]\n",
    "for i in range(10):\n",
    "    w0,w=entrena(w0,w,X_traina,Y_traina,lambdafinal)\n",
    "    errorcuad=ECM(w0,w,X_testa,Y_testa) #calculo el error con el conjunto test\n",
    "    errorcuadprom=np.mean(errorcuad)\n",
    "    errortest.append(errorcuadprom)\n",
    "    #No hago la gráfica porque aún no aprendo bien a graficar y no lo he logrado"
   ]
  },
  {
   "cell_type": "code",
   "execution_count": 505,
   "metadata": {
    "collapsed": false
   },
   "outputs": [
    {
     "data": {
      "text/plain": [
       "array([-0.03464208])"
      ]
     },
     "execution_count": 505,
     "metadata": {},
     "output_type": "execute_result"
    }
   ],
   "source": [
    "w0"
   ]
  },
  {
   "cell_type": "code",
   "execution_count": 506,
   "metadata": {
    "collapsed": false
   },
   "outputs": [
    {
     "data": {
      "text/plain": [
       "[array([ 0.09086749]),\n",
       " array([ 0.09863636]),\n",
       " array([-0.00042337]),\n",
       " array([ 0.03798993])]"
      ]
     },
     "execution_count": 506,
     "metadata": {},
     "output_type": "execute_result"
    }
   ],
   "source": [
    "w"
   ]
  },
  {
   "cell_type": "code",
   "execution_count": null,
   "metadata": {
    "collapsed": true
   },
   "outputs": [],
   "source": []
  }
 ],
 "metadata": {
  "kernelspec": {
   "display_name": "Python 2",
   "language": "python",
   "name": "python2"
  },
  "language_info": {
   "codemirror_mode": {
    "name": "ipython",
    "version": 2
   },
   "file_extension": ".py",
   "mimetype": "text/x-python",
   "name": "python",
   "nbconvert_exporter": "python",
   "pygments_lexer": "ipython2",
   "version": "2.7.10"
  }
 },
 "nbformat": 4,
 "nbformat_minor": 0
}
