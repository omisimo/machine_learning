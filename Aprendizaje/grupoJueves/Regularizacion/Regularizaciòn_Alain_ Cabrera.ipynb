{
 "cells": [
  {
   "cell_type": "code",
   "execution_count": 50,
   "metadata": {
    "collapsed": false
   },
   "outputs": [
    {
     "name": "stdout",
     "output_type": "stream",
     "text": [
      "770.523271154\n"
     ]
    }
   ],
   "source": [
    "from sklearn.cross_validation import train_test_split\n",
    "import matplotlib.pyplot as plt\n",
    "import numpy as np \n",
    "from sklearn.linear_model import LinearRegression\n",
    "from sklearn.linear_model import Ridge\n",
    "from sklearn import preprocessing\n",
    "import pandas as pd\n",
    "import csv\n",
    "\n",
    "\n",
    "def salida(w0,w,X):\n",
    "    x=[dato for dato in X]\n",
    "    sum=w0\n",
    "    for i in range(len(w)):\n",
    "        sum=sum+w[i]*x[i]\n",
    "        \n",
    "    return sum\n",
    "    \n",
    "def entrena(w0,w,X_train,Y_train,numVariables,l):\n",
    "    nu=0.0001\n",
    "    numPuntos=len(X_train)\n",
    "    for i in range(numPuntos):\n",
    "        sal=salida(w0,w,X_train[i])\n",
    "        error=Y_train[i]-sal\n",
    "        w0=w0+nu*error           \n",
    "        listanueva =[w[j] + nu*error*X_train[i][j]-(l*w[j]) for j in range(numVariables)]\n",
    "        w=[dato for dato in listanueva]\n",
    "    return w0, w\n",
    "\n",
    "def evaluaerror(w0,w,X,Y):\n",
    "    numPuntos=len(Y)\n",
    "    errores=[0 for dato in X]\n",
    "    for i in range(numPuntos):\n",
    "        sal=salida(w0,w,X[i])\n",
    "        error=Y[i]-sal\n",
    "        errores[i]=error\n",
    "    return errores\n",
    "    \n",
    "\n",
    "\n",
    "df = pd.read_csv(\"regLinPoli.csv\")\n",
    "\n",
    "x=df[['X','X2','X3','X4']]\n",
    "\n",
    "y=df['y']\n",
    "\n",
    "X_train, X_test, Y_train, Y_test = train_test_split(x,y, train_size=0.75)\n",
    "\n",
    "\n",
    "\n",
    "scaleX=preprocessing.StandardScaler()\n",
    "scaleY=preprocessing.StandardScaler()\n",
    "\n",
    "scaleX.fit(X_train)\n",
    "X_train=scaleX.transform(X_train)\n",
    "\n",
    "scaleY.fit(Y_train)\n",
    "Y_train=scaleY.transform(Y_train)\n",
    "      \n",
    "w0=1\n",
    "w=[]\n",
    "w.append(1)\n",
    "w.append(1)  \n",
    "w.append(1)\n",
    "w.append(1)  \n",
    "for i in range(100):\n",
    "    w0,w=entrena(w0,w,X_train,Y_train,4,0.5)\n",
    "\n",
    "\n",
    "    \n",
    "    \n",
    "    \n",
    "clf = Ridge(alpha=0.5)\n",
    "modelo=clf.fit(X_train,Y_train) \n",
    "\n",
    "gnb = LinearRegression()\n",
    "\n",
    "modelo=gnb.fit(X_train,Y_train)\n",
    "\n",
    "error=evaluaerror(w0,w,X_train,Y_train)\n",
    "print np.inner(error, error)"
   ]
  },
  {
   "cell_type": "code",
   "execution_count": 13,
   "metadata": {
    "collapsed": false
   },
   "outputs": [
    {
     "name": "stdout",
     "output_type": "stream",
     "text": [
      "0.000264591927852\n",
      "[0.00046128779866656588, 0.00056170448839565931, 1.6574062801913248e-05, 0.00023310725514674694]\n"
     ]
    }
   ],
   "source": [
    "print w0\n",
    "print w"
   ]
  },
  {
   "cell_type": "code",
   "execution_count": 62,
   "metadata": {
    "collapsed": false
   },
   "outputs": [],
   "source": [
    "import numpy as np \n",
    "import matplotlib.pyplot as plt\n",
    "\n",
    "x=np.arange(0,1,0.1)\n",
    "er=np.arange(0,1,0.1)\n",
    "for i in range(10):\n",
    "    w0=1\n",
    "    w=[]\n",
    "    w.append(1)\n",
    "    w.append(1)  \n",
    "    w.append(1)\n",
    "    w.append(1)  \n",
    "    for j in range(100):\n",
    "        w0,w=entrena(w0,w,X_train,Y_train,4,x[i])\n",
    "    error=evaluaerror(w0,w,X_train,Y_train)\n",
    "    er[i]=np.inner(error, error)\n",
    "plt.plot(x,er)\n",
    "plt.show()"
   ]
  },
  {
   "cell_type": "code",
   "execution_count": 63,
   "metadata": {
    "collapsed": false
   },
   "outputs": [
    {
     "name": "stdout",
     "output_type": "stream",
     "text": [
      "[ 0.   0.1  0.2  0.3  0.4  0.5  0.6  0.7  0.8  0.9]\n"
     ]
    }
   ],
   "source": [
    "print x"
   ]
  },
  {
   "cell_type": "code",
   "execution_count": 64,
   "metadata": {
    "collapsed": false
   },
   "outputs": [
    {
     "name": "stdout",
     "output_type": "stream",
     "text": [
      "[  26.00363306  767.99630932  769.51639876  770.06662506  770.35403407\n",
      "  770.52327115  770.62975503  770.70136677  770.75385075  770.79634917]\n"
     ]
    }
   ],
   "source": [
    "print er"
   ]
  },
  {
   "cell_type": "code",
   "execution_count": 65,
   "metadata": {
    "collapsed": false
   },
   "outputs": [
    {
     "name": "stdout",
     "output_type": "stream",
     "text": [
      "26.0036330566\n"
     ]
    }
   ],
   "source": [
    "print min(er)"
   ]
  },
  {
   "cell_type": "code",
   "execution_count": null,
   "metadata": {
    "collapsed": true
   },
   "outputs": [],
   "source": []
  },
  {
   "cell_type": "code",
   "execution_count": null,
   "metadata": {
    "collapsed": true
   },
   "outputs": [],
   "source": []
  }
 ],
 "metadata": {
  "kernelspec": {
   "display_name": "Python 2",
   "language": "python",
   "name": "python2"
  },
  "language_info": {
   "codemirror_mode": {
    "name": "ipython",
    "version": 2
   },
   "file_extension": ".py",
   "mimetype": "text/x-python",
   "name": "python",
   "nbconvert_exporter": "python",
   "pygments_lexer": "ipython2",
   "version": "2.7.10"
  }
 },
 "nbformat": 4,
 "nbformat_minor": 0
}
