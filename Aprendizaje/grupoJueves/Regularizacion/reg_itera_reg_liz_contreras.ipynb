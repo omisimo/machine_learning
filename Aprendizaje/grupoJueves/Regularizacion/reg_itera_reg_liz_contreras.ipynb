{
 "cells": [
  {
   "cell_type": "markdown",
   "metadata": {},
   "source": [
    "#Regresión Iterativa"
   ]
  },
  {
   "cell_type": "markdown",
   "metadata": {},
   "source": [
    "Lizbeth Contreras Figueroa"
   ]
  },
  {
   "cell_type": "code",
   "execution_count": 1,
   "metadata": {
    "collapsed": true
   },
   "outputs": [],
   "source": [
    "import pandas as pd\n",
    "import numpy as np\n",
    "import csv\n",
    "from sklearn.cross_validation import train_test_split\n",
    "from sklearn import preprocessing\n",
    "import matplotlib.pyplot as plt\n",
    "%matplotlib inline"
   ]
  },
  {
   "cell_type": "code",
   "execution_count": 2,
   "metadata": {
    "collapsed": false
   },
   "outputs": [],
   "source": [
    "datos = pd.read_csv(\"regLinPoli.csv\")"
   ]
  },
  {
   "cell_type": "code",
   "execution_count": 3,
   "metadata": {
    "collapsed": false
   },
   "outputs": [
    {
     "data": {
      "text/html": [
       "<div>\n",
       "<table border=\"1\" class=\"dataframe\">\n",
       "  <thead>\n",
       "    <tr style=\"text-align: right;\">\n",
       "      <th></th>\n",
       "      <th>X</th>\n",
       "      <th>X2</th>\n",
       "      <th>X3</th>\n",
       "      <th>X4</th>\n",
       "      <th>y</th>\n",
       "    </tr>\n",
       "  </thead>\n",
       "  <tbody>\n",
       "    <tr>\n",
       "      <th>0</th>\n",
       "      <td>7.317938</td>\n",
       "      <td>53.552216</td>\n",
       "      <td>1.683319</td>\n",
       "      <td>0.859736</td>\n",
       "      <td>20.716319</td>\n",
       "    </tr>\n",
       "    <tr>\n",
       "      <th>1</th>\n",
       "      <td>1.284357</td>\n",
       "      <td>1.649574</td>\n",
       "      <td>3.395139</td>\n",
       "      <td>0.959256</td>\n",
       "      <td>8.098008</td>\n",
       "    </tr>\n",
       "    <tr>\n",
       "      <th>2</th>\n",
       "      <td>97.740652</td>\n",
       "      <td>9553.235088</td>\n",
       "      <td>0.366480</td>\n",
       "      <td>-0.344100</td>\n",
       "      <td>5992.603427</td>\n",
       "    </tr>\n",
       "    <tr>\n",
       "      <th>3</th>\n",
       "      <td>17.753591</td>\n",
       "      <td>315.190006</td>\n",
       "      <td>-1.945300</td>\n",
       "      <td>-0.889370</td>\n",
       "      <td>199.959361</td>\n",
       "    </tr>\n",
       "    <tr>\n",
       "      <th>4</th>\n",
       "      <td>66.441081</td>\n",
       "      <td>4414.417290</td>\n",
       "      <td>0.504995</td>\n",
       "      <td>-0.450777</td>\n",
       "      <td>2384.624168</td>\n",
       "    </tr>\n",
       "  </tbody>\n",
       "</table>\n",
       "</div>"
      ],
      "text/plain": [
       "           X           X2        X3        X4            y\n",
       "0   7.317938    53.552216  1.683319  0.859736    20.716319\n",
       "1   1.284357     1.649574  3.395139  0.959256     8.098008\n",
       "2  97.740652  9553.235088  0.366480 -0.344100  5992.603427\n",
       "3  17.753591   315.190006 -1.945300 -0.889370   199.959361\n",
       "4  66.441081  4414.417290  0.504995 -0.450777  2384.624168"
      ]
     },
     "execution_count": 3,
     "metadata": {},
     "output_type": "execute_result"
    }
   ],
   "source": [
    "datos.head()"
   ]
  },
  {
   "cell_type": "markdown",
   "metadata": {},
   "source": [
    "Se separan los datos en entrenamiento y prueba"
   ]
  },
  {
   "cell_type": "code",
   "execution_count": 4,
   "metadata": {
    "collapsed": true
   },
   "outputs": [],
   "source": [
    "X_train, X_test, Y_train, Y_test = train_test_split(datos[['X', 'X2', 'X3', 'X4']], datos['y'], train_size = 0.75)"
   ]
  },
  {
   "cell_type": "markdown",
   "metadata": {},
   "source": [
    "Se definen las funciones de salida y entrenamiento"
   ]
  },
  {
   "cell_type": "code",
   "execution_count": 5,
   "metadata": {
    "collapsed": true
   },
   "outputs": [],
   "source": [
    "def salida (w0, W, X1):\n",
    "    V_X = w0\n",
    "    for k in range(len(W)):\n",
    "        V_X = V_X + (W[k] * X1[k])\n",
    "    return V_X"
   ]
  },
  {
   "cell_type": "code",
   "execution_count": 6,
   "metadata": {
    "collapsed": true
   },
   "outputs": [],
   "source": [
    "def entrena(w0, W, X, Y, nu, lamb):\n",
    "    for i in range(len(X)):\n",
    "        X1 = X.iloc[i]\n",
    "        sal = salida(w0, W, X1)\n",
    "        error = Y.iloc[i] - sal\n",
    "        w0 = w0 + (nu * error)\n",
    "        for j in range(len(X1)):\n",
    "            W[j] = W[j] + (nu * error * X.iloc[i][j]) - (lamb * W[j])\n",
    "    return w0, W"
   ]
  },
  {
   "cell_type": "code",
   "execution_count": 7,
   "metadata": {
    "collapsed": true
   },
   "outputs": [],
   "source": [
    "w0 = float(np.random.randint(-5, 5, 1))\n",
    "W = list(np.random.randint(-5, 5, 4))\n",
    "nu = 0.01\n",
    "lam = 0.05"
   ]
  },
  {
   "cell_type": "code",
   "execution_count": 8,
   "metadata": {
    "collapsed": false
   },
   "outputs": [
    {
     "data": {
      "text/plain": [
       "(nan, [nan, nan, nan, nan])"
      ]
     },
     "execution_count": 8,
     "metadata": {},
     "output_type": "execute_result"
    }
   ],
   "source": [
    "res = entrena(w0, W, X_train, Y_train, nu, lam)\n",
    "res"
   ]
  },
  {
   "cell_type": "markdown",
   "metadata": {},
   "source": [
    "Como no se transformaron los datos arroja error. Por tanto se transforman"
   ]
  },
  {
   "cell_type": "code",
   "execution_count": 9,
   "metadata": {
    "collapsed": true
   },
   "outputs": [],
   "source": [
    "X_scaler = preprocessing.StandardScaler().fit(X_train)\n",
    "Y_scaler = preprocessing.StandardScaler().fit(Y_train)"
   ]
  },
  {
   "cell_type": "code",
   "execution_count": 10,
   "metadata": {
    "collapsed": true
   },
   "outputs": [],
   "source": [
    "X_scaler_p = preprocessing.StandardScaler().fit(X_test)\n",
    "Y_scaler_p = preprocessing.StandardScaler().fit(Y_test)"
   ]
  },
  {
   "cell_type": "code",
   "execution_count": 11,
   "metadata": {
    "collapsed": true
   },
   "outputs": [],
   "source": [
    "Xscaler = X_scaler.transform(X_train)\n",
    "Yscaler = Y_scaler.transform(Y_train)"
   ]
  },
  {
   "cell_type": "code",
   "execution_count": 12,
   "metadata": {
    "collapsed": true
   },
   "outputs": [],
   "source": [
    "Xscaler_p = X_scaler_p.transform(X_test)\n",
    "Yscaler_p = Y_scaler_p.transform(Y_test)"
   ]
  },
  {
   "cell_type": "code",
   "execution_count": 13,
   "metadata": {
    "collapsed": true
   },
   "outputs": [],
   "source": [
    "Xscaler = pd.DataFrame(Xscaler)\n",
    "Yscaler = pd.DataFrame(Yscaler)"
   ]
  },
  {
   "cell_type": "code",
   "execution_count": 14,
   "metadata": {
    "collapsed": true
   },
   "outputs": [],
   "source": [
    "Xscaler_p = pd.DataFrame(Xscaler_p)\n",
    "Yscaler_p = pd.DataFrame(Yscaler_p)"
   ]
  },
  {
   "cell_type": "markdown",
   "metadata": {},
   "source": [
    "###Regresión regularizada"
   ]
  },
  {
   "cell_type": "code",
   "execution_count": 1,
   "metadata": {
    "collapsed": false
   },
   "outputs": [
    {
     "ename": "NameError",
     "evalue": "name 'np' is not defined",
     "output_type": "error",
     "traceback": [
      "\u001b[1;31m---------------------------------------------------------------------------\u001b[0m",
      "\u001b[1;31mNameError\u001b[0m                                 Traceback (most recent call last)",
      "\u001b[1;32m<ipython-input-1-21b7e65bf31b>\u001b[0m in \u001b[0;36m<module>\u001b[1;34m()\u001b[0m\n\u001b[1;32m----> 1\u001b[1;33m \u001b[0mw0\u001b[0m \u001b[1;33m=\u001b[0m \u001b[0mfloat\u001b[0m\u001b[1;33m(\u001b[0m\u001b[0mnp\u001b[0m\u001b[1;33m.\u001b[0m\u001b[0mrandom\u001b[0m\u001b[1;33m.\u001b[0m\u001b[0mrandint\u001b[0m\u001b[1;33m(\u001b[0m\u001b[1;33m-\u001b[0m\u001b[1;36m10\u001b[0m\u001b[1;33m,\u001b[0m \u001b[1;36m10\u001b[0m\u001b[1;33m,\u001b[0m \u001b[1;36m1\u001b[0m\u001b[1;33m)\u001b[0m\u001b[1;33m)\u001b[0m\u001b[1;33m\u001b[0m\u001b[0m\n\u001b[0m\u001b[0;32m      2\u001b[0m \u001b[0mW\u001b[0m \u001b[1;33m=\u001b[0m \u001b[0mlist\u001b[0m\u001b[1;33m(\u001b[0m\u001b[0mnp\u001b[0m\u001b[1;33m.\u001b[0m\u001b[0mrandom\u001b[0m\u001b[1;33m.\u001b[0m\u001b[0mrandint\u001b[0m\u001b[1;33m(\u001b[0m\u001b[1;33m-\u001b[0m\u001b[1;36m10\u001b[0m\u001b[1;33m,\u001b[0m \u001b[1;36m10\u001b[0m\u001b[1;33m,\u001b[0m \u001b[1;36m4\u001b[0m\u001b[1;33m)\u001b[0m\u001b[1;33m)\u001b[0m\u001b[1;33m\u001b[0m\u001b[0m\n\u001b[0;32m      3\u001b[0m \u001b[0mnu\u001b[0m \u001b[1;33m=\u001b[0m \u001b[1;36m0.01\u001b[0m\u001b[1;33m\u001b[0m\u001b[0m\n\u001b[0;32m      4\u001b[0m \u001b[0mlamb\u001b[0m \u001b[1;33m=\u001b[0m \u001b[1;36m0.05\u001b[0m\u001b[1;33m\u001b[0m\u001b[0m\n\u001b[0;32m      5\u001b[0m \u001b[0mw0\u001b[0m\u001b[1;33m\u001b[0m\u001b[0m\n",
      "\u001b[1;31mNameError\u001b[0m: name 'np' is not defined"
     ]
    }
   ],
   "source": [
    "w0 = float(np.random.randint(-10, 10, 1))\n",
    "W = list(np.random.randint(-10, 10, 4))\n",
    "nu = 0.01\n",
    "lamb = 0.05\n"
   ]
  },
  {
   "cell_type": "markdown",
   "metadata": {},
   "source": [
    "Se obtienen los resultados de los datos transformados y se obtienen los valores estimados"
   ]
  },
  {
   "cell_type": "code",
   "execution_count": 16,
   "metadata": {
    "collapsed": false
   },
   "outputs": [
    {
     "data": {
      "text/plain": [
       "(0   -0.012908\n",
       " dtype: float64, [0    0.12809\n",
       "  dtype: float64, 0    0.134116\n",
       "  dtype: float64, 0   -0.000604\n",
       "  dtype: float64, 0   -0.01558\n",
       "  dtype: float64])"
      ]
     },
     "execution_count": 16,
     "metadata": {},
     "output_type": "execute_result"
    }
   ],
   "source": [
    "res_trans = entrena(w0, W, Xscaler, Yscaler, nu, lam)\n",
    "res_trans"
   ]
  },
  {
   "cell_type": "markdown",
   "metadata": {},
   "source": []
  },
  {
   "cell_type": "code",
   "execution_count": 18,
   "metadata": {
    "collapsed": false
   },
   "outputs": [
    {
     "data": {
      "text/html": [
       "<div>\n",
       "<table border=\"1\" class=\"dataframe\">\n",
       "  <thead>\n",
       "    <tr style=\"text-align: right;\">\n",
       "      <th></th>\n",
       "      <th>0</th>\n",
       "    </tr>\n",
       "  </thead>\n",
       "  <tbody>\n",
       "    <tr>\n",
       "      <th>0</th>\n",
       "      <td>-0.092435</td>\n",
       "    </tr>\n",
       "    <tr>\n",
       "      <th>1</th>\n",
       "      <td>-0.236479</td>\n",
       "    </tr>\n",
       "    <tr>\n",
       "      <th>2</th>\n",
       "      <td>0.040066</td>\n",
       "    </tr>\n",
       "    <tr>\n",
       "      <th>3</th>\n",
       "      <td>-0.304015</td>\n",
       "    </tr>\n",
       "    <tr>\n",
       "      <th>4</th>\n",
       "      <td>-0.019824</td>\n",
       "    </tr>\n",
       "  </tbody>\n",
       "</table>\n",
       "</div>"
      ],
      "text/plain": [
       "          0\n",
       "0 -0.092435\n",
       "1 -0.236479\n",
       "2  0.040066\n",
       "3 -0.304015\n",
       "4 -0.019824"
      ]
     },
     "execution_count": 18,
     "metadata": {},
     "output_type": "execute_result"
    }
   ],
   "source": [
    "y_est_tr = float(res_trans[0]) + (Xscaler[0] * float(res_trans[1][0])) + (Xscaler[1] * float(res_trans[1][1])) +  (Xscaler[2] * float(res_trans[1][2])) + (Xscaler[3] * float(res_trans[1][3]))\n",
    "y_est_tr = pd.DataFrame(y_est_tr)\n",
    "y_est_tr.head()"
   ]
  },
  {
   "cell_type": "code",
   "execution_count": 20,
   "metadata": {
    "collapsed": false
   },
   "outputs": [
    {
     "data": {
      "image/png": "[encoded data removed]",
      "text/plain": [
       "<matplotlib.figure.Figure at 0x174206a0>"
      ]
     },
     "metadata": {},
     "output_type": "display_data"
    }
   ],
   "source": [
    "plt.scatter(Xscaler[0], Yscaler[0], color = 'blue')\n",
    "plt.plot(Xscaler[0], y_est_tr, color = 'red', linewidth = 2)\n",
    "plt.show()"
   ]
  },
  {
   "cell_type": "markdown",
   "metadata": {},
   "source": [
    "Se dan diferentes valores a lambda"
   ]
  },
  {
   "cell_type": "code",
   "execution_count": 36,
   "metadata": {
    "collapsed": true
   },
   "outputs": [],
   "source": [
    "w0_i = float(np.random.randint(-5, 5, 1))\n",
    "W_i = list(np.random.randint(-5, 5, 4))\n",
    "nu_i = 0.01\n",
    "lam1 = list(np.arange(0, 0.001, 0.00001))"
   ]
  },
  {
   "cell_type": "code",
   "execution_count": 24,
   "metadata": {
    "collapsed": false
   },
   "outputs": [],
   "source": [
    "errores = []\n",
    "for i in range(len(lamb_i)):\n",
    "    resu_lam = entrena(w0_i, W_i, Xscaler, Yscaler, nu_i, lamb_i[i])\n",
    "    y_est_lam = float(resu_lam[0]) + (Xscaler[0] * float(resu_lam[1][0])) + (Xscaler[1] * float(resu_lam[1][1])) +  (Xscaler[2] * float(resu_lam[1][2])) + (Xscaler[3] * float(resu_lam[1][3]))\n",
    "    y_est_lam = pd.DataFrame(y_est_lam)\n",
    "    error_lam = np.mean((Yscaler - y_est_lam) ** 2)\n",
    "    errores.insert(i, error_lam)"
   ]
  },
  {
   "cell_type": "code",
   "execution_count": 38,
   "metadata": {
    "collapsed": false
   },
   "outputs": [
    {
     "data": {
      "text/plain": [
       "[0    92.683761\n",
       " dtype: float64, 0    2111.209455\n",
       " dtype: float64, 0    47024.936382\n",
       " dtype: float64, 0    1033350.182552\n",
       " dtype: float64, 0    22353316.005048\n",
       " dtype: float64, 0    4.761883e+08\n",
       " dtype: float64, 0    9.989095e+09\n",
       " dtype: float64, 0    2.063432e+11\n",
       " dtype: float64, 0    4.197296e+12\n",
       " dtype: float64, 0    8.407455e+13\n",
       " dtype: float64, 0    1.658345e+15\n",
       " dtype: float64, 0    3.221075e+16\n",
       " dtype: float64, 0    6.160870e+17\n",
       " dtype: float64, 0    1.160375e+19\n",
       " dtype: float64, 0    2.152139e+20\n",
       " dtype: float64, 0    3.930585e+21\n",
       " dtype: float64, 0    7.069020e+22\n",
       " dtype: float64, 0    1.251919e+24\n",
       " dtype: float64, 0    2.183275e+25\n",
       " dtype: float64, 0    3.749345e+26\n",
       " dtype: float64, 0    6.340410e+27\n",
       " dtype: float64, 0    1.055830e+29\n",
       " dtype: float64, 0    1.731353e+30\n",
       " dtype: float64, 0    2.795708e+31\n",
       " dtype: float64, 0    4.445419e+32\n",
       " dtype: float64, 0    6.960624e+33\n",
       " dtype: float64, 0    1.073243e+35\n",
       " dtype: float64, 0    1.629531e+36\n",
       " dtype: float64, 0    2.436361e+37\n",
       " dtype: float64, 0    3.587029e+38\n",
       " dtype: float64, 0    5.200468e+39\n",
       " dtype: float64, 0    7.424450e+40\n",
       " dtype: float64, 0    1.043759e+42\n",
       " dtype: float64, 0    1.444942e+43\n",
       " dtype: float64, 0    1.969766e+44\n",
       " dtype: float64, 0    2.644192e+45\n",
       " dtype: float64, 0    3.495306e+46\n",
       " dtype: float64, 0    4.549789e+47\n",
       " dtype: float64, 0    5.831916e+48\n",
       " dtype: float64, 0    7.361139e+49\n",
       " dtype: float64, 0    9.149397e+50\n",
       " dtype: float64, 0    1.119834e+52\n",
       " dtype: float64, 0    1.349672e+53\n",
       " dtype: float64, 0    1.601831e+54\n",
       " dtype: float64, 0    1.872055e+55\n",
       " dtype: float64, 0    2.154437e+56\n",
       " dtype: float64, 0    2.441532e+57\n",
       " dtype: float64, 0    2.724610e+58\n",
       " dtype: float64, 0    2.994054e+59\n",
       " dtype: float64, 0    3.239873e+60\n",
       " dtype: float64, 0    3.452309e+61\n",
       " dtype: float64, 0    3.622466e+62\n",
       " dtype: float64, 0    3.742933e+63\n",
       " dtype: float64, 0    3.808314e+64\n",
       " dtype: float64, 0    3.815632e+65\n",
       " dtype: float64, 0    3.764549e+66\n",
       " dtype: float64, 0    3.657398e+67\n",
       " dtype: float64, 0    3.499003e+68\n",
       " dtype: float64, 0    3.296318e+69\n",
       " dtype: float64, 0    3.057923e+70\n",
       " dtype: float64, 0    2.793422e+71\n",
       " dtype: float64, 0    2.512806e+72\n",
       " dtype: float64, 0    2.225840e+73\n",
       " dtype: float64, 0    1.941518e+74\n",
       " dtype: float64, 0    1.667636e+75\n",
       " dtype: float64, 0    1.410500e+76\n",
       " dtype: float64, 0    1.174783e+77\n",
       " dtype: float64, 0    9.635049e+77\n",
       " dtype: float64, 0    7.781486e+78\n",
       " dtype: float64, 0    6.188469e+79\n",
       " dtype: float64, 0    4.846362e+80\n",
       " dtype: float64, 0    3.737322e+81\n",
       " dtype: float64, 0    2.838030e+82\n",
       " dtype: float64, 0    2.122196e+83\n",
       " dtype: float64, 0    1.562664e+84\n",
       " dtype: float64, 0    1.133072e+85\n",
       " dtype: float64, 0    8.090232e+85\n",
       " dtype: float64, 0    5.688217e+86\n",
       " dtype: float64, 0    3.938247e+87\n",
       " dtype: float64, 0    2.684980e+88\n",
       " dtype: float64, 0    1.802564e+89\n",
       " dtype: float64, 0    1.191659e+90\n",
       " dtype: float64, 0    7.757544e+90\n",
       " dtype: float64, 0    4.972880e+91\n",
       " dtype: float64, 0    3.139083e+92\n",
       " dtype: float64, 0    1.951232e+93\n",
       " dtype: float64, 0    1.194335e+94\n",
       " dtype: float64, 0    7.198703e+94\n",
       " dtype: float64, 0    4.272612e+95\n",
       " dtype: float64, 0    2.497144e+96\n",
       " dtype: float64, 0    1.437158e+97\n",
       " dtype: float64, 0    8.144726e+97\n",
       " dtype: float64, 0    4.545264e+98\n",
       " dtype: float64, 0    2.497770e+99\n",
       " dtype: float64, 0    1.351626e+100\n",
       " dtype: float64, 0    7.202297e+100\n",
       " dtype: float64, 0    3.779168e+101\n",
       " dtype: float64, 0    1.952683e+102\n",
       " dtype: float64, 0    9.935228e+102\n",
       " dtype: float64, 0    4.977763e+103\n",
       " dtype: float64]"
      ]
     },
     "execution_count": 38,
     "metadata": {},
     "output_type": "execute_result"
    }
   ],
   "source": [
    "errores"
   ]
  },
  {
   "cell_type": "code",
   "execution_count": 39,
   "metadata": {
    "collapsed": false
   },
   "outputs": [
    {
     "data": {
      "image/png": "[encoded data removed]",
      "text/plain": [
       "<matplotlib.figure.Figure at 0x179aae48>"
      ]
     },
     "metadata": {},
     "output_type": "display_data"
    }
   ],
   "source": [
    "plt.plot(lamb_i, errores)\n",
    "plt.show()"
   ]
  },
  {
   "cell_type": "code",
   "execution_count": 29,
   "metadata": {
    "collapsed": false
   },
   "outputs": [
    {
     "data": {
      "text/plain": [
       "0    2.243717e+106\n",
       "dtype: float64"
      ]
     },
     "execution_count": 29,
     "metadata": {},
     "output_type": "execute_result"
    }
   ],
   "source": [
    "res2 = entrena(w0_i, W_i, Xscaler, Yscaler, nu_i, lamb_i[1])\n",
    "y_est2 = float(res2[0]) + (Xscaler[0] * float(res2[1][0])) + (Xscaler[1] * float(res2[1][1])) +  (Xscaler[2] * float(res2[1][2])) + (Xscaler[3] * float(res2[1][3]))\n",
    "y_est2 = pd.DataFrame(y_est2)\n",
    "error2 = np.mean((Yscaler - y_est2) ** 2)\n",
    "error2"
   ]
  },
  {
   "cell_type": "code",
   "execution_count": 31,
   "metadata": {
    "collapsed": false
   },
   "outputs": [
    {
     "data": {
      "image/png": "[encoded data removed]",
      "text/plain": [
       "<matplotlib.figure.Figure at 0x17a3e1d0>"
      ]
     },
     "metadata": {},
     "output_type": "display_data"
    }
   ],
   "source": [
    "plt.scatter(Xscaler[0], Yscaler[0], color = 'blue')\n",
    "plt.plot(Xscaler[0], y_est2, color = 'red')\n",
    "plt.show()"
   ]
  },
  {
   "cell_type": "code",
   "execution_count": 32,
   "metadata": {
    "collapsed": false
   },
   "outputs": [
    {
     "data": {
      "text/plain": [
       "(0   -3.811961e+51\n",
       " dtype: float64, [0   -4.969741e+50\n",
       "  dtype: float64, 0    1.637400e+51\n",
       "  dtype: float64, 0    2.536255e+52\n",
       "  dtype: float64, 0   -3.015314e+51\n",
       "  dtype: float64])"
      ]
     },
     "execution_count": 32,
     "metadata": {},
     "output_type": "execute_result"
    }
   ],
   "source": [
    "res_test = entrena(w0_i, W_i, Xscaler_p, Yscaler_p, nu_i, lamb_i[1])\n",
    "res_test"
   ]
  },
  {
   "cell_type": "code",
   "execution_count": 33,
   "metadata": {
    "collapsed": false
   },
   "outputs": [
    {
     "data": {
      "text/html": [
       "<div>\n",
       "<table border=\"1\" class=\"dataframe\">\n",
       "  <thead>\n",
       "    <tr style=\"text-align: right;\">\n",
       "      <th></th>\n",
       "      <th>0</th>\n",
       "    </tr>\n",
       "  </thead>\n",
       "  <tbody>\n",
       "    <tr>\n",
       "      <th>0</th>\n",
       "      <td>9.926560e+51</td>\n",
       "    </tr>\n",
       "    <tr>\n",
       "      <th>1</th>\n",
       "      <td>2.354402e+51</td>\n",
       "    </tr>\n",
       "    <tr>\n",
       "      <th>2</th>\n",
       "      <td>8.514728e+51</td>\n",
       "    </tr>\n",
       "    <tr>\n",
       "      <th>3</th>\n",
       "      <td>9.103031e+51</td>\n",
       "    </tr>\n",
       "    <tr>\n",
       "      <th>4</th>\n",
       "      <td>9.798128e+51</td>\n",
       "    </tr>\n",
       "  </tbody>\n",
       "</table>\n",
       "</div>"
      ],
      "text/plain": [
       "              0\n",
       "0  9.926560e+51\n",
       "1  2.354402e+51\n",
       "2  8.514728e+51\n",
       "3  9.103031e+51\n",
       "4  9.798128e+51"
      ]
     },
     "execution_count": 33,
     "metadata": {},
     "output_type": "execute_result"
    }
   ],
   "source": [
    "y_est_p = float(res2[0]) + (Xscaler_p[0] * float(res2[1][0])) + (Xscaler_p[1] * float(res2[1][1])) +  (Xscaler_p[2] * float(res2[1][2])) + (Xscaler_p[3] * float(res2[1][3]))\n",
    "y_est_p = pd.DataFrame(y_est_p)\n",
    "y_est_p.head()"
   ]
  },
  {
   "cell_type": "code",
   "execution_count": 34,
   "metadata": {
    "collapsed": false
   },
   "outputs": [
    {
     "data": {
      "image/png": "[encoded data removed]",
      "text/plain": [
       "<matplotlib.figure.Figure at 0x17989f28>"
      ]
     },
     "metadata": {},
     "output_type": "display_data"
    }
   ],
   "source": [
    "plt.scatter(Xscaler_p[0], Yscaler_p[0], color = 'blue')\n",
    "plt.plot(Xscaler_p[0], y_est_p, color = 'red', linewidth = 2)\n",
    "plt.show()"
   ]
  }
 ],
 "metadata": {
  "kernelspec": {
   "display_name": "Python 2",
   "language": "python",
   "name": "python2"
  },
  "language_info": {
   "codemirror_mode": {
    "name": "ipython",
    "version": 2
   },
   "file_extension": ".py",
   "mimetype": "text/x-python",
   "name": "python",
   "nbconvert_exporter": "python",
   "pygments_lexer": "ipython2",
   "version": "2.7.10"
  }
 },
 "nbformat": 4,
 "nbformat_minor": 0
}
