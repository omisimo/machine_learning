{
 "metadata": {
  "name": "",
  "signature": "sha256:6331f7ed7b965ce6c5901e9ea4908f96400e1aaaef6d31f0a9f9978f21095573"
 },
 "nbformat": 3,
 "nbformat_minor": 0,
 "worksheets": [
  {
   "cells": [
    {
     "cell_type": "heading",
     "level": 2,
     "metadata": {},
     "source": [
      "Regresi\u00f3n Lineal Iterativa Regularizada: Regularizaci\u00f3n Ridge"
     ]
    },
    {
     "cell_type": "code",
     "collapsed": false,
     "input": [
      "import pandas as pd\n",
      "import numpy as np\n",
      "import matplotlib.pyplot as plt\n",
      "%matplotlib inline\n",
      "from sklearn.cross_validation import train_test_split\n",
      "from sklearn import preprocessing\n",
      "import random as rd"
     ],
     "language": "python",
     "metadata": {},
     "outputs": [],
     "prompt_number": 2
    },
    {
     "cell_type": "heading",
     "level": 3,
     "metadata": {},
     "source": [
      "Funciones para el algoritmo"
     ]
    },
    {
     "cell_type": "code",
     "collapsed": false,
     "input": [
      "def get_y(df):\n",
      "    y = df.iloc[:,(df.shape[1]-1)]\n",
      "    return y\n",
      "\n",
      "\n",
      "\n",
      "def get_xs(df):\n",
      "    df = df.iloc[:,0:(df.shape[1]-1)]\n",
      "    return df\n",
      "\n",
      "\n",
      "\n",
      "def add_x0(df):\n",
      "    x0 = [1 for i in range(0,len(df))]\n",
      "    x0 = pd.Series(x0)\n",
      "\n",
      "    df['x0'] = x0\n",
      "    return df\n",
      "\n",
      "\n",
      "\n",
      "def initializeWs(df):\n",
      "    w = [1 for i in range(df.shape[1])]\n",
      "  \n",
      "    #print len(w)\n",
      "    return w\n",
      "\n",
      "\n",
      "\n",
      "def lmsRegularizedAlgorithm(df, w, y, eta, lambda_selected):\n",
      "\n",
      "    ws = list()\n",
      "    for i in range(df.shape[0]): \n",
      "        xi_wi = [df.iloc[i,j] * w[j] for j in range(df.shape[1])]\n",
      "\n",
      "        #Calcular el error y - sum(xiwi)\n",
      "        error = y[i] - sum(xi_wi)\n",
      "\n",
      "        #Calcular el nuevo valor de Wi  wi + eta(xi)(error)\n",
      "        w0_actualizado = w[df.shape[1]-1] + eta*error\n",
      "        wi_actualizado = [w[j] + eta*(error*df.iloc[i,j]) - lambda_selected*w[j] for j in range(df.shape[1]-1)]\n",
      "        #wi_actualizado = [w[j]+ eta*error*df.iloc[i,j] for j in range(df.shape[1])]\n",
      "        #w = wi_actualizado\n",
      "        ws_actualizado = [w0_actualizado, wi_actualizado]\n",
      "\n",
      "        #Calcular el valor actualizado de xi_wi\n",
      "        #xi_wi_actualizado = [df.iloc[i,j] * wi_actualizado[j] for j in range(df.shape[1])]\n",
      "\n",
      "        #Calcular el nuevo error\n",
      "        #error_actualizado = y[i] - sum(xi_wi_actualizado)\n",
      "        #print 'error actualizado:', error_actualizado\n",
      "\n",
      "        #Agregar error a lista\n",
      "        ws.append(ws_actualizado)\n",
      "        \n",
      "        #lo que queremos regresar son las \u00faltimas w's calculadas para ocuparlas en la regresi\u00f3n\n",
      "\n",
      "    return ws[len(ws)-1]"
     ],
     "language": "python",
     "metadata": {},
     "outputs": [],
     "prompt_number": 3
    },
    {
     "cell_type": "heading",
     "level": 3,
     "metadata": {},
     "source": [
      "Datos RegLinPoli"
     ]
    },
    {
     "cell_type": "code",
     "collapsed": false,
     "input": [
      "regLinPoli = pd.read_csv(\"../datos/regLinPoli.csv\")\n",
      "regLinPoli.shape"
     ],
     "language": "python",
     "metadata": {},
     "outputs": [
      {
       "metadata": {},
       "output_type": "pyout",
       "prompt_number": 4,
       "text": [
        "(1029, 5)"
       ]
      }
     ],
     "prompt_number": 4
    },
    {
     "cell_type": "code",
     "collapsed": false,
     "input": [
      "regLinPoli.head()"
     ],
     "language": "python",
     "metadata": {},
     "outputs": [
      {
       "output_type": "stream",
       "stream": "stderr",
       "text": [
        "/Library/Python/2.7/site-packages/pandas-0.12.0-py2.7-macosx-10.9-intel.egg/pandas/core/config.py:570: DeprecationWarning: height has been deprecated.\n",
        "\n",
        "  warnings.warn(d.msg, DeprecationWarning)\n",
        "/Library/Python/2.7/site-packages/pandas-0.12.0-py2.7-macosx-10.9-intel.egg/pandas/core/config.py:570: DeprecationWarning: height has been deprecated.\n",
        "\n",
        "  warnings.warn(d.msg, DeprecationWarning)\n"
       ]
      },
      {
       "html": [
        "<div style=\"max-height:1000px;max-width:1500px;overflow:auto;\">\n",
        "<table border=\"1\" class=\"dataframe\">\n",
        "  <thead>\n",
        "    <tr style=\"text-align: right;\">\n",
        "      <th></th>\n",
        "      <th>X</th>\n",
        "      <th>X2</th>\n",
        "      <th>X3</th>\n",
        "      <th>X4</th>\n",
        "      <th>y</th>\n",
        "    </tr>\n",
        "  </thead>\n",
        "  <tbody>\n",
        "    <tr>\n",
        "      <th>0</th>\n",
        "      <td>  7.317938</td>\n",
        "      <td>   53.552216</td>\n",
        "      <td> 1.683319</td>\n",
        "      <td> 0.859736</td>\n",
        "      <td>   20.716319</td>\n",
        "    </tr>\n",
        "    <tr>\n",
        "      <th>1</th>\n",
        "      <td>  1.284357</td>\n",
        "      <td>    1.649574</td>\n",
        "      <td> 3.395139</td>\n",
        "      <td> 0.959256</td>\n",
        "      <td>    8.098008</td>\n",
        "    </tr>\n",
        "    <tr>\n",
        "      <th>2</th>\n",
        "      <td> 97.740652</td>\n",
        "      <td> 9553.235088</td>\n",
        "      <td> 0.366480</td>\n",
        "      <td>-0.344100</td>\n",
        "      <td> 5992.603427</td>\n",
        "    </tr>\n",
        "    <tr>\n",
        "      <th>3</th>\n",
        "      <td> 17.753591</td>\n",
        "      <td>  315.190006</td>\n",
        "      <td>-1.945300</td>\n",
        "      <td>-0.889370</td>\n",
        "      <td>  199.959361</td>\n",
        "    </tr>\n",
        "    <tr>\n",
        "      <th>4</th>\n",
        "      <td> 66.441081</td>\n",
        "      <td> 4414.417290</td>\n",
        "      <td> 0.504995</td>\n",
        "      <td>-0.450777</td>\n",
        "      <td> 2384.624168</td>\n",
        "    </tr>\n",
        "  </tbody>\n",
        "</table>\n",
        "</div>"
       ],
       "metadata": {},
       "output_type": "pyout",
       "prompt_number": 5,
       "text": [
        "           X           X2        X3        X4            y\n",
        "0   7.317938    53.552216  1.683319  0.859736    20.716319\n",
        "1   1.284357     1.649574  3.395139  0.959256     8.098008\n",
        "2  97.740652  9553.235088  0.366480 -0.344100  5992.603427\n",
        "3  17.753591   315.190006 -1.945300 -0.889370   199.959361\n",
        "4  66.441081  4414.417290  0.504995 -0.450777  2384.624168"
       ]
      }
     ],
     "prompt_number": 5
    },
    {
     "cell_type": "heading",
     "level": 3,
     "metadata": {},
     "source": [
      "Separaci\u00f3n de set en entrenamiento y pruebas"
     ]
    },
    {
     "cell_type": "code",
     "collapsed": false,
     "input": [
      "X_train, X_test, Y_train, Y_test = train_test_split(regLinPoli.iloc[:,0:(regLinPoli.shape[1]-1)], regLinPoli.iloc[:,regLinPoli.shape[1]-1], train_size=0.75)\n",
      "\n",
      "X_train.shape"
     ],
     "language": "python",
     "metadata": {},
     "outputs": [
      {
       "metadata": {},
       "output_type": "pyout",
       "prompt_number": 6,
       "text": [
        "(771, 4)"
       ]
      }
     ],
     "prompt_number": 6
    },
    {
     "cell_type": "heading",
     "level": 3,
     "metadata": {},
     "source": [
      "Escalar datos"
     ]
    },
    {
     "cell_type": "code",
     "collapsed": false,
     "input": [
      "x_scaled = preprocessing.scale(X_train)"
     ],
     "language": "python",
     "metadata": {},
     "outputs": [],
     "prompt_number": 7
    },
    {
     "cell_type": "code",
     "collapsed": false,
     "input": [
      "scaledX = preprocessing.StandardScaler().fit(X_train)\n",
      "X_train = scaledX.transform(X_train)\n",
      "\n",
      "#la media debe ser ~0 y la desviaci\u00f3n est\u00e1ndar ~1\n",
      "print [X_train.mean(), X_train.std()]\n",
      "\n",
      "scaledY = preprocessing.StandardScaler().fit(Y_train)\n",
      "Y_train = scaledY.transform(Y_train)\n",
      "print [Y_train.mean(), Y_train.std()]\n",
      "\n",
      "X_test = scaledX.transform(X_test)\n",
      "Y_test = scaledY.transform(Y_test)"
     ],
     "language": "python",
     "metadata": {},
     "outputs": [
      {
       "output_type": "stream",
       "stream": "stdout",
       "text": [
        "[2.5199614696420546e-19, 0.99999999999999845]\n",
        "[-6.7930961331636529e-17, 1.0000000000000013]\n"
       ]
      }
     ],
     "prompt_number": 8
    },
    {
     "cell_type": "code",
     "collapsed": false,
     "input": [
      "y = get_y(regLinPoli)\n",
      "xs = get_xs(regLinPoli)\n",
      "eta = 0.05\n",
      "\n",
      "xs.head()"
     ],
     "language": "python",
     "metadata": {},
     "outputs": [
      {
       "output_type": "stream",
       "stream": "stderr",
       "text": [
        "/Library/Python/2.7/site-packages/pandas-0.12.0-py2.7-macosx-10.9-intel.egg/pandas/core/config.py:570: DeprecationWarning: height has been deprecated.\n",
        "\n",
        "  warnings.warn(d.msg, DeprecationWarning)\n",
        "/Library/Python/2.7/site-packages/pandas-0.12.0-py2.7-macosx-10.9-intel.egg/pandas/core/config.py:570: DeprecationWarning: height has been deprecated.\n",
        "\n",
        "  warnings.warn(d.msg, DeprecationWarning)\n"
       ]
      },
      {
       "html": [
        "<div style=\"max-height:1000px;max-width:1500px;overflow:auto;\">\n",
        "<table border=\"1\" class=\"dataframe\">\n",
        "  <thead>\n",
        "    <tr style=\"text-align: right;\">\n",
        "      <th></th>\n",
        "      <th>X</th>\n",
        "      <th>X2</th>\n",
        "      <th>X3</th>\n",
        "      <th>X4</th>\n",
        "    </tr>\n",
        "  </thead>\n",
        "  <tbody>\n",
        "    <tr>\n",
        "      <th>0</th>\n",
        "      <td>  7.317938</td>\n",
        "      <td>   53.552216</td>\n",
        "      <td> 1.683319</td>\n",
        "      <td> 0.859736</td>\n",
        "    </tr>\n",
        "    <tr>\n",
        "      <th>1</th>\n",
        "      <td>  1.284357</td>\n",
        "      <td>    1.649574</td>\n",
        "      <td> 3.395139</td>\n",
        "      <td> 0.959256</td>\n",
        "    </tr>\n",
        "    <tr>\n",
        "      <th>2</th>\n",
        "      <td> 97.740652</td>\n",
        "      <td> 9553.235088</td>\n",
        "      <td> 0.366480</td>\n",
        "      <td>-0.344100</td>\n",
        "    </tr>\n",
        "    <tr>\n",
        "      <th>3</th>\n",
        "      <td> 17.753591</td>\n",
        "      <td>  315.190006</td>\n",
        "      <td>-1.945300</td>\n",
        "      <td>-0.889370</td>\n",
        "    </tr>\n",
        "    <tr>\n",
        "      <th>4</th>\n",
        "      <td> 66.441081</td>\n",
        "      <td> 4414.417290</td>\n",
        "      <td> 0.504995</td>\n",
        "      <td>-0.450777</td>\n",
        "    </tr>\n",
        "  </tbody>\n",
        "</table>\n",
        "</div>"
       ],
       "metadata": {},
       "output_type": "pyout",
       "prompt_number": 9,
       "text": [
        "           X           X2        X3        X4\n",
        "0   7.317938    53.552216  1.683319  0.859736\n",
        "1   1.284357     1.649574  3.395139  0.959256\n",
        "2  97.740652  9553.235088  0.366480 -0.344100\n",
        "3  17.753591   315.190006 -1.945300 -0.889370\n",
        "4  66.441081  4414.417290  0.504995 -0.450777"
       ]
      }
     ],
     "prompt_number": 9
    },
    {
     "cell_type": "code",
     "collapsed": false,
     "input": [
      "X_train_df = pd.DataFrame(X_train[0:,0:])\n",
      "#agregamos el X0 = 1\n",
      "X_train_df = add_x0(X_train_df)\n",
      "X_train_df.head()"
     ],
     "language": "python",
     "metadata": {},
     "outputs": [
      {
       "output_type": "stream",
       "stream": "stderr",
       "text": [
        "/Library/Python/2.7/site-packages/pandas-0.12.0-py2.7-macosx-10.9-intel.egg/pandas/core/config.py:570: DeprecationWarning: height has been deprecated.\n",
        "\n",
        "  warnings.warn(d.msg, DeprecationWarning)\n",
        "/Library/Python/2.7/site-packages/pandas-0.12.0-py2.7-macosx-10.9-intel.egg/pandas/core/config.py:570: DeprecationWarning: height has been deprecated.\n",
        "\n",
        "  warnings.warn(d.msg, DeprecationWarning)\n"
       ]
      },
      {
       "html": [
        "<div style=\"max-height:1000px;max-width:1500px;overflow:auto;\">\n",
        "<table border=\"1\" class=\"dataframe\">\n",
        "  <thead>\n",
        "    <tr style=\"text-align: right;\">\n",
        "      <th></th>\n",
        "      <th>0</th>\n",
        "      <th>1</th>\n",
        "      <th>2</th>\n",
        "      <th>3</th>\n",
        "      <th>x0</th>\n",
        "    </tr>\n",
        "  </thead>\n",
        "  <tbody>\n",
        "    <tr>\n",
        "      <th>0</th>\n",
        "      <td>-1.116712</td>\n",
        "      <td>-0.972407</td>\n",
        "      <td> 0.051489</td>\n",
        "      <td>-0.185586</td>\n",
        "      <td> 1</td>\n",
        "    </tr>\n",
        "    <tr>\n",
        "      <th>1</th>\n",
        "      <td>-0.031321</td>\n",
        "      <td>-0.307439</td>\n",
        "      <td> 0.038613</td>\n",
        "      <td> 0.606622</td>\n",
        "      <td> 1</td>\n",
        "    </tr>\n",
        "    <tr>\n",
        "      <th>2</th>\n",
        "      <td> 1.474227</td>\n",
        "      <td> 1.701342</td>\n",
        "      <td> 0.207984</td>\n",
        "      <td> 1.346820</td>\n",
        "      <td> 1</td>\n",
        "    </tr>\n",
        "    <tr>\n",
        "      <th>3</th>\n",
        "      <td>-0.928755</td>\n",
        "      <td>-0.904233</td>\n",
        "      <td> 0.026809</td>\n",
        "      <td> 0.994618</td>\n",
        "      <td> 1</td>\n",
        "    </tr>\n",
        "    <tr>\n",
        "      <th>4</th>\n",
        "      <td>-0.218200</td>\n",
        "      <td>-0.468697</td>\n",
        "      <td> 0.060305</td>\n",
        "      <td>-0.690152</td>\n",
        "      <td> 1</td>\n",
        "    </tr>\n",
        "  </tbody>\n",
        "</table>\n",
        "</div>"
       ],
       "metadata": {},
       "output_type": "pyout",
       "prompt_number": 10,
       "text": [
        "          0         1         2         3  x0\n",
        "0 -1.116712 -0.972407  0.051489 -0.185586   1\n",
        "1 -0.031321 -0.307439  0.038613  0.606622   1\n",
        "2  1.474227  1.701342  0.207984  1.346820   1\n",
        "3 -0.928755 -0.904233  0.026809  0.994618   1\n",
        "4 -0.218200 -0.468697  0.060305 -0.690152   1"
       ]
      }
     ],
     "prompt_number": 10
    },
    {
     "cell_type": "code",
     "collapsed": false,
     "input": [
      "Y_train_s = pd.Series(Y_train)\n",
      "Y_train_s.head()"
     ],
     "language": "python",
     "metadata": {},
     "outputs": [
      {
       "metadata": {},
       "output_type": "pyout",
       "prompt_number": 11,
       "text": [
        "0   -1.002249\n",
        "1   -0.305391\n",
        "2    1.233095\n",
        "3   -0.938811\n",
        "4   -0.502546\n",
        "dtype: float64"
       ]
      }
     ],
     "prompt_number": 11
    },
    {
     "cell_type": "heading",
     "level": 3,
     "metadata": {},
     "source": [
      "Definici\u00f3n de lambdas"
     ]
    },
    {
     "cell_type": "code",
     "collapsed": false,
     "input": [
      "lambdas = [rd.random() for i in range(10)]\n",
      "lambdas"
     ],
     "language": "python",
     "metadata": {},
     "outputs": [
      {
       "metadata": {},
       "output_type": "pyout",
       "prompt_number": 12,
       "text": [
        "[0.4800451398311698,\n",
        " 0.7686666549607146,\n",
        " 0.15170159607081768,\n",
        " 0.3510694969344873,\n",
        " 0.10090816612289977,\n",
        " 0.7466243656496098,\n",
        " 0.012781389184929326,\n",
        " 0.584386632771735,\n",
        " 0.23324802753808416,\n",
        " 0.07628764052122272]"
       ]
      }
     ],
     "prompt_number": 12
    },
    {
     "cell_type": "heading",
     "level": 3,
     "metadata": {},
     "source": [
      "C\u00e1lculo de Ws"
     ]
    },
    {
     "cell_type": "code",
     "collapsed": false,
     "input": [
      "w = initializeWs(X_train_df)\n",
      "\n",
      "w_s = [lmsRegularizedAlgorithm(X_train_df, w, Y_train_s, eta, lambdas[i]) for i in range(len(lambdas))]\n",
      "w_s"
     ],
     "language": "python",
     "metadata": {},
     "outputs": [
      {
       "metadata": {},
       "output_type": "pyout",
       "prompt_number": 13,
       "text": [
        "[[0.91357490840811462,\n",
        "  [0.52844502834689755,\n",
        "   0.55170889425244418,\n",
        "   0.51400957554901716,\n",
        "   0.43918225591315807]],\n",
        " [0.91357490840811462,\n",
        "  [0.23982351321735274,\n",
        "   0.26308737912289937,\n",
        "   0.22538806041947235,\n",
        "   0.15056074078361326]],\n",
        " [0.91357490840811462,\n",
        "  [0.85678857210724968,\n",
        "   0.88005243801279631,\n",
        "   0.84235311930936929,\n",
        "   0.7675257996735102]],\n",
        " [0.91357490840811462,\n",
        "  [0.65742067124358006,\n",
        "   0.68068453714912669,\n",
        "   0.64298521844569967,\n",
        "   0.56815789880984058]],\n",
        " [0.91357490840811462,\n",
        "  [0.90758200205516759,\n",
        "   0.93084586796071422,\n",
        "   0.8931465492572872,\n",
        "   0.81831922962142811]],\n",
        " [0.91357490840811462,\n",
        "  [0.26186580252845759,\n",
        "   0.28512966843400422,\n",
        "   0.2474303497305772,\n",
        "   0.17260303009471811]],\n",
        " [0.91357490840811462,\n",
        "  [0.99570877899313803,\n",
        "   1.0189726448986847,\n",
        "   0.98127332619525764,\n",
        "   0.90644600655939855]],\n",
        " [0.91357490840811462,\n",
        "  [0.42410353540633239,\n",
        "   0.44736740131187902,\n",
        "   0.409668082608452,\n",
        "   0.33484076297259291]],\n",
        " [0.91357490840811462,\n",
        "  [0.7752421406399832,\n",
        "   0.79850600654552983,\n",
        "   0.76080668784210281,\n",
        "   0.68597936820624372]],\n",
        " [0.91357490840811462,\n",
        "  [0.93220252765684464,\n",
        "   0.95546639356239127,\n",
        "   0.91776707485896425,\n",
        "   0.84293975522310516]]]"
       ]
      }
     ],
     "prompt_number": 13
    },
    {
     "cell_type": "heading",
     "level": 3,
     "metadata": {},
     "source": [
      "Prueba de las W's en set de pruebas"
     ]
    },
    {
     "cell_type": "code",
     "collapsed": false,
     "input": [
      "errores_por_lambda = []\n",
      "for j in range(len(lambdas)):\n",
      "    errores = []\n",
      "    for i in range(X_test.shape[0]):\n",
      "        valor_x = [w_s[j][1][k] * X_test[i][k] for k in range(len(w_s[j][1]))]\n",
      "        error = (Y_test[i] - (w_s[j][0] + sum(valor_x)))**2\n",
      "    errores_por_lambda.append(np.mean(error))\n",
      "        \n",
      "errores_por_lambda"
     ],
     "language": "python",
     "metadata": {},
     "outputs": [
      {
       "metadata": {},
       "output_type": "pyout",
       "prompt_number": 14,
       "text": [
        "[1.6356108121537047,\n",
        " 1.770190929936114,\n",
        " 1.4889775270241135,\n",
        " 1.577191147054456,\n",
        " 1.4669088794267462,\n",
        " 1.7597252908165379,\n",
        " 1.4290106284713369,\n",
        " 1.6836497818692178,\n",
        " 1.5247522931647013,\n",
        " 1.4562710820798073]"
       ]
      }
     ],
     "prompt_number": 14
    },
    {
     "cell_type": "heading",
     "level": 4,
     "metadata": {},
     "source": [
      "Graficar errores de cada lambda"
     ]
    },
    {
     "cell_type": "code",
     "collapsed": false,
     "input": [
      "plt.plot(lambdas, errores_por_lambda)"
     ],
     "language": "python",
     "metadata": {},
     "outputs": [
      {
       "metadata": {},
       "output_type": "pyout",
       "prompt_number": 18,
       "text": [
        "[<matplotlib.lines.Line2D at 0x10f65fb50>]"
       ]
      },
      {
       "metadata": {},
       "output_type": "display_data",
       "png": "[encoded data removed]",
       "text": [
        "<matplotlib.figure.Figure at 0x10a960f50>"
       ]
      }
     ],
     "prompt_number": 18
    },
    {
     "cell_type": "heading",
     "level": 4,
     "metadata": {},
     "source": [
      "Seleccionar el de menor error"
     ]
    },
    {
     "cell_type": "code",
     "collapsed": false,
     "input": [
      "print 'ws', w_s[errores_por_lambda.index(min(errores_por_lambda))]\n",
      "print 'lambda', lambdas[errores_por_lambda.index(min(errores_por_lambda))]\n",
      "print 'lambdas posibles', lambdas"
     ],
     "language": "python",
     "metadata": {},
     "outputs": [
      {
       "output_type": "stream",
       "stream": "stdout",
       "text": [
        "ws [0.91357490840811462, [0.99570877899313803, 1.0189726448986847, 0.98127332619525764, 0.90644600655939855]]\n",
        "lambda 0.0127813891849\n",
        "lambdas posibles [0.4800451398311698, 0.7686666549607146, 0.15170159607081768, 0.3510694969344873, 0.10090816612289977, 0.7466243656496098, 0.012781389184929326, 0.584386632771735, 0.23324802753808416, 0.07628764052122272]\n"
       ]
      }
     ],
     "prompt_number": 17
    },
    {
     "cell_type": "code",
     "collapsed": false,
     "input": [
      "plt.plot()"
     ],
     "language": "python",
     "metadata": {},
     "outputs": [
      {
       "metadata": {},
       "output_type": "pyout",
       "prompt_number": 21,
       "text": [
        "[<matplotlib.lines.Line2D at 0x111a631d0>]"
       ]
      },
      {
       "metadata": {},
       "output_type": "display_data",
       "png": "[encoded data removed]",
       "text": [
        "<matplotlib.figure.Figure at 0x1112cfd90>"
       ]
      }
     ],
     "prompt_number": 21
    },
    {
     "cell_type": "markdown",
     "metadata": {},
     "source": [
      "Algorimto: \n",
      "\n",
      "1. Divido train y test\n",
      "\n",
      "2. Divido train en entrena y valida\n",
      "\n",
      "3. Entrena con entrena para encontrar los w's para cada lambda\n",
      "\n",
      "4. Mide el error con valida ocupando los w's encontradas con 3 (1 error por cada lambda... con el promedio de lms)\n",
      "\n",
      "5. Regresa a 2 hasta que te sientas a gusto con la minimizaci\u00f3n de error\n",
      "\n",
      "6. Calcula error con test"
     ]
    },
    {
     "cell_type": "code",
     "collapsed": false,
     "input": [],
     "language": "python",
     "metadata": {},
     "outputs": []
    }
   ],
   "metadata": {}
  }
 ]
}