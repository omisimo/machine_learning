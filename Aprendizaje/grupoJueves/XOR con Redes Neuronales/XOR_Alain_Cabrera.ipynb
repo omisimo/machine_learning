{
 "cells": [
  {
   "cell_type": "code",
   "execution_count": 1,
   "metadata": {
    "collapsed": true
   },
   "outputs": [],
   "source": [
    "import matplotlib.pyplot as plt\n",
    "import numpy as np \n",
    "from sklearn.linear_model import LinearRegression\n",
    "import pandas as pd\n",
    "import csv\n",
    "from mpl_toolkits.mplot3d import Axes3D\n",
    "from matplotlib.ticker import LinearLocator\n",
    "\n",
    "\n",
    "def salida(w0,w,X):\n",
    "    x=[dato for dato in X]\n",
    "    sum=w0\n",
    "    for i in range(len(w)):\n",
    "        sum=sum+w[i]*x[i]\n",
    "    if sum > 0:\n",
    "        res=1\n",
    "    else:\n",
    "        res=0\n",
    "    return res\n",
    "    \n",
    "def entrena(w0,w,X_train,Y_train,numVariables):\n",
    "    nu=0.0001\n",
    "    numPuntos=len(X_train)\n",
    "    for i in range(numPuntos):\n",
    "        sal=salida(w0,w,X_train[i])\n",
    "        error=Y_train[i]-sal\n",
    "        w0=w0+nu*error           \n",
    "        listanueva =[w[j] + nu*error*X_train[i][j] for j in range(numVariables)]\n",
    "        w=[dato for dato in listanueva]\n",
    "    return w0, w\n",
    "      \n",
    "\n",
    "\n",
    "\n",
    "y=[0,1,1,0]\n",
    "x1=[0,0,1,1]\n",
    "x2=[0,1,0,1]\n",
    "x=[]\n",
    "\n",
    "for i in range(4):\n",
    "    x.append([x1[i],x2[i]])\n",
    "\n",
    "X_train=x\n",
    "Y_train=y\n",
    "w0=1\n",
    "w=[]\n",
    "w.append(1)\n",
    "w.append(1)\n",
    "for i in range(100000):\n",
    "    w0,w=entrena(w0,w,X_train,Y_train,2)\n"
   ]
  },
  {
   "cell_type": "code",
   "execution_count": 2,
   "metadata": {
    "collapsed": false
   },
   "outputs": [
    {
     "name": "stdout",
     "output_type": "stream",
     "text": [
      "9.38240099762e-14\n",
      "[-9.999999990618245e-05, 9.381755897326649e-14]\n"
     ]
    }
   ],
   "source": [
    "print w0\n",
    "print w"
   ]
  },
  {
   "cell_type": "code",
   "execution_count": 3,
   "metadata": {
    "collapsed": false
   },
   "outputs": [
    {
     "name": "stdout",
     "output_type": "stream",
     "text": [
      "1\n",
      "1\n",
      "0\n",
      "0\n"
     ]
    }
   ],
   "source": [
    "x=[0,0]\n",
    "print salida(w0,w,x)\n",
    "x=[0,1]\n",
    "print salida(w0,w,x)\n",
    "x=[1,0]\n",
    "print salida(w0,w,x)\n",
    "x=[1,1]\n",
    "print salida(w0,w,x)\n"
   ]
  },
  {
   "cell_type": "code",
   "execution_count": null,
   "metadata": {
    "collapsed": false
   },
   "outputs": [],
   "source": [
    "fig = plt.figure()\n",
    "ax = fig.add_subplot(111, projection='3d')\n",
    "ax.scatter([0], [0], [0], c='y', marker='o')\n",
    "ax.scatter([0], [1], [1], c='r', marker='o')\n",
    "ax.scatter([1], [0], [1], c='y', marker='o')\n",
    "ax.scatter([1], [1], [0], c='g', marker='o')    \n",
    "X = np.arange(-.1, 1.05, 0.05)\n",
    "xlen = len(X)\n",
    "Y = np.arange(-.1, 1.05, 0.05)\n",
    "ylen = len(Y)\n",
    "X, Y = np.meshgrid(X, Y)\n",
    "R = np.sqrt(X**2 + Y**2)\n",
    "Z = w0+w[0]*X+ w[1]*Y\n",
    "colortuple = ('y', 'b')\n",
    "colors = np.empty(X.shape, dtype=str)\n",
    "for y in range(ylen):\n",
    "    for x in range(xlen):\n",
    "        colors[x, y] = colortuple[(x + y) % len(colortuple)]\n",
    "\n",
    "surf = ax.plot_surface(X, Y, Z, rstride=1, cstride=1, facecolors=colors,\n",
    "        linewidth=0, antialiased=True)\n",
    "\n",
    "ax.set_zlim3d(0, 1)\n",
    "ax.w_zaxis.set_major_locator(LinearLocator(6))\n",
    "plt.show()"
   ]
  },
  {
   "cell_type": "code",
   "execution_count": 46,
   "metadata": {
    "collapsed": false
   },
   "outputs": [],
   "source": [
    "\n"
   ]
  },
  {
   "cell_type": "code",
   "execution_count": 66,
   "metadata": {
    "collapsed": false
   },
   "outputs": [],
   "source": [
    "\n"
   ]
  },
  {
   "cell_type": "code",
   "execution_count": null,
   "metadata": {
    "collapsed": true
   },
   "outputs": [],
   "source": []
  }
 ],
 "metadata": {
  "kernelspec": {
   "display_name": "Python 2",
   "language": "python",
   "name": "python2"
  },
  "language_info": {
   "codemirror_mode": {
    "name": "ipython",
    "version": 2
   },
   "file_extension": ".py",
   "mimetype": "text/x-python",
   "name": "python",
   "nbconvert_exporter": "python",
   "pygments_lexer": "ipython2",
   "version": "2.7.10"
  }
 },
 "nbformat": 4,
 "nbformat_minor": 0
}
