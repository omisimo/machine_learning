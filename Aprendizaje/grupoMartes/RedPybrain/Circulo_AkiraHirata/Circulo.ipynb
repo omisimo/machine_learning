{
 "cells": [
  {
   "cell_type": "markdown",
   "metadata": {},
   "source": [
    "# Ejercicio circulo (Redes Neuronales)"
   ]
  },
  {
   "cell_type": "markdown",
   "metadata": {},
   "source": [
    "Importar biblioteca pybrain, pandas, etc..."
   ]
  },
  {
   "cell_type": "code",
   "execution_count": 300,
   "metadata": {
    "collapsed": true
   },
   "outputs": [],
   "source": [
    "from pybrain.tools.shortcuts import buildNetwork\n",
    "from pybrain.datasets import SupervisedDataSet\n",
    "from pybrain.supervised.trainers import BackpropTrainer"
   ]
  },
  {
   "cell_type": "code",
   "execution_count": 301,
   "metadata": {
    "collapsed": true
   },
   "outputs": [],
   "source": [
    "import pandas as pd\n",
    "import numpy as np\n",
    "import csv\n",
    "from sklearn.cross_validation import train_test_split\n",
    "from sklearn.linear_model import LinearRegression\n",
    "import matplotlib.pyplot as plt\n",
    "%matplotlib inline"
   ]
  },
  {
   "cell_type": "markdown",
   "metadata": {},
   "source": [
    "Los datos usados simulan un circulo unitario con centro en (1,1)"
   ]
  },
  {
   "cell_type": "markdown",
   "metadata": {},
   "source": [
    "Lectura de datos y division de los mismos en datos de entrenamiento y prueba"
   ]
  },
  {
   "cell_type": "code",
   "execution_count": 302,
   "metadata": {
    "collapsed": false
   },
   "outputs": [],
   "source": [
    "dia = csv.excel()\n",
    "df = pd.read_csv(\"circulo.csv\")\n",
    "df_grid = pd.read_csv(\"circulo_grid.csv\")"
   ]
  },
  {
   "cell_type": "code",
   "execution_count": 303,
   "metadata": {
    "collapsed": false
   },
   "outputs": [],
   "source": [
    "X_train, X_test, Y_train, Y_test = train_test_split(df[['X','Y']],df[['In']], train_size=0.75)"
   ]
  },
  {
   "cell_type": "markdown",
   "metadata": {},
   "source": [
    "# Construimos las redes neuronales y las entrenamos"
   ]
  },
  {
   "cell_type": "markdown",
   "metadata": {},
   "source": [
    "Aqui probaremos el resultado con distintos numeros de capas intermedias (complejidad del modelo), de 1 a 8 capas"
   ]
  },
  {
   "cell_type": "code",
   "execution_count": 304,
   "metadata": {
    "collapsed": true
   },
   "outputs": [],
   "source": [
    "net_1 = buildNetwork(2,1,1)\n",
    "net_2 = buildNetwork(2,2,1)\n",
    "net_3 = buildNetwork(2,3,1)\n",
    "net_4 = buildNetwork(2,4,1)\n",
    "net_5 = buildNetwork(2,5,1)\n",
    "net_6 = buildNetwork(2,6,1)\n",
    "net_7 = buildNetwork(2,7,1)\n",
    "net_8 = buildNetwork(2,8,1)"
   ]
  },
  {
   "cell_type": "code",
   "execution_count": 305,
   "metadata": {
    "collapsed": true
   },
   "outputs": [],
   "source": [
    "ds = SupervisedDataSet(2,1)\n",
    "ds.setField('input',X_train)\n",
    "ds.setField('target',Y_train)"
   ]
  },
  {
   "cell_type": "code",
   "execution_count": 306,
   "metadata": {
    "collapsed": false
   },
   "outputs": [],
   "source": [
    "trainer_1 = BackpropTrainer(net_1,ds)\n",
    "for i in range(5):\n",
    "    trainer_1.train()"
   ]
  },
  {
   "cell_type": "code",
   "execution_count": 307,
   "metadata": {
    "collapsed": false
   },
   "outputs": [],
   "source": [
    "trainer_2 = BackpropTrainer(net_2,ds)\n",
    "for i in range(5):\n",
    "    trainer_2.train()"
   ]
  },
  {
   "cell_type": "code",
   "execution_count": 308,
   "metadata": {
    "collapsed": true
   },
   "outputs": [],
   "source": [
    "trainer_3 = BackpropTrainer(net_3,ds)\n",
    "for i in range(5):\n",
    "    trainer_3.train()"
   ]
  },
  {
   "cell_type": "code",
   "execution_count": 309,
   "metadata": {
    "collapsed": true
   },
   "outputs": [],
   "source": [
    "trainer_4 = BackpropTrainer(net_4,ds)\n",
    "for i in range(5):\n",
    "    trainer_4.train()"
   ]
  },
  {
   "cell_type": "code",
   "execution_count": 310,
   "metadata": {
    "collapsed": true
   },
   "outputs": [],
   "source": [
    "trainer_5 = BackpropTrainer(net_5,ds)\n",
    "for i in range(5):\n",
    "    trainer_5.train()"
   ]
  },
  {
   "cell_type": "code",
   "execution_count": 311,
   "metadata": {
    "collapsed": true
   },
   "outputs": [],
   "source": [
    "trainer_6 = BackpropTrainer(net_6,ds)\n",
    "for i in range(5):\n",
    "    trainer_6.train()"
   ]
  },
  {
   "cell_type": "code",
   "execution_count": 312,
   "metadata": {
    "collapsed": true
   },
   "outputs": [],
   "source": [
    "trainer_7 = BackpropTrainer(net_7,ds)\n",
    "for i in range(5):\n",
    "    trainer_7.train()"
   ]
  },
  {
   "cell_type": "code",
   "execution_count": 313,
   "metadata": {
    "collapsed": true
   },
   "outputs": [],
   "source": [
    "trainer_8 = BackpropTrainer(net_8,ds)\n",
    "for i in range(5):\n",
    "    trainer_8.train()"
   ]
  },
  {
   "cell_type": "markdown",
   "metadata": {},
   "source": [
    "Definimos una funcion de redondeo para que el output nos de 0 o 1"
   ]
  },
  {
   "cell_type": "code",
   "execution_count": 314,
   "metadata": {
    "collapsed": true
   },
   "outputs": [],
   "source": [
    "def redondeo(x):\n",
    "    if x>=.75:\n",
    "        return 1\n",
    "    else:\n",
    "        return 0"
   ]
  },
  {
   "cell_type": "markdown",
   "metadata": {},
   "source": [
    "# Validacion y prueba de los errores"
   ]
  },
  {
   "cell_type": "code",
   "execution_count": 315,
   "metadata": {
    "collapsed": false
   },
   "outputs": [],
   "source": [
    "Y_test_1 = range(len(X_test))\n",
    "for i in range(len(X_test)):\n",
    "    Y_test_1[i] = redondeo(net_1.activate(X_test.values[i])[0])\n",
    "    \n",
    "err_1 = 0    \n",
    "for i in range(len(Y_test)):\n",
    "    if Y_test_1[i] == Y_test.values[i]:\n",
    "        err_1 = err_1 + 0\n",
    "    else:\n",
    "        err_1 = err_1 + 1"
   ]
  },
  {
   "cell_type": "code",
   "execution_count": 316,
   "metadata": {
    "collapsed": false
   },
   "outputs": [],
   "source": [
    "Y_test_2 = range(len(X_test))\n",
    "for i in range(len(X_test)):\n",
    "    Y_test_2[i] = redondeo(net_2.activate(X_test.values[i])[0])\n",
    "    \n",
    "err_2 = 0    \n",
    "for i in range(len(Y_test)):\n",
    "    if Y_test_2[i] == Y_test.values[i]:\n",
    "        err_2 = err_2 + 0\n",
    "    else:\n",
    "        err_2 = err_2 + 1"
   ]
  },
  {
   "cell_type": "code",
   "execution_count": 317,
   "metadata": {
    "collapsed": false
   },
   "outputs": [],
   "source": [
    "Y_test_3 = range(len(X_test))\n",
    "for i in range(len(X_test)):\n",
    "    Y_test_3[i] = redondeo(net_3.activate(X_test.values[i])[0])\n",
    "    \n",
    "err_3 = 0    \n",
    "for i in range(len(Y_test)):\n",
    "    if Y_test_3[i] == Y_test.values[i]:\n",
    "        err_3 = err_3 + 0\n",
    "    else:\n",
    "        err_3 = err_3 + 1"
   ]
  },
  {
   "cell_type": "code",
   "execution_count": 318,
   "metadata": {
    "collapsed": false
   },
   "outputs": [],
   "source": [
    "Y_test_4 = range(len(X_test))\n",
    "for i in range(len(X_test)):\n",
    "    Y_test_4[i] = redondeo(net_4.activate(X_test.values[i])[0])\n",
    "    \n",
    "err_4 = 0    \n",
    "for i in range(len(Y_test)):\n",
    "    if Y_test_4[i] == Y_test.values[i]:\n",
    "        err_4 = err_4 + 0\n",
    "    else:\n",
    "        err_4 = err_4 + 1"
   ]
  },
  {
   "cell_type": "code",
   "execution_count": 319,
   "metadata": {
    "collapsed": false
   },
   "outputs": [],
   "source": [
    "Y_test_5 = range(len(X_test))\n",
    "for i in range(len(X_test)):\n",
    "    Y_test_5[i] = redondeo(net_5.activate(X_test.values[i])[0])\n",
    "    \n",
    "err_5 = 0    \n",
    "for i in range(len(Y_test)):\n",
    "    if Y_test_5[i] == Y_test.values[i]:\n",
    "        err_5 = err_5 + 0\n",
    "    else:\n",
    "        err_5 = err_5 + 1"
   ]
  },
  {
   "cell_type": "code",
   "execution_count": 320,
   "metadata": {
    "collapsed": false
   },
   "outputs": [],
   "source": [
    "Y_test_6 = range(len(X_test))\n",
    "for i in range(len(X_test)):\n",
    "    Y_test_6[i] = redondeo(net_6.activate(X_test.values[i])[0])\n",
    "    \n",
    "err_6 = 0    \n",
    "for i in range(len(Y_test)):\n",
    "    if Y_test_6[i] == Y_test.values[i]:\n",
    "        err_6 = err_6 + 0\n",
    "    else:\n",
    "        err_6 = err_6 + 1"
   ]
  },
  {
   "cell_type": "code",
   "execution_count": 321,
   "metadata": {
    "collapsed": true
   },
   "outputs": [],
   "source": [
    "Y_test_7 = range(len(X_test))\n",
    "for i in range(len(X_test)):\n",
    "    Y_test_7[i] = redondeo(net_7.activate(X_test.values[i])[0])\n",
    "    \n",
    "err_7 = 0    \n",
    "for i in range(len(Y_test)):\n",
    "    if Y_test_7[i] == Y_test.values[i]:\n",
    "        err_7 = err_7 + 0\n",
    "    else:\n",
    "        err_7 = err_7 + 1"
   ]
  },
  {
   "cell_type": "code",
   "execution_count": 322,
   "metadata": {
    "collapsed": true
   },
   "outputs": [],
   "source": [
    "Y_test_8 = range(len(X_test))\n",
    "for i in range(len(X_test)):\n",
    "    Y_test_8[i] = redondeo(net_8.activate(X_test.values[i])[0])\n",
    "    \n",
    "err_8 = 0    \n",
    "for i in range(len(Y_test)):\n",
    "    if Y_test_8[i] == Y_test.values[i]:\n",
    "        err_8 = err_8 + 0\n",
    "    else:\n",
    "        err_8 = err_8 + 1"
   ]
  },
  {
   "cell_type": "markdown",
   "metadata": {},
   "source": [
    "# Graficacion del error en funcion de la complejidad del modelo"
   ]
  },
  {
   "cell_type": "code",
   "execution_count": 323,
   "metadata": {
    "collapsed": false
   },
   "outputs": [
    {
     "data": {
      "text/plain": [
       "[119, 181, 78, 78, 72, 77, 145, 120]"
      ]
     },
     "execution_count": 323,
     "metadata": {},
     "output_type": "execute_result"
    },
    {
     "data": {
      "image/png": "[encoded data removed]",
      "text/plain": [
       "<matplotlib.figure.Figure at 0x109838dd0>"
      ]
     },
     "metadata": {},
     "output_type": "display_data"
    }
   ],
   "source": [
    "x=np.linspace(1,8,8)\n",
    "y=[err_1,err_2,err_3,err_4,err_5,err_6,err_7,err_8]\n",
    "plt.plot(x,y)\n",
    "y"
   ]
  },
  {
   "cell_type": "markdown",
   "metadata": {},
   "source": [
    "Podemos ver que la red neuronal con cinco capas es la que minimiza el error"
   ]
  },
  {
   "cell_type": "markdown",
   "metadata": {},
   "source": [
    "# Graficacion de la regla de decision"
   ]
  },
  {
   "cell_type": "code",
   "execution_count": 325,
   "metadata": {
    "collapsed": false
   },
   "outputs": [],
   "source": [
    "y = range(len(df_grid))\n",
    "for i in range(len(df_grid)):\n",
    "    y[i] = redondeo(net_5.activate(df_grid.values[i]))"
   ]
  },
  {
   "cell_type": "code",
   "execution_count": 326,
   "metadata": {
    "collapsed": false
   },
   "outputs": [
    {
     "data": {
      "image/png": "[encoded data removed]",
      "text/plain": [
       "<matplotlib.figure.Figure at 0x109ab1550>"
      ]
     },
     "metadata": {},
     "output_type": "display_data"
    }
   ],
   "source": [
    "plt.scatter(df_grid['X1'],df_grid['X2'],c=y)\n",
    "plt.gray()\n",
    "plt.show()"
   ]
  }
 ],
 "metadata": {
  "kernelspec": {
   "display_name": "Python 2",
   "language": "python",
   "name": "python2"
  },
  "language_info": {
   "codemirror_mode": {
    "name": "ipython",
    "version": 2
   },
   "file_extension": ".py",
   "mimetype": "text/x-python",
   "name": "python",
   "nbconvert_exporter": "python",
   "pygments_lexer": "ipython2",
   "version": "2.7.10"
  }
 },
 "nbformat": 4,
 "nbformat_minor": 0
}
