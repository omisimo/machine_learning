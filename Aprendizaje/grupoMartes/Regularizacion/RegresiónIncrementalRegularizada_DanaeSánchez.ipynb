{
 "cells": [
  {
   "cell_type": "markdown",
   "metadata": {},
   "source": [
    "# Regresión Lineal Incremental Regularizada"
   ]
  },
  {
   "cell_type": "markdown",
   "metadata": {},
   "source": [
    "Danae Sánchez Villegas 136040\n"
   ]
  },
  {
   "cell_type": "markdown",
   "metadata": {},
   "source": [
    "# Descripción"
   ]
  },
  {
   "cell_type": "markdown",
   "metadata": {},
   "source": [
    "Implementación del algoritmo de regresión lineal incremental regularizada\n",
    "\n",
    "Pasos:\n",
    "\n",
    "Bajar el archivo regLinPoli.xls \n",
    "\n",
    "Escalar los datos usando el StandardScaler \n",
    "\n",
    "Programar la regresión lineal incremental regularizada \n",
    "\n",
    "Graficar el error para distintos valores de lambda "
   ]
  },
  {
   "cell_type": "code",
   "execution_count": 2,
   "metadata": {
    "collapsed": true
   },
   "outputs": [],
   "source": [
    "import pandas as pd\n",
    "import numpy as np\n",
    "import csv\n",
    "import random\n",
    "from sklearn.cross_validation import train_test_split\n",
    "from sklearn.linear_model import LinearRegression\n",
    "import matplotlib.pyplot as plt\n",
    "%matplotlib inline"
   ]
  },
  {
   "cell_type": "markdown",
   "metadata": {},
   "source": [
    "# Funciones"
   ]
  },
  {
   "cell_type": "code",
   "execution_count": 3,
   "metadata": {
    "collapsed": false
   },
   "outputs": [],
   "source": [
    "def salida(x,w0,W):\n",
    "    sum=0\n",
    "    for i in range(len(x)):\n",
    "        sum=sum+x[i]*W[i]\n",
    "    sum=sum+w0\n",
    "    return sum\n",
    " \n",
    "def entrenaSinReg(X,w0,W,y,n):\n",
    "    \n",
    "    nu=0.01\n",
    "    \n",
    "    for i in range(n):\n",
    "        error=y[i]-salida(X[i],w0,W)\n",
    "        w0=w0+nu*error\n",
    "            \n",
    "        for j in range(len(X[i])):\n",
    "            W[j]=W[j]+nu*(error*X[i][j])\n",
    "    \n",
    "    return w0,W\n",
    "\n",
    "def entrena(X,w0,W,y,n,lbd):\n",
    "    \n",
    "    nu=0.01\n",
    "    \n",
    "    for i in range(n):\n",
    "        error=y[i]-salida(X[i],w0,W)\n",
    "        w0=w0+nu*error\n",
    "            \n",
    "        for j in range(len(X[i])):\n",
    "            W[j]=W[j]+nu*(error*X[i][j]-lbd*W[j])\n",
    "    \n",
    "    return w0,W\n",
    "\n",
    "def errorPorTupla(X,y,w0,W):\n",
    "    i=0\n",
    "    suma=0.0\n",
    "    for x in X:\n",
    "        suma= suma + ((x.dot(W) +w0) -y[i])**2\n",
    "        i=i+1\n",
    "    return suma/i\n",
    "\n"
   ]
  },
  {
   "cell_type": "markdown",
   "metadata": {},
   "source": [
    "# Regresión Lineal Iterativa Regularizada"
   ]
  },
  {
   "cell_type": "markdown",
   "metadata": {},
   "source": [
    "# Importar Datos"
   ]
  },
  {
   "cell_type": "code",
   "execution_count": 4,
   "metadata": {
    "collapsed": false
   },
   "outputs": [],
   "source": [
    "dia = csv.excel()\n",
    "df = pd.read_csv(\"regLin.csv\")"
   ]
  },
  {
   "cell_type": "code",
   "execution_count": 5,
   "metadata": {
    "collapsed": false
   },
   "outputs": [],
   "source": [
    "# X_train, X_test, Y_train, Y_test = train_test_split(df[['X','X2','X3','X4']],df[['y']], train_size=0.75)\n",
    "X_train, X_test, Y_train, Y_test = train_test_split(df[['X']],df[['y']], train_size=0.75)"
   ]
  },
  {
   "cell_type": "markdown",
   "metadata": {},
   "source": [
    "#Normalizar "
   ]
  },
  {
   "cell_type": "code",
   "execution_count": 6,
   "metadata": {
    "collapsed": false
   },
   "outputs": [],
   "source": [
    "from sklearn import preprocessing\n",
    "scaleX=preprocessing.StandardScaler()\n",
    "scaleY=preprocessing.StandardScaler()\n",
    "\n",
    "#normalizar datos de entrenamiento \n",
    "scaleX.fit(X_train)\n",
    "X_train=scaleX.transform(X_train)\n",
    "scaleY.fit(Y_train)\n",
    "Y_train=scaleY.transform(Y_train)\n",
    "\n",
    "#normalizar datos de prueba\n",
    "scaleX.fit(X_test)\n",
    "X_test=scaleX.transform(X_test)\n",
    "scaleY.fit(Y_test)\n",
    "Y_test=scaleY.transform(Y_test)\n"
   ]
  },
  {
   "cell_type": "markdown",
   "metadata": {},
   "source": [
    "# Probar"
   ]
  },
  {
   "cell_type": "code",
   "execution_count": 25,
   "metadata": {
    "collapsed": false
   },
   "outputs": [],
   "source": [
    "lamba=[random.uniform(0.0001,0.001) for i in range(15)]\n",
    "W=[random.random() for i in range(len(X_test[0]))]\n",
    "w0=random.random()\n",
    "errorPorLambda=[0 for x in range(len(lamba))]"
   ]
  },
  {
   "cell_type": "code",
   "execution_count": 26,
   "metadata": {
    "collapsed": false
   },
   "outputs": [],
   "source": [
    "for j in range(len(lamba)):\n",
    "    for i in range(100):\n",
    "        w0,W=entrena(np.asarray(X_test),w0,W,np.asarray(Y_test),len(X_test),lamba[j])\n",
    "\n",
    "    errorPorLambda[j]=errorPorTupla(np.asarray(X_test),np.asarray(Y_test),w0[0],W)\n"
   ]
  },
  {
   "cell_type": "code",
   "execution_count": 27,
   "metadata": {
    "collapsed": false
   },
   "outputs": [
    {
     "data": {
      "text/plain": [
       "array([ 0.01061324])"
      ]
     },
     "execution_count": 27,
     "metadata": {},
     "output_type": "execute_result"
    }
   ],
   "source": [
    "w0\n"
   ]
  },
  {
   "cell_type": "code",
   "execution_count": 28,
   "metadata": {
    "collapsed": false
   },
   "outputs": [
    {
     "data": {
      "text/plain": [
       "[array([ 0.98192678])]"
      ]
     },
     "execution_count": 28,
     "metadata": {},
     "output_type": "execute_result"
    }
   ],
   "source": [
    "W"
   ]
  },
  {
   "cell_type": "markdown",
   "metadata": {},
   "source": [
    "# Graficar error conjunto de prueba"
   ]
  },
  {
   "cell_type": "code",
   "execution_count": 31,
   "metadata": {
    "collapsed": false
   },
   "outputs": [
    {
     "data": {
      "text/plain": [
       "[<matplotlib.lines.Line2D at 0x18a6b5c0>]"
      ]
     },
     "execution_count": 31,
     "metadata": {},
     "output_type": "execute_result"
    },
    {
     "data": {
      "image/png": "[encoded data removed]",
      "text/plain": [
       "<matplotlib.figure.Figure at 0x18d7f6a0>"
      ]
     },
     "metadata": {},
     "output_type": "display_data"
    }
   ],
   "source": [
    "plt.plot(lamba,(errorPorLambda),color='red')"
   ]
  },
  {
   "cell_type": "markdown",
   "metadata": {
    "collapsed": true
   },
   "source": [
    "# Conclusiones"
   ]
  },
  {
   "cell_type": "markdown",
   "metadata": {},
   "source": [
    "La regresión Lineal Incremental es buena cuando se necesitan agregar constantemente\n",
    "\n",
    "nuevos valores, ya que puede resultar muy cotoso reentrenar a todo el conjunto de \n",
    "\n",
    "datos.\n",
    "\n",
    "Al agregar la regularización se da mayor peso a los valores que producen un mejor\n",
    "\n",
    "resultado. En este caso lo que se busca es mantener a las w's bajas. "
   ]
  }
 ],
 "metadata": {
  "kernelspec": {
   "display_name": "Python 2",
   "language": "python",
   "name": "python2"
  },
  "language_info": {
   "codemirror_mode": {
    "name": "ipython",
    "version": 2
   },
   "file_extension": ".py",
   "mimetype": "text/x-python",
   "name": "python",
   "nbconvert_exporter": "python",
   "pygments_lexer": "ipython2",
   "version": "2.7.10"
  }
 },
 "nbformat": 4,
 "nbformat_minor": 0
}
