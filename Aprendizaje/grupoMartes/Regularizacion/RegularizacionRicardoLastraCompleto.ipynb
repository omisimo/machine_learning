{
 "cells": [
  {
   "cell_type": "markdown",
   "metadata": {},
   "source": [
    "REGULARIZACIÓN POR RICARDO LASTRA\n",
    "\n",
    "EJERCICIO:\n",
    "\n",
    "Baje el archivo regLinPoli.xls\n",
    "Programe la regresión lineal iterativa regularizada\n",
    "Escale los datos usando el StandardScaler\n",
    "*Grafique el error de entrenamiento y validación para distintos valores de lambda\n",
    "\n",
    "\n",
    "OBJETIVO:\n",
    "\n",
    "Identificar los pesos optimos despues del ajuste del modelo con Lambdas, calcular las diferentes alturas para determinar las W's optimas."
   ]
  },
  {
   "cell_type": "code",
   "execution_count": 1,
   "metadata": {
    "collapsed": true
   },
   "outputs": [],
   "source": [
    "import pandas as pd\n",
    "import numpy as np\n",
    "import csv\n",
    "from sklearn.cross_validation import train_test_split\n",
    "from sklearn.linear_model import LinearRegression\n",
    "from sklearn.linear_model import Ridge\n",
    "import matplotlib.pyplot as plt\n",
    "from random import random\n",
    "%matplotlib inline"
   ]
  },
  {
   "cell_type": "markdown",
   "metadata": {},
   "source": [
    "DESAROLLO:"
   ]
  },
  {
   "cell_type": "code",
   "execution_count": 2,
   "metadata": {
    "collapsed": false
   },
   "outputs": [],
   "source": [
    "dia = csv.excel()\n",
    "df = pd.read_csv(\"C:/Users/RLASTRA/Desktop/regLinPoli.csv\")"
   ]
  },
  {
   "cell_type": "markdown",
   "metadata": {},
   "source": [
    "Dividimos los datos Train y Test en este caso por mi codigo, use los datos llamados \"train\" con un tamaño reducido al 10% "
   ]
  },
  {
   "cell_type": "code",
   "execution_count": 3,
   "metadata": {
    "collapsed": false
   },
   "outputs": [],
   "source": [
    "##Definicion de datos entrenamiento y test al 10%\n",
    "X_train, X_test, Y_train, Y_test = train_test_split(df[['X','X2','X3','X4']],df['y'], train_size=0.1)"
   ]
  },
  {
   "cell_type": "code",
   "execution_count": 4,
   "metadata": {
    "collapsed": false
   },
   "outputs": [],
   "source": [
    "##Normalizar ya que salian errores nan\n",
    "from sklearn import preprocessing\n",
    "scaleX=preprocessing.StandardScaler()\n",
    "scaleY=preprocessing.StandardScaler()\n",
    "scaleX.fit(X_train)\n",
    "X_train=scaleX.transform(X_train)\n",
    "#print Y_train.values.tolist()\n",
    "miY=[float(i) for i in Y_train]\n",
    "Y_train=miY\n",
    "scaleY.fit(Y_train)\n",
    "Y_train=scaleY.transform(Y_train)\n",
    "X_test=scaleX.transform(X_test)\n",
    "miY=[float(i) for i in Y_test]\n",
    "Y_test=miY\n",
    "Y_test=scaleY.transform(Y_test)"
   ]
  },
  {
   "cell_type": "markdown",
   "metadata": {},
   "source": [
    "Definimos las Lambdas, las w y las w0, en este caso si iniciamos las lambda \"random\"los valores son muy grandes. Por lo tanto definimos una lammbda2 con valores fijos en 4 casos diferentes"
   ]
  },
  {
   "cell_type": "code",
   "execution_count": 5,
   "metadata": {
    "collapsed": false
   },
   "outputs": [
    {
     "name": "stdout",
     "output_type": "stream",
     "text": [
      "[0.4869107468186272, 0.8852366903892174, 0.5298700347318401, 0.0007337445485989802]\n",
      "[0.02061797526944531, 0.5558242146857338, 0.024105764484831704, 0.45272274640959254]\n",
      "[0.9736164963564923, 0.6780366656386093, 0.9028413798885492, 0.5332815786140612]\n",
      "[0.0001, 0.0002, 0.0003, 0.0004]\n"
     ]
    }
   ],
   "source": [
    "from random import random\n",
    "ridgeLambda=[random() for i in range(len(X_train[0]))]\n",
    "w = [random() for i in range(len(X_train[0]))]\n",
    "w0=[random() for i in range(len(X_train[0]))]\n",
    "\n",
    "print w\n",
    "\n",
    "print w0\n",
    "\n",
    "print ridgeLambda\n",
    "\n",
    "ridgeLambda2= [0.0001, 0.0002, 0.0003, 0.0004]\n",
    "print ridgeLambda2"
   ]
  },
  {
   "cell_type": "code",
   "execution_count": 15,
   "metadata": {
    "collapsed": false
   },
   "outputs": [],
   "source": [
    "from random import sample\n",
    "\n",
    "def salida (x, w0, w):\n",
    "    suma = 0.0\n",
    "    for i in range (len(x)):\n",
    "        suma = suma + x[i]*w[0]\n",
    "    suma = suma + w0\n",
    "    return suma\n",
    "\n",
    "def error (x,y,w0,w):\n",
    "    i=0\n",
    "    suma= 0.0\n",
    "    for x in X:\n",
    "        suma=suma+((X.dot(w)+w0)-Y[i])**2\n",
    "        i=i+1\n",
    "    return suma\n",
    "\n",
    "def entrena(x,y,w,w0,ridgeLambda,eta): \n",
    "    for i in range(len(x)):\n",
    "        error=y[i]-salida(x[i],w0,w)\n",
    "        w[0]=w[0]+eta*(error)-ridgeLambda*(w[0])\n",
    "        for j in range(len(w)-1):\n",
    "            w[j+1]=w[j+1]+eta*(error*x[i][j])-ridgeLambda*w[j+1]\n",
    "    return w,w0"
   ]
  },
  {
   "cell_type": "code",
   "execution_count": 16,
   "metadata": {
    "collapsed": false
   },
   "outputs": [
    {
     "name": "stdout",
     "output_type": "stream",
     "text": [
      "[ 0.02061798  0.55582421  0.02410576  0.45272275]\n"
     ]
    }
   ],
   "source": [
    "probar_salida = salida (X_train, w0, w)\n",
    "print probar_salida"
   ]
  },
  {
   "cell_type": "code",
   "execution_count": null,
   "metadata": {
    "collapsed": true
   },
   "outputs": [],
   "source": [
    "Obtenemos arreglo de w,w0"
   ]
  },
  {
   "cell_type": "code",
   "execution_count": 17,
   "metadata": {
    "collapsed": false
   },
   "outputs": [
    {
     "name": "stdout",
     "output_type": "stream",
     "text": [
      "[array([-0.02006462, -0.27722976, -0.00770468, -0.11274009]), array([ 1.04154387,  0.77381355,  0.32331916,  0.29843736]), array([ 1.07450564,  0.78889772,  0.33559143,  0.30701074]), array([ 0.00891345,  0.13090184,  0.00127773,  0.02607068])] [0.02061797526944531, 0.5558242146857338, 0.024105764484831704, 0.45272274640959254]\n"
     ]
    }
   ],
   "source": [
    "eta = 0.0001\n",
    "for j in range(len(X_train)):\n",
    "    for i in range(len(w)):\n",
    "        w,w0= entrena(X_train,Y_train,w,w0,ridgeLambda2,eta)\n",
    "print w,w0"
   ]
  },
  {
   "cell_type": "code",
   "execution_count": 18,
   "metadata": {
    "collapsed": false
   },
   "outputs": [
    {
     "name": "stdout",
     "output_type": "stream",
     "text": [
      "[0.02061797526944531, 0.5558242146857338, 0.024105764484831704, 0.45272274640959254]\n"
     ]
    }
   ],
   "source": [
    "#solo como referencia para ver los valores\n",
    "print w0"
   ]
  },
  {
   "cell_type": "code",
   "execution_count": 19,
   "metadata": {
    "collapsed": false
   },
   "outputs": [
    {
     "name": "stdout",
     "output_type": "stream",
     "text": [
      "[array([-0.02006462, -0.27722976, -0.00770468, -0.11274009]), array([ 1.04154387,  0.77381355,  0.32331916,  0.29843736]), array([ 1.07450564,  0.78889772,  0.33559143,  0.30701074]), array([ 0.00891345,  0.13090184,  0.00127773,  0.02607068])]\n"
     ]
    }
   ],
   "source": [
    "#solo como referencia para ver los valores\n",
    "print w"
   ]
  },
  {
   "cell_type": "code",
   "execution_count": 20,
   "metadata": {
    "collapsed": false
   },
   "outputs": [],
   "source": [
    "def error (X,y,w0,w):\n",
    "    i=0\n",
    "    suma= 0.0\n",
    "    for x in X:\n",
    "        suma=suma+((X.dot(w)+w0)-y[i])**2\n",
    "        i=i+1\n",
    "    return suma"
   ]
  },
  {
   "cell_type": "markdown",
   "metadata": {},
   "source": [
    "Obtenemos los valores del error *PRIMER OBJETIVO DE TAREA"
   ]
  },
  {
   "cell_type": "code",
   "execution_count": 21,
   "metadata": {
    "collapsed": false
   },
   "outputs": [],
   "source": [
    "for i in range(len(w)):\n",
    "    calcula_error = error(np.asarray(X_train),np.asarray(Y_train),w0[0],w)"
   ]
  },
  {
   "cell_type": "markdown",
   "metadata": {},
   "source": [
    "Obtenemos los valores del arreglo de w's y lammbda's *SEGUNDO OBJETIVO DE TAREA"
   ]
  },
  {
   "cell_type": "code",
   "execution_count": 22,
   "metadata": {
    "collapsed": false
   },
   "outputs": [
    {
     "name": "stdout",
     "output_type": "stream",
     "text": [
      "[array([-0.02006462, -0.27722976, -0.00770468, -0.11274009]), array([ 1.04154387,  0.77381355,  0.32331916,  0.29843736]), array([ 1.07450564,  0.78889772,  0.33559143,  0.30701074]), array([ 0.00891345,  0.13090184,  0.00127773,  0.02607068])] [0.0001, 0.0002, 0.0003, 0.0004]\n"
     ]
    }
   ],
   "source": [
    "print w, ridgeLambda2"
   ]
  },
  {
   "cell_type": "code",
   "execution_count": 23,
   "metadata": {
    "collapsed": false
   },
   "outputs": [
    {
     "name": "stdout",
     "output_type": "stream",
     "text": [
      "-0.0200646224931 0.0001\n",
      "1.04154387455 0.0002\n",
      "1.07450563811 0.0003\n",
      "0.00891344984579 0.0004\n",
      "-0.277229755675 0.0001\n",
      "0.773813548141 0.0002\n",
      "0.788897718224 0.0003\n",
      "0.130901842018 0.0004\n",
      "-0.0077046801665 0.0001\n",
      "0.323319158874 0.0002\n",
      "0.335591430379 0.0003\n",
      "0.00127773419883 0.0004\n",
      "-0.112740090938 0.0001\n",
      "0.298437357783 0.0002\n",
      "0.307010735909 0.0003\n",
      "0.0260706849735 0.0004\n"
     ]
    }
   ],
   "source": [
    "#obtenemos arreglos de w,lambdas\n",
    "for j in range(len(w)):\n",
    "    for i in range(len(ridgeLambda2)):\n",
    "        ws,rlambda = (w)[i][j],ridgeLambda2[i]\n",
    "        print ws,rlambda"
   ]
  },
  {
   "cell_type": "markdown",
   "metadata": {},
   "source": [
    "=====GRAFICAMOS DATOS Y ERRORES===="
   ]
  },
  {
   "cell_type": "code",
   "execution_count": 25,
   "metadata": {
    "collapsed": false
   },
   "outputs": [
    {
     "data": {
      "image/png": "[encoded data removed]",
      "text/plain": [
       "<matplotlib.figure.Figure at 0xe4b7a10>"
      ]
     },
     "metadata": {},
     "output_type": "display_data"
    }
   ],
   "source": [
    "for i in range(len(X_train)):\n",
    "    plt.scatter(X_train[i][1], Y_train[i], color = 'blue')"
   ]
  },
  {
   "cell_type": "code",
   "execution_count": 26,
   "metadata": {
    "collapsed": false
   },
   "outputs": [
    {
     "data": {
      "image/png": "[encoded data removed]",
      "text/plain": [
       "<matplotlib.figure.Figure at 0x1046fcf0>"
      ]
     },
     "metadata": {},
     "output_type": "display_data"
    }
   ],
   "source": [
    "Xs = [i for i in range(len(X_train))]\n",
    "plt.plot(np.asarray(Xs),np.asarray(calcula_error),color='red')\n",
    "plt.show()"
   ]
  },
  {
   "cell_type": "markdown",
   "metadata": {},
   "source": [
    "RESUMEN:\n",
    "\n",
    "SE CUMPLIO EL OBJETIVO DESPUES DE USAR LOS DATOS DE REG LIN POLI EN 4 DIMENSIONES, SE USARON METODOS DE APRENDIZAJE SUPERVISADO, LOS CUALES NOS PERMITIERON VER DE FORMA ORDENANDA EN CADA ITERACION DIFERENTES VALORES DE W'S, CALCULANDO ETAS DE TAMAÑO REDUCIDO Y VALIDANDO EL MEJOR USO DE LAS LAMBDAS EN SU FORMA RIDGE LAMBDA SEGUN LO VISTO EN CLASE.\n",
    "\n",
    "EL ULTIMO GRAFICO DENOTA LA VARIABILIDAD DE LOS ERRORES, EL CUAL AL SELECCIONAR NO DA EL MEJOR CONJUNTO DE W'S \n",
    "\n",
    "CUANDO SE ESTA APRENDIENDO A PROGRAMAR ES MAS SENCILLO HACER ESTE MODELO EN 1 SOLA DIMENSION, YA QUE LAS 4 DIMENSIONES POR LAS APPS D"
   ]
  }
 ],
 "metadata": {
  "kernelspec": {
   "display_name": "Python 2",
   "language": "python",
   "name": "python2"
  },
  "language_info": {
   "codemirror_mode": {
    "name": "ipython",
    "version": 2
   },
   "file_extension": ".py",
   "mimetype": "text/x-python",
   "name": "python",
   "nbconvert_exporter": "python",
   "pygments_lexer": "ipython2",
   "version": "2.7.10"
  }
 },
 "nbformat": 4,
 "nbformat_minor": 0
}
