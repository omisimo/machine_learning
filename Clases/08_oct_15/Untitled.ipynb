{
 "cells": [
  {
   "cell_type": "code",
   "execution_count": 1,
   "metadata": {
    "collapsed": true
   },
   "outputs": [],
   "source": [
    "import pandas as pd\n",
    "import math as math\n",
    "import numpy as np\n",
    "import csv\n",
    "import random as rnd\n",
    "from sklearn import preprocessing\n",
    "from sklearn.cross_validation import train_test_split\n",
    "from sklearn.linear_model import LinearRegression\n",
    "import matplotlib.pyplot as plt\n",
    "%matplotlib inline\n",
    "from random import randint\n",
    "\n",
    "\n",
    "from pybrain.tools.shortcuts import buildNetwork\n",
    "from pybrain.datasets import SupervisedDataSet\n",
    "from pybrain.supervised.trainers import BackpropTrainer"
   ]
  },
  {
   "cell_type": "code",
   "execution_count": 5,
   "metadata": {
    "collapsed": false
   },
   "outputs": [],
   "source": [
    "radio=1\n",
    "\n",
    "X=[]\n",
    "for i in range(1000):\n",
    "    X.append([rnd.random() for i in range(2)])\n",
    "y = [0] * len(X)\n",
    "\n",
    "\n",
    "\n",
    "def vo(X,radio,y):\n",
    "    for i in range(len(X)):\n",
    "        if math.pow(X[i][0],2)+math.pow(X[i][1],2) < math.pow(radio,2):\n",
    "            y[i]=[1]\n",
    "        else:\n",
    "            y[i]=[0]\n",
    "    return y\n",
    "\n",
    "\n",
    "y=vo(X,radio,y)\n"
   ]
  },
  {
   "cell_type": "code",
   "execution_count": 6,
   "metadata": {
    "collapsed": false
   },
   "outputs": [
    {
     "name": "stdout",
     "output_type": "stream",
     "text": [
      "0.947989572569\n",
      "[1]\n"
     ]
    }
   ],
   "source": [
    "i=15\n",
    "\n",
    "print math.pow(X[i][0],2)+math.pow(X[i][1],2)\n",
    "\n",
    "print y[i]"
   ]
  },
  {
   "cell_type": "code",
   "execution_count": 8,
   "metadata": {
    "collapsed": false
   },
   "outputs": [],
   "source": [
    "ds = SupervisedDataSet(2,1)\n",
    "ds.setField( 'input', X)\n",
    "ds.setField( 'target', y)"
   ]
  },
  {
   "cell_type": "code",
   "execution_count": 9,
   "metadata": {
    "collapsed": true
   },
   "outputs": [],
   "source": [
    "net = buildNetwork(2, 2, 1)\n",
    "trainer = BackpropTrainer( net, ds )"
   ]
  },
  {
   "cell_type": "code",
   "execution_count": null,
   "metadata": {
    "collapsed": false
   },
   "outputs": [],
   "source": [
    "trainer.trainUntilConvergence( verbose = True, validationProportion = 0.15, maxEpochs = 100, continueEpochs = 10 )"
   ]
  },
  {
   "cell_type": "code",
   "execution_count": null,
   "metadata": {
    "collapsed": false
   },
   "outputs": [],
   "source": [
    "#https://github.com/zygmuntz/pybrain-practice/blob/master/kin_predict.py"
   ]
  },
  {
   "cell_type": "code",
   "execution_count": null,
   "metadata": {
    "collapsed": true
   },
   "outputs": [],
   "source": []
  }
 ],
 "metadata": {
  "kernelspec": {
   "display_name": "Python 2",
   "language": "python",
   "name": "python2"
  },
  "language_info": {
   "codemirror_mode": {
    "name": "ipython",
    "version": 2
   },
   "file_extension": ".py",
   "mimetype": "text/x-python",
   "name": "python",
   "nbconvert_exporter": "python",
   "pygments_lexer": "ipython2",
   "version": "2.7.9"
  }
 },
 "nbformat": 4,
 "nbformat_minor": 0
}
