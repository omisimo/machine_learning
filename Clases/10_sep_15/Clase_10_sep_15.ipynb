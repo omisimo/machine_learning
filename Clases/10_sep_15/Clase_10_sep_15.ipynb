{
 "cells": [
  {
   "cell_type": "markdown",
   "metadata": {},
   "source": [
    "#Clase 10 Sept 2015"
   ]
  },
  {
   "cell_type": "code",
   "execution_count": 113,
   "metadata": {
    "collapsed": true
   },
   "outputs": [],
   "source": [
    "import numpy as np\n",
    "import pandas as pd\n",
    "from sklearn.linear_model import LinearRegression\n",
    "from sklearn.cross_validation import train_test_split\n",
    "from sklearn import preprocessing\n",
    "from matplotlib import pyplot as plt\n",
    "%matplotlib inline"
   ]
  },
  {
   "cell_type": "markdown",
   "metadata": {},
   "source": [
    "## Lectura de datos"
   ]
  },
  {
   "cell_type": "code",
   "execution_count": 114,
   "metadata": {
    "collapsed": false
   },
   "outputs": [
    {
     "data": {
      "text/html": [
       "<div>\n",
       "<table border=\"1\" class=\"dataframe\">\n",
       "  <thead>\n",
       "    <tr style=\"text-align: right;\">\n",
       "      <th></th>\n",
       "      <th>X</th>\n",
       "      <th>X2</th>\n",
       "      <th>X3</th>\n",
       "      <th>X4</th>\n",
       "      <th>y</th>\n",
       "    </tr>\n",
       "  </thead>\n",
       "  <tbody>\n",
       "    <tr>\n",
       "      <th>0</th>\n",
       "      <td>7.317938</td>\n",
       "      <td>53.552216</td>\n",
       "      <td>1.683319</td>\n",
       "      <td>0.859736</td>\n",
       "      <td>20.716319</td>\n",
       "    </tr>\n",
       "    <tr>\n",
       "      <th>1</th>\n",
       "      <td>1.284357</td>\n",
       "      <td>1.649574</td>\n",
       "      <td>3.395139</td>\n",
       "      <td>0.959256</td>\n",
       "      <td>8.098008</td>\n",
       "    </tr>\n",
       "    <tr>\n",
       "      <th>2</th>\n",
       "      <td>97.740652</td>\n",
       "      <td>9553.235088</td>\n",
       "      <td>0.366480</td>\n",
       "      <td>-0.344100</td>\n",
       "      <td>5992.603427</td>\n",
       "    </tr>\n",
       "    <tr>\n",
       "      <th>3</th>\n",
       "      <td>17.753591</td>\n",
       "      <td>315.190006</td>\n",
       "      <td>-1.945300</td>\n",
       "      <td>-0.889370</td>\n",
       "      <td>199.959361</td>\n",
       "    </tr>\n",
       "    <tr>\n",
       "      <th>4</th>\n",
       "      <td>66.441081</td>\n",
       "      <td>4414.417290</td>\n",
       "      <td>0.504995</td>\n",
       "      <td>-0.450777</td>\n",
       "      <td>2384.624168</td>\n",
       "    </tr>\n",
       "  </tbody>\n",
       "</table>\n",
       "</div>"
      ],
      "text/plain": [
       "           X           X2        X3        X4            y\n",
       "0   7.317938    53.552216  1.683319  0.859736    20.716319\n",
       "1   1.284357     1.649574  3.395139  0.959256     8.098008\n",
       "2  97.740652  9553.235088  0.366480 -0.344100  5992.603427\n",
       "3  17.753591   315.190006 -1.945300 -0.889370   199.959361\n",
       "4  66.441081  4414.417290  0.504995 -0.450777  2384.624168"
      ]
     },
     "execution_count": 114,
     "metadata": {},
     "output_type": "execute_result"
    }
   ],
   "source": [
    "data = pd.read_csv('regLinPoli.csv')\n",
    "data.head()\n"
   ]
  },
  {
   "cell_type": "markdown",
   "metadata": {},
   "source": [
    "# Train y Test"
   ]
  },
  {
   "cell_type": "code",
   "execution_count": 115,
   "metadata": {
    "collapsed": false
   },
   "outputs": [
    {
     "name": "stdout",
     "output_type": "stream",
     "text": [
      "             X           X2        X3        X4\n",
      "186  83.969116  7050.812507 -1.147292  0.753839\n",
      "596   1.815941     3.297643 -3.997176  0.970102\n",
      "814  72.523243  5259.620706  0.273113 -0.263464\n",
      "733  18.185309   330.705463 -0.782932 -0.616466\n",
      "102  32.881548  1081.196199  9.472892  0.994474\n",
      "               y\n",
      "186  4086.643060\n",
      "596    33.557643\n",
      "814  3089.679433\n",
      "733   233.080461\n",
      "102   645.134611\n"
     ]
    }
   ],
   "source": [
    "X_train, X_test, Y_train, Y_test = train_test_split(data[['X','X2','X3','X4']], data[['y']], train_size = 0.75)\n",
    "\n",
    "print X_train.head()\n",
    "print Y_train.head()\n",
    "\n",
    "nueva_base = pd.concat([X_train, Y_train], axis=1)\n",
    "nueva_base.head()\n",
    "\n",
    "X_prueba, X_val, Y_prueba, Y_val = train_test_split(nueva_base[['X','X2','X3','X4']], nueva_base['y'], train_size = 0.75)\n"
   ]
  },
  {
   "cell_type": "code",
   "execution_count": 116,
   "metadata": {
    "collapsed": false
   },
   "outputs": [
    {
     "name": "stdout",
     "output_type": "stream",
     "text": [
      "             X           X2        X3        X4\n",
      "186  83.969116  7050.812507 -1.147292  0.753839\n",
      "596   1.815941     3.297643 -3.997176  0.970102\n",
      "814  72.523243  5259.620706  0.273113 -0.263464\n",
      "733  18.185309   330.705463 -0.782932 -0.616466\n",
      "102  32.881548  1081.196199  9.472892  0.994474\n",
      "            X        X2        X3        X4\n",
      "823 -1.466595 -1.058453  0.050098 -0.387299\n",
      "98  -0.840307 -0.874347 -0.013063 -1.325079\n",
      "991  1.643816  2.027170  0.066183  0.633388\n",
      "504  1.818005  2.360749  0.032266 -1.048168\n",
      "92  -0.854000 -0.880729  0.252041 -1.374763\n"
     ]
    }
   ],
   "source": [
    "X_scaler = preprocessing.StandardScaler().fit(X_prueba)\n",
    "Y_scaler = preprocessing.StandardScaler().fit(Y_prueba)\n",
    "#print X_scaler.mean_, X_scaler.std_\n",
    "#print Y_scaler.mean_, Y_scaler.std_\n",
    "\n",
    "aux1 = X_scaler.transform(X_prueba)  \n",
    "aux2 = Y_scaler.transform(Y_prueba)\n",
    "\n",
    "\n",
    "X_prueba_std = pd.DataFrame(aux1,index=X_prueba.index,columns=['X','X2','X3','X4'])\n",
    "Y_prueba_std = pd.DataFrame(aux2,index=Y_prueba.index,columns=['y'])\n",
    "\n",
    "print X_train.head()\n",
    "print X_train_std.head()"
   ]
  },
  {
   "cell_type": "markdown",
   "metadata": {},
   "source": [
    "## Definimos las funciones a utilizar"
   ]
  },
  {
   "cell_type": "markdown",
   "metadata": {},
   "source": [
    "### Evalua la función con las betas"
   ]
  },
  {
   "cell_type": "code",
   "execution_count": 117,
   "metadata": {
    "collapsed": false
   },
   "outputs": [],
   "source": [
    "#betas = [2,2,2,2,2]\n",
    "#X_train_std.loc[[823]]\n",
    "\n",
    "def salida(betas,x):\n",
    "      return betas[0] + np.array(betas[1:]).dot(x.transpose())"
   ]
  },
  {
   "cell_type": "code",
   "execution_count": 124,
   "metadata": {
    "collapsed": false
   },
   "outputs": [
    {
     "data": {
      "text/html": [
       "<div>\n",
       "<table border=\"1\" class=\"dataframe\">\n",
       "  <thead>\n",
       "    <tr style=\"text-align: right;\">\n",
       "      <th></th>\n",
       "      <th>X</th>\n",
       "    </tr>\n",
       "  </thead>\n",
       "  <tbody>\n",
       "    <tr>\n",
       "      <th>50</th>\n",
       "      <td>0.497973</td>\n",
       "    </tr>\n",
       "  </tbody>\n",
       "</table>\n",
       "</div>"
      ],
      "text/plain": [
       "           X\n",
       "50  0.497973"
      ]
     },
     "execution_count": 124,
     "metadata": {},
     "output_type": "execute_result"
    }
   ],
   "source": [
    "X_prueba_std.head()\n",
    "\n",
    "X_prueba_std.loc[[50]][[0]]\n",
    "\n",
    "\n",
    "\n",
    "betas=[1,1,1,1,1]\n",
    "etha=0.01\n",
    "i= 50\n",
    "lambdas=.5\n",
    "error = Y_prueba_std.y[i]-salida(betas,X_prueba_std.loc[[i]])\n",
    "\n",
    "betas[1] + etha*(error*X_prueba_std.loc[[i]][[0]]) - lambdas*betas[1]"
   ]
  },
  {
   "cell_type": "markdown",
   "metadata": {},
   "source": [
    "### Entrena el modelo"
   ]
  },
  {
   "cell_type": "code",
   "execution_count": null,
   "metadata": {
    "collapsed": false
   },
   "outputs": [],
   "source": [
    "# tenemos que pasar X_prueba_std y Y_prueba_std\n",
    "\n",
    "def entrena(X_prueba,y_prueba,etha,lambdas,betas_ini):\n",
    "    betas = betas_ini\n",
    "    error=0\n",
    "       \n",
    "    for i in X_prueba.index:\n",
    "        error = y_prueba.y[i]-salida(betas,X_prueba.loc[[i]])\n",
    "        \n",
    "        betas[0] = betas[0] + etha*error\n",
    "        #betas[1] = betas[1] + etha*(error*X_prueba.loc[[i]][[0]]) - lambdas*betas[1]\n",
    "        \n",
    "        #for j in range(1, len(betas_ini)):\n",
    "        #    betas[j] = betas[j] + etha*(error*X_prueba.loc[[i]][[j-1]]) - lambdas*betas[j]\n",
    "\n",
    "    return betas\n",
    "    \n",
    "betas_ini=[1,1,1,1,1]\n",
    "betas_fin=entrena(X_prueba_std,Y_prueba_std,0.01,.5,betas_ini)\n",
    "\n",
    "return betas_fin\n",
    "\n"
   ]
  },
  {
   "cell_type": "code",
   "execution_count": null,
   "metadata": {
    "collapsed": true
   },
   "outputs": [],
   "source": []
  },
  {
   "cell_type": "code",
   "execution_count": null,
   "metadata": {
    "collapsed": true
   },
   "outputs": [],
   "source": []
  }
 ],
 "metadata": {
  "kernelspec": {
   "display_name": "Python 2",
   "language": "python",
   "name": "python2"
  },
  "language_info": {
   "codemirror_mode": {
    "name": "ipython",
    "version": 2
   },
   "file_extension": ".py",
   "mimetype": "text/x-python",
   "name": "python",
   "nbconvert_exporter": "python",
   "pygments_lexer": "ipython2",
   "version": "2.7.10"
  }
 },
 "nbformat": 4,
 "nbformat_minor": 0
}
