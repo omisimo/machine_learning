{
 "cells": [
  {
   "cell_type": "code",
   "execution_count": 27,
   "metadata": {
    "collapsed": true
   },
   "outputs": [],
   "source": [
    "import numpy as np\n",
    "import pandas as pd\n",
    "from sklearn.linear_model import LinearRegression\n",
    "from sklearn.cross_validation import train_test_split\n",
    "from matplotlib import pyplot as plt\n",
    "%matplotlib inline"
   ]
  },
  {
   "cell_type": "markdown",
   "metadata": {},
   "source": [
    "# Lectura de los datos"
   ]
  },
  {
   "cell_type": "code",
   "execution_count": 4,
   "metadata": {
    "collapsed": false
   },
   "outputs": [
    {
     "data": {
      "text/html": [
       "<div>\n",
       "<table border=\"1\" class=\"dataframe\">\n",
       "  <thead>\n",
       "    <tr style=\"text-align: right;\">\n",
       "      <th></th>\n",
       "      <th>X</th>\n",
       "      <th>y</th>\n",
       "    </tr>\n",
       "  </thead>\n",
       "  <tbody>\n",
       "    <tr>\n",
       "      <th>0</th>\n",
       "      <td>35.657897</td>\n",
       "      <td>28.074403</td>\n",
       "    </tr>\n",
       "    <tr>\n",
       "      <th>1</th>\n",
       "      <td>48.685931</td>\n",
       "      <td>36.674434</td>\n",
       "    </tr>\n",
       "    <tr>\n",
       "      <th>2</th>\n",
       "      <td>95.861773</td>\n",
       "      <td>67.903577</td>\n",
       "    </tr>\n",
       "    <tr>\n",
       "      <th>3</th>\n",
       "      <td>25.997253</td>\n",
       "      <td>11.931727</td>\n",
       "    </tr>\n",
       "    <tr>\n",
       "      <th>4</th>\n",
       "      <td>49.964772</td>\n",
       "      <td>30.286144</td>\n",
       "    </tr>\n",
       "  </tbody>\n",
       "</table>\n",
       "</div>"
      ],
      "text/plain": [
       "           X          y\n",
       "0  35.657897  28.074403\n",
       "1  48.685931  36.674434\n",
       "2  95.861773  67.903577\n",
       "3  25.997253  11.931727\n",
       "4  49.964772  30.286144"
      ]
     },
     "execution_count": 4,
     "metadata": {},
     "output_type": "execute_result"
    }
   ],
   "source": [
    "data = pd.read_csv('regLin.csv')\n",
    "data.head()"
   ]
  },
  {
   "cell_type": "markdown",
   "metadata": {},
   "source": [
    "# Separamos la base en muestras de entrenamiento y prueba"
   ]
  },
  {
   "cell_type": "code",
   "execution_count": 5,
   "metadata": {
    "collapsed": false
   },
   "outputs": [
    {
     "data": {
      "text/plain": [
       "581    33.286589\n",
       "936    56.641689\n",
       "423    43.230505\n",
       "25     13.374210\n",
       "34     28.643515\n",
       "Name: y, dtype: float64"
      ]
     },
     "execution_count": 5,
     "metadata": {},
     "output_type": "execute_result"
    }
   ],
   "source": [
    "X_train, X_test, y_train, y_test = train_test_split(data[['X']], data['y'], test_size = 0.3)\n",
    "\n",
    "X_train.head()\n",
    "y_train.head()"
   ]
  },
  {
   "cell_type": "markdown",
   "metadata": {},
   "source": [
    "# Ajustamos el modelo"
   ]
  },
  {
   "cell_type": "markdown",
   "metadata": {},
   "source": [
    "\n",
    "Para ello, primero creamos el objeto de la regresión lineal y despues ajustamos el modelo"
   ]
  },
  {
   "cell_type": "code",
   "execution_count": 16,
   "metadata": {
    "collapsed": true
   },
   "outputs": [],
   "source": [
    "reg_lin = LinearRegression()\n",
    "mod = reg_lin.fit(X_train, y_train)"
   ]
  },
  {
   "cell_type": "markdown",
   "metadata": {},
   "source": [
    "\n",
    "Obtenemos las betas estimadas\n"
   ]
  },
  {
   "cell_type": "code",
   "execution_count": 37,
   "metadata": {
    "collapsed": false
   },
   "outputs": [
    {
     "name": "stdout",
     "output_type": "stream",
     "text": [
      "Beta_0:\n",
      "2.38949809951\n",
      "\n",
      "\n",
      "Beta_1:\n",
      "[ 0.60735305]\n"
     ]
    }
   ],
   "source": [
    "print('Beta_0:')\n",
    "print mod.intercept_\n",
    "print ('\\n')\n",
    "print('Beta_1:')\n",
    "print mod.coef_"
   ]
  },
  {
   "cell_type": "markdown",
   "metadata": {},
   "source": [
    "## Evaluamos el modelo"
   ]
  },
  {
   "cell_type": "code",
   "execution_count": 38,
   "metadata": {
    "collapsed": false
   },
   "outputs": [
    {
     "data": {
      "image/png": "[encoded data removed]",
      "text/plain": [
       "<matplotlib.figure.Figure at 0x10cab590>"
      ]
     },
     "metadata": {},
     "output_type": "display_data"
    }
   ],
   "source": [
    "pred = mod.predict(X_test)\n",
    "plt.scatter(X_test, y_test,  color='black')\n",
    "plt.plot(X_test, pred, color='blue',linewidth=3)\n",
    "plt.show()"
   ]
  },
  {
   "cell_type": "markdown",
   "metadata": {},
   "source": [
    "## Graficamos el error"
   ]
  },
  {
   "cell_type": "markdown",
   "metadata": {},
   "source": [
    "Creamos la función que nos calcula el error"
   ]
  },
  {
   "cell_type": "code",
   "execution_count": 39,
   "metadata": {
    "collapsed": true
   },
   "outputs": [],
   "source": [
    "def err2(w0,w1,x,y):\n",
    "    return sum((y - w0 - w1*x)**2)"
   ]
  },
  {
   "cell_type": "markdown",
   "metadata": {},
   "source": [
    "Hacemos un grid para la beta_1"
   ]
  },
  {
   "cell_type": "code",
   "execution_count": 43,
   "metadata": {
    "collapsed": false
   },
   "outputs": [
    {
     "data": {
      "text/plain": [
       "581     52.577081\n",
       "936     90.392240\n",
       "423     69.959200\n",
       "25      12.199013\n",
       "34      49.001012\n",
       "641     64.371431\n",
       "986     25.863028\n",
       "364     43.720490\n",
       "863     71.927649\n",
       "551     39.071177\n",
       "372      4.105296\n",
       "438     98.922674\n",
       "258     88.687315\n",
       "478     38.684943\n",
       "453     67.695669\n",
       "294      0.829009\n",
       "148     70.138817\n",
       "836     68.074147\n",
       "82      97.229944\n",
       "2       95.861773\n",
       "378     49.190060\n",
       "417     82.224890\n",
       "38      76.370930\n",
       "919     69.597105\n",
       "638     97.300180\n",
       "511     76.347235\n",
       "868     92.275212\n",
       "306     85.805692\n",
       "721     75.663206\n",
       "966     53.414793\n",
       "          ...    \n",
       "346     93.255648\n",
       "377     46.923642\n",
       "676     19.857952\n",
       "215     79.112194\n",
       "100     95.840157\n",
       "285      2.037208\n",
       "980     99.959580\n",
       "289     13.143911\n",
       "1020    13.607691\n",
       "197     91.395397\n",
       "127     83.379007\n",
       "799     83.446622\n",
       "915     26.825845\n",
       "248     32.164539\n",
       "594     98.135947\n",
       "344      5.672565\n",
       "321     45.154385\n",
       "311     86.121051\n",
       "251     76.602489\n",
       "970     79.372754\n",
       "226      2.833125\n",
       "394     75.690462\n",
       "33      98.637530\n",
       "5       55.003337\n",
       "235      9.052392\n",
       "193     47.250404\n",
       "442     34.043626\n",
       "10      10.627199\n",
       "42       7.958982\n",
       "227     79.382341\n",
       "Name: X, dtype: float64"
      ]
     },
     "execution_count": 43,
     "metadata": {},
     "output_type": "execute_result"
    }
   ],
   "source": [
    "b1 = np.linspace(mod.coef_-2,modelo.coef_+2,num=20)\n",
    "x = np.squeeze(X_train)\n",
    "x"
   ]
  },
  {
   "cell_type": "code",
   "execution_count": null,
   "metadata": {
    "collapsed": true
   },
   "outputs": [],
   "source": [
    "#x = np.squeeze(X_train)\n",
    "w0 = np.linspace(-100,100,num=20)\n",
    "w1 = np.linspace(modelo.coef_-2,modelo.coef_+2,num=20)\n",
    "def f(w0,w1,x,y):\n",
    "    return sum((y - w0 - w1*x)**2)\n",
    "\n",
    "x = np.squeeze(X_train)\n",
    "F = np.zeros((len(w0), len(w1)))\n",
    "for i in range(len(w0)):\n",
    "    for j in range(len(w1)):\n",
    "        F[i,j] = f(w0[i],w1[j],x,y_train)\n",
    "W0, W1 = np.meshgrid(w0,w1,indexing='ij') # Lo de indexing es para que todo cuadre, si no hay que transponer F\n",
    "\n",
    "fig = plt.figure()\n",
    "ax = fig.gca(projection='3d')\n",
    "ax.plot_wireframe(W0, W1, F, )\n",
    "ax.set_zlim(-10,1e6*2)\n",
    "ax.view_init(elev=40, azim=120)\n",
    "ax.set_xlabel('w0')\n",
    "ax.set_ylabel('w1')\n",
    "ax.set_zlabel('f(w0,w1)')\n",
    "fig.set_size_inches(12,8)\n",
    "plt.show()"
   ]
  }
 ],
 "metadata": {
  "kernelspec": {
   "display_name": "Python 2",
   "language": "python",
   "name": "python2"
  },
  "language_info": {
   "codemirror_mode": {
    "name": "ipython",
    "version": 2
   },
   "file_extension": ".py",
   "mimetype": "text/x-python",
   "name": "python",
   "nbconvert_exporter": "python",
   "pygments_lexer": "ipython2",
   "version": "2.7.10"
  }
 },
 "nbformat": 4,
 "nbformat_minor": 0
}
