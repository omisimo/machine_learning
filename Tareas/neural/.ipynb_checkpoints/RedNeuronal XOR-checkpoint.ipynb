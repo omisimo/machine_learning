{
 "cells": [
  {
   "cell_type": "markdown",
   "metadata": {},
   "source": [
    "# Omar Díaz Landa\n",
    "# 114041\n",
    "\n",
    "### Ejemplo paridad"
   ]
  },
  {
   "cell_type": "markdown",
   "metadata": {},
   "source": [
    "Dados n bits de entrada contar el número de 1's en la cadena. Si el número es impar la salida es 1, si el número es par la salida es 0."
   ]
  },
  {
   "cell_type": "code",
   "execution_count": 107,
   "metadata": {
    "collapsed": false
   },
   "outputs": [],
   "source": [
    "from pybrain.tools.shortcuts import buildNetwork\n",
    "from pybrain.datasets import SupervisedDataSet\n",
    "from pybrain.supervised.trainers import BackpropTrainer\n",
    "\n",
    "import pandas as pd\n",
    "import numpy as np\n",
    "import random as rd\n",
    "import math as mt\n",
    "import sklearn.metrics as sk\n",
    "import matplotlib.pyplot as plt\n",
    "%matplotlib inline"
   ]
  },
  {
   "cell_type": "markdown",
   "metadata": {},
   "source": [
    "Funciones auxiliares"
   ]
  },
  {
   "cell_type": "code",
   "execution_count": 2,
   "metadata": {
    "collapsed": false
   },
   "outputs": [],
   "source": [
    "def get_y(df):\n",
    "    y = df.iloc[:,(df.shape[1]-1)]\n",
    "    return y\n",
    "\n",
    "\n",
    "\n",
    "def get_xs(df):\n",
    "    df = df.iloc[:,0:(df.shape[1]-1)]\n",
    "    return df\n",
    "\n",
    "\n",
    "\n",
    "def add_x0(df):\n",
    "    x0 = [1 for i in range(0,len(df))]\n",
    "    x0 = pd.Series(x0)\n",
    "\n",
    "    df['x0'] = x0\n",
    "    return df\n",
    "\n",
    "\n",
    "\n",
    "def initializeWs(df):\n",
    "    w = [rd.random() for i in range(df.shape[1])]\n",
    "  \n",
    "    #print len(w)\n",
    "    return w\n"
   ]
  },
  {
   "cell_type": "markdown",
   "metadata": {},
   "source": [
    "Ejemplos de paridad"
   ]
  },
  {
   "cell_type": "code",
   "execution_count": 16,
   "metadata": {
    "collapsed": false
   },
   "outputs": [
    {
     "data": {
      "text/html": [
       "<div style=\"max-height:1000px;max-width:1500px;overflow:auto;\">\n",
       "<table border=\"1\" class=\"dataframe\">\n",
       "  <thead>\n",
       "    <tr style=\"text-align: right;\">\n",
       "      <th></th>\n",
       "      <th>x1</th>\n",
       "      <th>x2</th>\n",
       "      <th>x3</th>\n",
       "      <th>x4</th>\n",
       "      <th>x5</th>\n",
       "      <th>x6</th>\n",
       "    </tr>\n",
       "  </thead>\n",
       "  <tbody>\n",
       "    <tr>\n",
       "      <th>0</th>\n",
       "      <td> 0</td>\n",
       "      <td> 0</td>\n",
       "      <td> 0</td>\n",
       "      <td> 0</td>\n",
       "      <td> 0</td>\n",
       "      <td> 1</td>\n",
       "    </tr>\n",
       "    <tr>\n",
       "      <th>1</th>\n",
       "      <td> 1</td>\n",
       "      <td> 0</td>\n",
       "      <td> 0</td>\n",
       "      <td> 1</td>\n",
       "      <td> 0</td>\n",
       "      <td> 1</td>\n",
       "    </tr>\n",
       "    <tr>\n",
       "      <th>2</th>\n",
       "      <td> 1</td>\n",
       "      <td> 1</td>\n",
       "      <td> 0</td>\n",
       "      <td> 0</td>\n",
       "      <td> 0</td>\n",
       "      <td> 0</td>\n",
       "    </tr>\n",
       "    <tr>\n",
       "      <th>3</th>\n",
       "      <td> 0</td>\n",
       "      <td> 0</td>\n",
       "      <td> 1</td>\n",
       "      <td> 0</td>\n",
       "      <td> 0</td>\n",
       "      <td> 1</td>\n",
       "    </tr>\n",
       "    <tr>\n",
       "      <th>4</th>\n",
       "      <td> 1</td>\n",
       "      <td> 1</td>\n",
       "      <td> 1</td>\n",
       "      <td> 1</td>\n",
       "      <td> 1</td>\n",
       "      <td> 1</td>\n",
       "    </tr>\n",
       "    <tr>\n",
       "      <th>5</th>\n",
       "      <td> 1</td>\n",
       "      <td> 0</td>\n",
       "      <td> 1</td>\n",
       "      <td> 0</td>\n",
       "      <td> 1</td>\n",
       "      <td> 0</td>\n",
       "    </tr>\n",
       "  </tbody>\n",
       "</table>\n",
       "</div>"
      ],
      "text/plain": [
       "   x1  x2  x3  x4  x5  x6\n",
       "0   0   0   0   0   0   1\n",
       "1   1   0   0   1   0   1\n",
       "2   1   1   0   0   0   0\n",
       "3   0   0   1   0   0   1\n",
       "4   1   1   1   1   1   1\n",
       "5   1   0   1   0   1   0"
      ]
     },
     "execution_count": 16,
     "metadata": {},
     "output_type": "execute_result"
    }
   ],
   "source": [
    "d = {'x1':[0,1,1,0,1,1], 'x2': [0,0,1,0,1,0], 'x3': [0,0,0,1,1,1], 'x4':[0,1,0,0,1,0], 'x5':[0,0,0,0,1,1], 'x6':[1,1,0,1,1,0]}\n",
    "df = pd.DataFrame(d)\n",
    "y = [1,1,0,0,0,1]\n",
    "\n",
    "#df_aux = add_x0(df)\n",
    "dic = {#'x0': df_aux.loc[:,'x0'], \n",
    "       'x1': df.loc[:,\"x1\"],\n",
    "       'x2': df.loc[:,\"x2\"],\n",
    "       'x3': df.loc[:,\"x3\"],\n",
    "       'x4': df.loc[:,\"x4\"],\n",
    "       'x5': df.loc[:,\"x5\"],\n",
    "       'x6': df.loc[:,\"x6\"]}\n",
    "df = pd.DataFrame(dic)\n",
    "df"
   ]
  },
  {
   "cell_type": "markdown",
   "metadata": {},
   "source": [
    "### Definiendo topología de la red"
   ]
  },
  {
   "cell_type": "code",
   "execution_count": 17,
   "metadata": {
    "collapsed": false
   },
   "outputs": [
    {
     "data": {
      "text/html": [
       "<div style=\"max-height:1000px;max-width:1500px;overflow:auto;\">\n",
       "<table border=\"1\" class=\"dataframe\">\n",
       "  <thead>\n",
       "    <tr style=\"text-align: right;\">\n",
       "      <th></th>\n",
       "      <th>y</th>\n",
       "    </tr>\n",
       "  </thead>\n",
       "  <tbody>\n",
       "    <tr>\n",
       "      <th>0</th>\n",
       "      <td> 1</td>\n",
       "    </tr>\n",
       "    <tr>\n",
       "      <th>1</th>\n",
       "      <td> 1</td>\n",
       "    </tr>\n",
       "    <tr>\n",
       "      <th>2</th>\n",
       "      <td> 0</td>\n",
       "    </tr>\n",
       "    <tr>\n",
       "      <th>3</th>\n",
       "      <td> 0</td>\n",
       "    </tr>\n",
       "    <tr>\n",
       "      <th>4</th>\n",
       "      <td> 0</td>\n",
       "    </tr>\n",
       "    <tr>\n",
       "      <th>5</th>\n",
       "      <td> 1</td>\n",
       "    </tr>\n",
       "  </tbody>\n",
       "</table>\n",
       "</div>"
      ],
      "text/plain": [
       "   y\n",
       "0  1\n",
       "1  1\n",
       "2  0\n",
       "3  0\n",
       "4  0\n",
       "5  1"
      ]
     },
     "execution_count": 17,
     "metadata": {},
     "output_type": "execute_result"
    }
   ],
   "source": [
    "y_dic = {'y': y}\n",
    "df_y = pd.DataFrame(y_dic)\n",
    "df_y"
   ]
  },
  {
   "cell_type": "code",
   "execution_count": 18,
   "metadata": {
    "collapsed": false
   },
   "outputs": [
    {
     "name": "stdout",
     "output_type": "stream",
     "text": [
      "FeedForwardNetwork-17\n",
      "   Modules:\n",
      "    [<BiasUnit 'bias'>, <LinearLayer 'in'>, <SigmoidLayer 'hidden0'>, <LinearLayer 'out'>]\n",
      "   Connections:\n",
      "    [<FullConnection 'FullConnection-13': 'in' -> 'hidden0'>, <FullConnection 'FullConnection-14': 'hidden0' -> 'out'>, <FullConnection 'FullConnection-15': 'bias' -> 'out'>, <FullConnection 'FullConnection-16': 'bias' -> 'hidden0'>]\n",
      "\n"
     ]
    }
   ],
   "source": [
    "#numero de entradas, numero de capas intermedias, numero de salidas\n",
    "net=buildNetwork(df.shape[1],4,1)\n",
    "print net"
   ]
  },
  {
   "cell_type": "code",
   "execution_count": 19,
   "metadata": {
    "collapsed": false
   },
   "outputs": [],
   "source": [
    "#numero de variables diferentes, numero de valores diferentes de salida\n",
    "ds = SupervisedDataSet(df.shape[0], len(y))\n",
    "ds.setField('input',df)\n",
    "ds.setField('target',df_y)"
   ]
  },
  {
   "cell_type": "markdown",
   "metadata": {},
   "source": [
    "### Entrenar la red"
   ]
  },
  {
   "cell_type": "code",
   "execution_count": 20,
   "metadata": {
    "collapsed": false
   },
   "outputs": [],
   "source": [
    "trainer = BackpropTrainer(net,ds)"
   ]
  },
  {
   "cell_type": "code",
   "execution_count": 21,
   "metadata": {
    "collapsed": false
   },
   "outputs": [],
   "source": [
    "for i in range(1000):\n",
    "    trainer.train()"
   ]
  },
  {
   "cell_type": "code",
   "execution_count": 23,
   "metadata": {
    "collapsed": false
   },
   "outputs": [
    {
     "data": {
      "text/plain": [
       "array([ 0.62910564])"
      ]
     },
     "execution_count": 23,
     "metadata": {},
     "output_type": "execute_result"
    }
   ],
   "source": [
    "net.activate([1,1,0,0,1,1])"
   ]
  },
  {
   "cell_type": "markdown",
   "metadata": {},
   "source": [
    "## XOR "
   ]
  },
  {
   "cell_type": "code",
   "execution_count": 220,
   "metadata": {
    "collapsed": false
   },
   "outputs": [],
   "source": [
    "x1 = []\n",
    "x2 = []\n",
    "for i in range(500):\n",
    "    a=rd.random()\n",
    "    b=rd.random()\n",
    "    x1.append(a)\n",
    "    x2.append(b)\n"
   ]
  },
  {
   "cell_type": "code",
   "execution_count": 221,
   "metadata": {
    "collapsed": false
   },
   "outputs": [
    {
     "data": {
      "text/html": [
       "<div style=\"max-height:1000px;max-width:1500px;overflow:auto;\">\n",
       "<table border=\"1\" class=\"dataframe\">\n",
       "  <thead>\n",
       "    <tr style=\"text-align: right;\">\n",
       "      <th></th>\n",
       "      <th>x1</th>\n",
       "      <th>x2</th>\n",
       "    </tr>\n",
       "  </thead>\n",
       "  <tbody>\n",
       "    <tr>\n",
       "      <th>0</th>\n",
       "      <td> 0.969988</td>\n",
       "      <td> 0.360282</td>\n",
       "    </tr>\n",
       "    <tr>\n",
       "      <th>1</th>\n",
       "      <td> 0.980365</td>\n",
       "      <td> 0.606869</td>\n",
       "    </tr>\n",
       "    <tr>\n",
       "      <th>2</th>\n",
       "      <td> 0.259565</td>\n",
       "      <td> 0.294639</td>\n",
       "    </tr>\n",
       "    <tr>\n",
       "      <th>3</th>\n",
       "      <td> 0.159973</td>\n",
       "      <td> 0.505131</td>\n",
       "    </tr>\n",
       "    <tr>\n",
       "      <th>4</th>\n",
       "      <td> 0.576484</td>\n",
       "      <td> 0.172771</td>\n",
       "    </tr>\n",
       "  </tbody>\n",
       "</table>\n",
       "</div>"
      ],
      "text/plain": [
       "         x1        x2\n",
       "0  0.969988  0.360282\n",
       "1  0.980365  0.606869\n",
       "2  0.259565  0.294639\n",
       "3  0.159973  0.505131\n",
       "4  0.576484  0.172771"
      ]
     },
     "execution_count": 221,
     "metadata": {},
     "output_type": "execute_result"
    }
   ],
   "source": [
    "d = {'x1':x1, 'x2': x2}\n",
    "df = pd.DataFrame(d)\n",
    "\n",
    "#df_aux = add_x0(df)\n",
    "dic = {#'x0': df_aux.loc[:,'x0'], \n",
    "       'x1': df.loc[:,\"x1\"],\n",
    "       'x2': df.loc[:,\"x2\"]}\n",
    "df = pd.DataFrame(dic)\n",
    "df.head()"
   ]
  },
  {
   "cell_type": "code",
   "execution_count": 223,
   "metadata": {
    "collapsed": false
   },
   "outputs": [
    {
     "data": {
      "text/html": [
       "<div style=\"max-height:1000px;max-width:1500px;overflow:auto;\">\n",
       "<table border=\"1\" class=\"dataframe\">\n",
       "  <thead>\n",
       "    <tr style=\"text-align: right;\">\n",
       "      <th></th>\n",
       "      <th>y</th>\n",
       "    </tr>\n",
       "  </thead>\n",
       "  <tbody>\n",
       "    <tr>\n",
       "      <th>0</th>\n",
       "      <td> 1</td>\n",
       "    </tr>\n",
       "    <tr>\n",
       "      <th>1</th>\n",
       "      <td> 0</td>\n",
       "    </tr>\n",
       "    <tr>\n",
       "      <th>2</th>\n",
       "      <td> 0</td>\n",
       "    </tr>\n",
       "    <tr>\n",
       "      <th>3</th>\n",
       "      <td> 1</td>\n",
       "    </tr>\n",
       "    <tr>\n",
       "      <th>4</th>\n",
       "      <td> 1</td>\n",
       "    </tr>\n",
       "  </tbody>\n",
       "</table>\n",
       "</div>"
      ],
      "text/plain": [
       "   y\n",
       "0  1\n",
       "1  0\n",
       "2  0\n",
       "3  1\n",
       "4  1"
      ]
     },
     "execution_count": 223,
     "metadata": {},
     "output_type": "execute_result"
    }
   ],
   "source": [
    "y = []\n",
    "for i in range(len(x1)):\n",
    "    if x1[i] <= 0.5 and x2[i] <= 0.5:\n",
    "        y.append(0)\n",
    "    elif x1[i] > 0.5 and x2[i] <= 0.5:\n",
    "        y.append(1)\n",
    "    elif x1[i] <= 0.5 and x2[i] > 0.5:\n",
    "        y.append(1)\n",
    "    elif x1[i] > 0.5 and x2[i] > 0.5:\n",
    "        y.append(0)\n",
    "\n",
    "y_dic = {'y': y}\n",
    "df_y = pd.DataFrame(y_dic)\n",
    "df_y.head()"
   ]
  },
  {
   "cell_type": "code",
   "execution_count": 224,
   "metadata": {
    "collapsed": false
   },
   "outputs": [
    {
     "name": "stdout",
     "output_type": "stream",
     "text": [
      "FeedForwardNetwork-116\n",
      "   Modules:\n",
      "    [<BiasUnit 'bias'>, <LinearLayer 'in'>, <SigmoidLayer 'hidden0'>, <LinearLayer 'out'>]\n",
      "   Connections:\n",
      "    [<FullConnection 'FullConnection-112': 'in' -> 'hidden0'>, <FullConnection 'FullConnection-113': 'hidden0' -> 'out'>, <FullConnection 'FullConnection-114': 'bias' -> 'out'>, <FullConnection 'FullConnection-115': 'bias' -> 'hidden0'>]\n",
      "\n"
     ]
    }
   ],
   "source": [
    "net=buildNetwork(df.shape[1],4,1)\n",
    "print net"
   ]
  },
  {
   "cell_type": "code",
   "execution_count": 225,
   "metadata": {
    "collapsed": false
   },
   "outputs": [],
   "source": [
    "ds = SupervisedDataSet(df.shape[0], len(y))\n",
    "ds.setField('input',df)\n",
    "ds.setField('target',df_y)"
   ]
  },
  {
   "cell_type": "code",
   "execution_count": 226,
   "metadata": {
    "collapsed": false
   },
   "outputs": [],
   "source": [
    "trainer = BackpropTrainer(net,ds)"
   ]
  },
  {
   "cell_type": "code",
   "execution_count": 227,
   "metadata": {
    "collapsed": false
   },
   "outputs": [],
   "source": [
    "for i in range(1000):\n",
    "    trainer.train()"
   ]
  },
  {
   "cell_type": "code",
   "execution_count": 228,
   "metadata": {
    "collapsed": false
   },
   "outputs": [
    {
     "data": {
      "image/png": "[encoded data removed]",
      "text/plain": [
       "<matplotlib.figure.Figure at 0x10db1cb90>"
      ]
     },
     "metadata": {},
     "output_type": "display_data"
    }
   ],
   "source": [
    "input_data = []\n",
    "output_data_binary = []\n",
    "output_data_float = []\n",
    "\n",
    "for i in range(500):\n",
    "    x=rd.random()\n",
    "    y=rd.random()\n",
    "    input_data.append([x,y])\n",
    "    \n",
    "    output = net.activate([x,y])\n",
    "    output_data_float.append(output)\n",
    "    \n",
    "    #tp\n",
    "    if (output > 0.5 and x <= 0.5 and y > 0.5) or (output > 0.5 and x > 0.5 and y <= 0.5):\n",
    "        col = \"green\"\n",
    "        output_data_binary.append(1)\n",
    "    #tn\n",
    "    elif (output < 0.5 and x <= 0.5 and y <= 0.5) or (output < 0.5 and x > 0.5 and y > 0.5):\n",
    "        col = \"black\"\n",
    "        output_data_binary.append(0)\n",
    "    #fp\n",
    "    elif (output > 0.5 and x <= 0.5 and y <= 0.5) or (output > 0.5 and x > 0.5 and y > 0.5):\n",
    "        col = \"red\"\n",
    "        output_data_binary.append(0)\n",
    "    #fn\n",
    "    elif (output < 0.5 and x <= 0.5 and y > 0.5) or (output < 0.5 and x > 0.5 and y <= 0.5):\n",
    "        col = \"blue\"\n",
    "        output_data_binary.append(0)\n",
    "    plt.scatter(x,y, color=col)"
   ]
  },
  {
   "cell_type": "markdown",
   "metadata": {},
   "source": [
    "### Matriz de confusion"
   ]
  },
  {
   "cell_type": "code",
   "execution_count": 229,
   "metadata": {
    "collapsed": false
   },
   "outputs": [
    {
     "data": {
      "text/plain": [
       "array([[263, 112],\n",
       "       [  1, 124]])"
      ]
     },
     "execution_count": 229,
     "metadata": {},
     "output_type": "execute_result"
    }
   ],
   "source": [
    "y_real = []\n",
    "for i in range(len(input_data)):\n",
    "    if (input_data[i][0] <= 0.5 and input_data[i][1] <= 0.5) or (input_data[i][0] > 0.5 and input_data[i][0] > 0.5):\n",
    "        y_real.append(0)\n",
    "    else:\n",
    "        y_real.append(1)\n",
    "\n",
    "y_predicted = output_data_binary\n",
    "\n",
    "sk.confusion_matrix(y_real, y_predicted)"
   ]
  },
  {
   "cell_type": "markdown",
   "metadata": {},
   "source": [
    "#### Curva ROC"
   ]
  },
  {
   "cell_type": "code",
   "execution_count": 230,
   "metadata": {
    "collapsed": false
   },
   "outputs": [
    {
     "data": {
      "text/plain": [
       "0.84089599999999987"
      ]
     },
     "execution_count": 230,
     "metadata": {},
     "output_type": "execute_result"
    }
   ],
   "source": [
    "y_predicted = output_data_float\n",
    "fpr, tpr, thresholds = sk.roc_curve(y_real, y_predicted, pos_label=1)\n",
    "roc_auc = sk.auc(fpr, tpr)\n",
    "\n",
    "#area bajo la curva\n",
    "roc_auc"
   ]
  },
  {
   "cell_type": "code",
   "execution_count": 231,
   "metadata": {
    "collapsed": false
   },
   "outputs": [
    {
     "data": {
      "image/png": "[encoded data removed]",
      "text/plain": [
       "<matplotlib.figure.Figure at 0x10e04cdd0>"
      ]
     },
     "metadata": {},
     "output_type": "display_data"
    }
   ],
   "source": [
    "plt.figure()\n",
    "plt.plot(fpr, tpr, label='ROC curve (area = %0.2f)' % roc_auc)\n",
    "plt.plot([0, 1], [0, 1], 'k--')\n",
    "plt.xlim([0.0, 1.0])\n",
    "plt.ylim([0.0, 1.05])\n",
    "plt.xlabel('False Positive Rate')\n",
    "plt.ylabel('True Positive Rate')\n",
    "plt.title('Receiver operating characteristic example')\n",
    "plt.legend(loc=\"lower right\")\n",
    "plt.show()"
   ]
  },
  {
   "cell_type": "markdown",
   "metadata": {},
   "source": [
    "## Círculo"
   ]
  },
  {
   "cell_type": "code",
   "execution_count": 168,
   "metadata": {
    "collapsed": false
   },
   "outputs": [],
   "source": [
    "#generar datos \n",
    "x1 = []\n",
    "x2 = []\n",
    "y = []\n",
    "r = 1\n",
    "for i in range(250):\n",
    "    a=rd.uniform(-2,2)\n",
    "    b=rd.uniform(-2,2)\n",
    "    x1.append(a)\n",
    "    x2.append(b)\n",
    "    if mt.sqrt(a**2 + b**2) <= r**2:\n",
    "        output = 1\n",
    "    else: \n",
    "        output = 0\n",
    "    \n",
    "    y.append(output)"
   ]
  },
  {
   "cell_type": "code",
   "execution_count": 169,
   "metadata": {
    "collapsed": false
   },
   "outputs": [
    {
     "data": {
      "text/plain": [
       "[-1.8883345481100964,\n",
       " -0.6005952686803786,\n",
       " 1.7187272862116258,\n",
       " -0.6423588853370181,\n",
       " -0.5593313473532286]"
      ]
     },
     "execution_count": 169,
     "metadata": {},
     "output_type": "execute_result"
    }
   ],
   "source": [
    "x1[0:5]"
   ]
  },
  {
   "cell_type": "code",
   "execution_count": 170,
   "metadata": {
    "collapsed": false
   },
   "outputs": [
    {
     "data": {
      "text/plain": [
       "[0.09087554560437461,\n",
       " 0.8087897748944095,\n",
       " -0.39466719259161875,\n",
       " -1.5610173376007763,\n",
       " -0.7166746024443946]"
      ]
     },
     "execution_count": 170,
     "metadata": {},
     "output_type": "execute_result"
    }
   ],
   "source": [
    "x2[0:5]"
   ]
  },
  {
   "cell_type": "code",
   "execution_count": 171,
   "metadata": {
    "collapsed": false
   },
   "outputs": [
    {
     "data": {
      "text/plain": [
       "[0, 0, 0, 0, 1]"
      ]
     },
     "execution_count": 171,
     "metadata": {},
     "output_type": "execute_result"
    }
   ],
   "source": [
    "y[0:5]"
   ]
  },
  {
   "cell_type": "markdown",
   "metadata": {},
   "source": [
    "#### Graficamos los datos:"
   ]
  },
  {
   "cell_type": "code",
   "execution_count": 172,
   "metadata": {
    "collapsed": false
   },
   "outputs": [
    {
     "data": {
      "image/png": "[encoded data removed]",
      "text/plain": [
       "<matplotlib.figure.Figure at 0x10e3e8710>"
      ]
     },
     "metadata": {},
     "output_type": "display_data"
    }
   ],
   "source": [
    "for i in range(len(x1)):\n",
    "    if y[i] == 1:\n",
    "        col= \"green\"\n",
    "    else:\n",
    "        col=\"blue\"\n",
    "    plt.scatter(x1[i],x2[i], color=col)"
   ]
  },
  {
   "cell_type": "markdown",
   "metadata": {},
   "source": [
    "Convertimos a data frame"
   ]
  },
  {
   "cell_type": "code",
   "execution_count": 173,
   "metadata": {
    "collapsed": false
   },
   "outputs": [
    {
     "data": {
      "text/html": [
       "<div style=\"max-height:1000px;max-width:1500px;overflow:auto;\">\n",
       "<table border=\"1\" class=\"dataframe\">\n",
       "  <thead>\n",
       "    <tr style=\"text-align: right;\">\n",
       "      <th></th>\n",
       "      <th>x1</th>\n",
       "      <th>x2</th>\n",
       "    </tr>\n",
       "  </thead>\n",
       "  <tbody>\n",
       "    <tr>\n",
       "      <th>0</th>\n",
       "      <td>-1.888335</td>\n",
       "      <td> 0.090876</td>\n",
       "    </tr>\n",
       "    <tr>\n",
       "      <th>1</th>\n",
       "      <td>-0.600595</td>\n",
       "      <td> 0.808790</td>\n",
       "    </tr>\n",
       "    <tr>\n",
       "      <th>2</th>\n",
       "      <td> 1.718727</td>\n",
       "      <td>-0.394667</td>\n",
       "    </tr>\n",
       "    <tr>\n",
       "      <th>3</th>\n",
       "      <td>-0.642359</td>\n",
       "      <td>-1.561017</td>\n",
       "    </tr>\n",
       "    <tr>\n",
       "      <th>4</th>\n",
       "      <td>-0.559331</td>\n",
       "      <td>-0.716675</td>\n",
       "    </tr>\n",
       "  </tbody>\n",
       "</table>\n",
       "</div>"
      ],
      "text/plain": [
       "         x1        x2\n",
       "0 -1.888335  0.090876\n",
       "1 -0.600595  0.808790\n",
       "2  1.718727 -0.394667\n",
       "3 -0.642359 -1.561017\n",
       "4 -0.559331 -0.716675"
      ]
     },
     "execution_count": 173,
     "metadata": {},
     "output_type": "execute_result"
    }
   ],
   "source": [
    "d = {'x1':x1, 'x2': x2}\n",
    "df = pd.DataFrame(d)\n",
    "\n",
    "#df_aux = add_x0(df)\n",
    "dic = {#'x0': df_aux.loc[:,'x0'], \n",
    "       'x1': df.loc[:,\"x1\"],\n",
    "       'x2': df.loc[:,\"x2\"]}\n",
    "df = pd.DataFrame(dic)\n",
    "df.head()"
   ]
  },
  {
   "cell_type": "code",
   "execution_count": 174,
   "metadata": {
    "collapsed": false
   },
   "outputs": [
    {
     "data": {
      "text/html": [
       "<div style=\"max-height:1000px;max-width:1500px;overflow:auto;\">\n",
       "<table border=\"1\" class=\"dataframe\">\n",
       "  <thead>\n",
       "    <tr style=\"text-align: right;\">\n",
       "      <th></th>\n",
       "      <th>y</th>\n",
       "    </tr>\n",
       "  </thead>\n",
       "  <tbody>\n",
       "    <tr>\n",
       "      <th>0</th>\n",
       "      <td> 0</td>\n",
       "    </tr>\n",
       "    <tr>\n",
       "      <th>1</th>\n",
       "      <td> 0</td>\n",
       "    </tr>\n",
       "    <tr>\n",
       "      <th>2</th>\n",
       "      <td> 0</td>\n",
       "    </tr>\n",
       "    <tr>\n",
       "      <th>3</th>\n",
       "      <td> 0</td>\n",
       "    </tr>\n",
       "    <tr>\n",
       "      <th>4</th>\n",
       "      <td> 1</td>\n",
       "    </tr>\n",
       "  </tbody>\n",
       "</table>\n",
       "</div>"
      ],
      "text/plain": [
       "   y\n",
       "0  0\n",
       "1  0\n",
       "2  0\n",
       "3  0\n",
       "4  1"
      ]
     },
     "execution_count": 174,
     "metadata": {},
     "output_type": "execute_result"
    }
   ],
   "source": [
    "y_dic = {'y': y}\n",
    "df_y = pd.DataFrame(y_dic)\n",
    "df_y.head()"
   ]
  },
  {
   "cell_type": "markdown",
   "metadata": {},
   "source": [
    "### Entrenamos la red"
   ]
  },
  {
   "cell_type": "code",
   "execution_count": 175,
   "metadata": {
    "collapsed": false
   },
   "outputs": [
    {
     "name": "stdout",
     "output_type": "stream",
     "text": [
      "FeedForwardNetwork-62\n",
      "   Modules:\n",
      "    [<BiasUnit 'bias'>, <LinearLayer 'in'>, <SigmoidLayer 'hidden0'>, <LinearLayer 'out'>]\n",
      "   Connections:\n",
      "    [<FullConnection 'FullConnection-58': 'in' -> 'hidden0'>, <FullConnection 'FullConnection-59': 'hidden0' -> 'out'>, <FullConnection 'FullConnection-60': 'bias' -> 'out'>, <FullConnection 'FullConnection-61': 'bias' -> 'hidden0'>]\n",
      "\n"
     ]
    }
   ],
   "source": [
    "net=buildNetwork(df.shape[1],3,1)\n",
    "print net"
   ]
  },
  {
   "cell_type": "code",
   "execution_count": 176,
   "metadata": {
    "collapsed": false
   },
   "outputs": [],
   "source": [
    "ds = SupervisedDataSet(df.shape[0], len(y))\n",
    "ds.setField('input',df)\n",
    "ds.setField('target',df_y)"
   ]
  },
  {
   "cell_type": "code",
   "execution_count": 177,
   "metadata": {
    "collapsed": false
   },
   "outputs": [],
   "source": [
    "trainer = BackpropTrainer(net,ds)"
   ]
  },
  {
   "cell_type": "code",
   "execution_count": 178,
   "metadata": {
    "collapsed": false
   },
   "outputs": [],
   "source": [
    "for i in range(1000):\n",
    "    trainer.train()"
   ]
  },
  {
   "cell_type": "code",
   "execution_count": 179,
   "metadata": {
    "collapsed": false
   },
   "outputs": [
    {
     "data": {
      "image/png": "[encoded data removed]",
      "text/plain": [
       "<matplotlib.figure.Figure at 0x10dc72d10>"
      ]
     },
     "metadata": {},
     "output_type": "display_data"
    }
   ],
   "source": [
    "#tp: verde, fp:rojo, tn:azul, fn:negro\n",
    "#cayó dentro del circulo = 1\n",
    "#plt.axis([-2, 2, -2, 2])\n",
    "\n",
    "input_data = []\n",
    "output_data_float = []\n",
    "output_data_binary = []\n",
    "\n",
    "for i in range(500):\n",
    "    x1=rd.uniform(-2,2)\n",
    "    x2=rd.uniform(-2,2)\n",
    "    input_data.append(x1**2+x2**2)\n",
    "    \n",
    "    output = net.activate([x1**2,x2**2])\n",
    "    output_data_float.append(output[0])\n",
    "    \n",
    "    #tp\n",
    "    if output > 0.5 and mt.sqrt(x1**2 + x2**2) <= r**2:\n",
    "        col = \"green\"\n",
    "        output_data_binary.append(1)\n",
    "    #fn    \n",
    "    elif output > 0.5 and mt.sqrt(x1**2 + x2**2) > r**2 :\n",
    "        col = \"black\"\n",
    "        output_data_binary.append(0)\n",
    "    #fp\n",
    "    elif output <= 0.5 and mt.sqrt(x1**2 + x2**2) <= r**2:\n",
    "        col = \"red\"\n",
    "        output_data_binary.append(0)\n",
    "    #tn    \n",
    "    elif output <= 0.5 and mt.sqrt(x1**2 + x2**2) > r**2:\n",
    "        col = \"blue\"\n",
    "        output_data_binary.append(0)\n",
    "    plt.scatter(x1,x2, color=col)"
   ]
  },
  {
   "cell_type": "markdown",
   "metadata": {},
   "source": [
    "### Matriz de confusión"
   ]
  },
  {
   "cell_type": "code",
   "execution_count": 180,
   "metadata": {
    "collapsed": false
   },
   "outputs": [
    {
     "data": {
      "text/plain": [
       "array([[399,   0],\n",
       "       [  0, 101]])"
      ]
     },
     "execution_count": 180,
     "metadata": {},
     "output_type": "execute_result"
    }
   ],
   "source": [
    "y_real = []\n",
    "for i in range(len(input_data)):\n",
    "    if mt.sqrt(input_data[i]) <= r**2:\n",
    "        y_real.append(1)\n",
    "    else:\n",
    "        y_real.append(0)\n",
    "\n",
    "y_predicted = output_data_binary\n",
    "\n",
    "sk.confusion_matrix(y_real, y_predicted)"
   ]
  },
  {
   "cell_type": "markdown",
   "metadata": {},
   "source": [
    "#### Curva ROC"
   ]
  },
  {
   "cell_type": "code",
   "execution_count": 181,
   "metadata": {
    "collapsed": false
   },
   "outputs": [
    {
     "data": {
      "text/plain": [
       "0.99952852428099948"
      ]
     },
     "execution_count": 181,
     "metadata": {},
     "output_type": "execute_result"
    }
   ],
   "source": [
    "y_predicted = output_data_float\n",
    "fpr, tpr, thresholds = sk.roc_curve(y_real, y_predicted, pos_label=1)\n",
    "roc_auc = sk.auc(fpr, tpr)\n",
    "\n",
    "#area bajo la curva\n",
    "roc_auc"
   ]
  },
  {
   "cell_type": "code",
   "execution_count": 182,
   "metadata": {
    "collapsed": false
   },
   "outputs": [
    {
     "data": {
      "image/png": "[encoded data removed]",
      "text/plain": [
       "<matplotlib.figure.Figure at 0x10dbf5650>"
      ]
     },
     "metadata": {},
     "output_type": "display_data"
    }
   ],
   "source": [
    "plt.figure()\n",
    "plt.plot(fpr, tpr, label='ROC curve (area = %0.2f)' % roc_auc)\n",
    "plt.plot([0, 1], [0, 1], 'k--')\n",
    "plt.xlim([0.0, 1.0])\n",
    "plt.ylim([0.0, 1.05])\n",
    "plt.xlabel('False Positive Rate')\n",
    "plt.ylabel('True Positive Rate')\n",
    "plt.title('Receiver operating characteristic example')\n",
    "plt.legend(loc=\"lower right\")\n",
    "plt.show()"
   ]
  },
  {
   "cell_type": "code",
   "execution_count": null,
   "metadata": {
    "collapsed": false
   },
   "outputs": [],
   "source": []
  }
 ],
 "metadata": {
  "kernelspec": {
   "display_name": "Python 2",
   "language": "python",
   "name": "python2"
  },
  "language_info": {
   "codemirror_mode": {
    "name": "ipython",
    "version": 2
   },
   "file_extension": ".py",
   "mimetype": "text/x-python",
   "name": "python",
   "nbconvert_exporter": "python",
   "pygments_lexer": "ipython2",
   "version": "2.7.10"
  }
 },
 "nbformat": 4,
 "nbformat_minor": 0
}
