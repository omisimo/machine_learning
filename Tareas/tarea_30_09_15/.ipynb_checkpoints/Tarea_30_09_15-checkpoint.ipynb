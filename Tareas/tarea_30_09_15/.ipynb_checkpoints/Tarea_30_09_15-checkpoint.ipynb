{
 "cells": [
  {
   "cell_type": "code",
   "execution_count": 168,
   "metadata": {
    "collapsed": true
   },
   "outputs": [],
   "source": [
    "import pandas as pd\n",
    "import numpy as np\n",
    "import csv\n",
    "import random as rnd\n",
    "from sklearn import preprocessing\n",
    "from sklearn.cross_validation import train_test_split\n",
    "from sklearn.linear_model import LinearRegression\n",
    "import matplotlib.pyplot as plt\n",
    "%matplotlib inline\n",
    "from random import randint"
   ]
  },
  {
   "cell_type": "markdown",
   "metadata": {},
   "source": [
    "## Creamos los datos"
   ]
  },
  {
   "cell_type": "code",
   "execution_count": 169,
   "metadata": {
    "collapsed": false
   },
   "outputs": [],
   "source": [
    "X=[]\n",
    "for i in range(100000):\n",
    "    X.append(np.random.randint(2, size=2))"
   ]
  },
  {
   "cell_type": "markdown",
   "metadata": {},
   "source": [
    "## Definimos la regla para y"
   ]
  },
  {
   "cell_type": "code",
   "execution_count": 170,
   "metadata": {
    "collapsed": false
   },
   "outputs": [],
   "source": [
    "y= [0] * len(X)\n",
    "\n",
    "def vo(X,y):\n",
    "    for i in range(len(X)):\n",
    "        if sum(X[i])==2:\n",
    "            y[i]=1\n",
    "    return y\n",
    "\n",
    "Y=vo(X,y)\n"
   ]
  },
  {
   "cell_type": "code",
   "execution_count": 171,
   "metadata": {
    "collapsed": false
   },
   "outputs": [
    {
     "name": "stdout",
     "output_type": "stream",
     "text": [
      "[array([1, 1]), array([1, 1]), array([0, 1]), array([0, 1])]\n",
      "[1, 1, 0, 0]\n"
     ]
    }
   ],
   "source": [
    "print X[1:5]\n",
    "print Y[1:5]"
   ]
  },
  {
   "cell_type": "markdown",
   "metadata": {},
   "source": [
    "## Definimos w's iniciales"
   ]
  },
  {
   "cell_type": "code",
   "execution_count": 172,
   "metadata": {
    "collapsed": false
   },
   "outputs": [
    {
     "name": "stdout",
     "output_type": "stream",
     "text": [
      "[0.28715409360155164, 0.37007722450079095, 0.3742257603094452]\n"
     ]
    }
   ],
   "source": [
    "w=[rnd.random() for i in range(1+len(X[1]))]\n",
    "print w"
   ]
  },
  {
   "cell_type": "markdown",
   "metadata": {},
   "source": [
    "## Definimos las funciones que haran la regresión regularizada"
   ]
  },
  {
   "cell_type": "code",
   "execution_count": 173,
   "metadata": {
    "collapsed": true
   },
   "outputs": [],
   "source": [
    "def salida(w,X):\n",
    "    res= np.sum(np.asarray(w[1:])*np.asarray(X)) +w[0]\n",
    "    if res >=0:\n",
    "        return 1\n",
    "    else:\n",
    "        return 0\n",
    "    \n",
    "def entrena(X,y,w,la=0.0):\n",
    "    eta=0.01\n",
    "    for i in range(len(X)):\n",
    "        error=y[i]-salida(w,X[i])\n",
    "        w[0]=w[0]+eta*(error)-la*w[0]\n",
    "        for j in range(len(w)-1):\n",
    "            w[j+1]=w[j+1]+eta*(error*X[i][j])-la*w[j+1]\n",
    "    return w"
   ]
  },
  {
   "cell_type": "code",
   "execution_count": 174,
   "metadata": {
    "collapsed": false
   },
   "outputs": [
    {
     "name": "stdout",
     "output_type": "stream",
     "text": [
      "[-0.21284590639844853, 0.2000772245007908, 0.15422576030944501]\n"
     ]
    }
   ],
   "source": [
    "w_new=entrena(X,Y,w,la=0.0)\n",
    "print w_new"
   ]
  },
  {
   "cell_type": "code",
   "execution_count": 175,
   "metadata": {
    "collapsed": false
   },
   "outputs": [
    {
     "name": "stdout",
     "output_type": "stream",
     "text": [
      "1.38009309192\n",
      "0.0827921475118\n"
     ]
    },
    {
     "data": {
      "text/plain": [
       "<matplotlib.collections.PathCollection at 0x12389330>"
      ]
     },
     "execution_count": 175,
     "metadata": {},
     "output_type": "execute_result"
    },
    {
     "data": {
      "image/png": "[encoded data removed]",
      "text/plain": [
       "<matplotlib.figure.Figure at 0xe30ecb0>"
      ]
     },
     "metadata": {},
     "output_type": "display_data"
    }
   ],
   "source": [
    "x1=[]\n",
    "x2=[]\n",
    "for i in range(len(X)):\n",
    "    x1.append(X[i][0])\n",
    "    x2.append(X[i][1])\n",
    "    \n",
    "print -w_new[0]/w_new[2]\n",
    "print ((-w_new[0]-w_new[1])/w_new[2])\n",
    "    \n",
    "plt.plot([0,1], [-w_new[0]/w_new[2],((-w_new[0]-w_new[1])/w_new[2])])    \n",
    "\n",
    "#plt.plot([-w_new[0]/w_new[2],(-w_new[0]-w_new[1])/w_new[2]])\n",
    "    \n",
    "#x2_new= (-w_new[1]/w_new[2])*x1\n",
    "#print x2_new\n",
    "\n",
    "plt.scatter(x1,x2)"
   ]
  },
  {
   "cell_type": "code",
   "execution_count": null,
   "metadata": {
    "collapsed": true
   },
   "outputs": [],
   "source": []
  }
 ],
 "metadata": {
  "kernelspec": {
   "display_name": "Python 2",
   "language": "python",
   "name": "python2"
  },
  "language_info": {
   "codemirror_mode": {
    "name": "ipython",
    "version": 2
   },
   "file_extension": ".py",
   "mimetype": "text/x-python",
   "name": "python",
   "nbconvert_exporter": "python",
   "pygments_lexer": "ipython2",
   "version": "2.7.10"
  }
 },
 "nbformat": 4,
 "nbformat_minor": 0
}
