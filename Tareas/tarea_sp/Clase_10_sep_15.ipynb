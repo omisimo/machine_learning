{
 "cells": [
  {
   "cell_type": "markdown",
   "metadata": {},
   "source": [
    "#Clase 10 Septiembre 2015"
   ]
  },
  {
   "cell_type": "code",
   "execution_count": 22,
   "metadata": {
    "collapsed": true
   },
   "outputs": [],
   "source": [
    "import pandas as pd\n",
    "import numpy as np\n",
    "import csv\n",
    "import random as rnd\n",
    "from sklearn import preprocessing\n",
    "from sklearn.cross_validation import train_test_split\n",
    "from sklearn.linear_model import LinearRegression\n",
    "import matplotlib.pyplot as plt\n",
    "%matplotlib inline"
   ]
  },
  {
   "cell_type": "markdown",
   "metadata": {},
   "source": [
    "## Lectura de Datos"
   ]
  },
  {
   "cell_type": "code",
   "execution_count": 23,
   "metadata": {
    "collapsed": false
   },
   "outputs": [
    {
     "data": {
      "text/html": [
       "<div>\n",
       "<table border=\"1\" class=\"dataframe\">\n",
       "  <thead>\n",
       "    <tr style=\"text-align: right;\">\n",
       "      <th></th>\n",
       "      <th>X</th>\n",
       "      <th>X2</th>\n",
       "      <th>X3</th>\n",
       "      <th>X4</th>\n",
       "      <th>y</th>\n",
       "    </tr>\n",
       "  </thead>\n",
       "  <tbody>\n",
       "    <tr>\n",
       "      <th>0</th>\n",
       "      <td>7.317938</td>\n",
       "      <td>53.552216</td>\n",
       "      <td>1.683319</td>\n",
       "      <td>0.859736</td>\n",
       "      <td>20.716319</td>\n",
       "    </tr>\n",
       "    <tr>\n",
       "      <th>1</th>\n",
       "      <td>1.284357</td>\n",
       "      <td>1.649574</td>\n",
       "      <td>3.395139</td>\n",
       "      <td>0.959256</td>\n",
       "      <td>8.098008</td>\n",
       "    </tr>\n",
       "    <tr>\n",
       "      <th>2</th>\n",
       "      <td>97.740652</td>\n",
       "      <td>9553.235088</td>\n",
       "      <td>0.366480</td>\n",
       "      <td>-0.344100</td>\n",
       "      <td>5992.603427</td>\n",
       "    </tr>\n",
       "    <tr>\n",
       "      <th>3</th>\n",
       "      <td>17.753591</td>\n",
       "      <td>315.190006</td>\n",
       "      <td>-1.945300</td>\n",
       "      <td>-0.889370</td>\n",
       "      <td>199.959361</td>\n",
       "    </tr>\n",
       "    <tr>\n",
       "      <th>4</th>\n",
       "      <td>66.441081</td>\n",
       "      <td>4414.417290</td>\n",
       "      <td>0.504995</td>\n",
       "      <td>-0.450777</td>\n",
       "      <td>2384.624168</td>\n",
       "    </tr>\n",
       "  </tbody>\n",
       "</table>\n",
       "</div>"
      ],
      "text/plain": [
       "           X           X2        X3        X4            y\n",
       "0   7.317938    53.552216  1.683319  0.859736    20.716319\n",
       "1   1.284357     1.649574  3.395139  0.959256     8.098008\n",
       "2  97.740652  9553.235088  0.366480 -0.344100  5992.603427\n",
       "3  17.753591   315.190006 -1.945300 -0.889370   199.959361\n",
       "4  66.441081  4414.417290  0.504995 -0.450777  2384.624168"
      ]
     },
     "execution_count": 23,
     "metadata": {},
     "output_type": "execute_result"
    }
   ],
   "source": [
    "datos = pd.read_csv(\"regLinPoli.csv\")\n",
    "datos.head()"
   ]
  },
  {
   "cell_type": "markdown",
   "metadata": {},
   "source": [
    "## Train y Test"
   ]
  },
  {
   "cell_type": "code",
   "execution_count": 24,
   "metadata": {
    "collapsed": true
   },
   "outputs": [],
   "source": [
    "X_train, X_test, Y_train, Y_test = train_test_split(datos[['X','X2','X3','X4']],datos['y'], train_size=0.75)"
   ]
  },
  {
   "cell_type": "code",
   "execution_count": 25,
   "metadata": {
    "collapsed": true
   },
   "outputs": [],
   "source": [
    "def minc(X_train,y_train,w,w0):\n",
    "    mc=0.0\n",
    "    for x in X_train:\n",
    "        mc=(mc+((x.dot(w)+w0)-y_train[i])**2)/len(X_train)\n",
    "    return mc"
   ]
  },
  {
   "cell_type": "markdown",
   "metadata": {},
   "source": [
    "## Normalizamos los datos"
   ]
  },
  {
   "cell_type": "code",
   "execution_count": 26,
   "metadata": {
    "collapsed": true
   },
   "outputs": [],
   "source": [
    "scaleX=preprocessing.StandardScaler()\n",
    "scaleX.fit(X_train)\n",
    "scaleY=preprocessing.StandardScaler()\n",
    "scaleY.fit(Y_train)\n",
    "\n",
    "X_train=scaleX.transform(X_train)\n",
    "Y_train=scaleY.transform(Y_train)"
   ]
  },
  {
   "cell_type": "markdown",
   "metadata": {},
   "source": [
    "## Escalamos los datos de prueba"
   ]
  },
  {
   "cell_type": "code",
   "execution_count": 27,
   "metadata": {
    "collapsed": false
   },
   "outputs": [
    {
     "data": {
      "text/plain": [
       "StandardScaler(copy=True, with_mean=True, with_std=True)"
      ]
     },
     "execution_count": 27,
     "metadata": {},
     "output_type": "execute_result"
    }
   ],
   "source": [
    "X_test=scaleX.transform(X_test)\n",
    "scaleX.fit(X_test)\n",
    "Y_test=scaleY.transform(Y_test)\n",
    "scaleY.fit(Y_test)"
   ]
  },
  {
   "cell_type": "markdown",
   "metadata": {},
   "source": [
    "## Definimos las funciones que necesitamos para dar los pasos "
   ]
  },
  {
   "cell_type": "markdown",
   "metadata": {},
   "source": [
    "#### Aquella que calcula el error"
   ]
  },
  {
   "cell_type": "code",
   "execution_count": 28,
   "metadata": {
    "collapsed": true
   },
   "outputs": [],
   "source": [
    "def salida(w0,x):\n",
    "    return np.sum(np.asarray(w0[1:])*np.asarray(x)) +w0[0]"
   ]
  },
  {
   "cell_type": "markdown",
   "metadata": {},
   "source": [
    "#### Aquella que actualiza las betas en cada iteración"
   ]
  },
  {
   "cell_type": "code",
   "execution_count": 29,
   "metadata": {
    "collapsed": true
   },
   "outputs": [],
   "source": [
    "def entrena(X_train,y_train,w0,l=0.0,etha=0.01):\n",
    "    for i in range(len(X_train)):\n",
    "        error=y_train[i]-salida(w0,X_train[i])\n",
    "        w0[0]=w0[0]+etha*error-l*w0[0]\n",
    "        for j in range(len(w0)-1):\n",
    "            w0[j+1]=w0[j+1]+etha*error*X_train[i][j]-l*w0[j+1]\n",
    "    return w0"
   ]
  },
  {
   "cell_type": "markdown",
   "metadata": {},
   "source": [
    "## Evaluamos la base de entrenamiento"
   ]
  },
  {
   "cell_type": "code",
   "execution_count": 30,
   "metadata": {
    "collapsed": true
   },
   "outputs": [],
   "source": [
    "w=[rnd.random() for i in range(1+len(X_train[0]))]\n",
    "for i in range(len(X_train)):\n",
    "    w=entrena(X_train,Y_train,w)"
   ]
  },
  {
   "cell_type": "markdown",
   "metadata": {},
   "source": [
    "## Graficamos el error"
   ]
  },
  {
   "cell_type": "code",
   "execution_count": 31,
   "metadata": {
    "collapsed": false
   },
   "outputs": [
    {
     "data": {
      "text/plain": [
       "[<matplotlib.lines.Line2D at 0x107c3f30>]"
      ]
     },
     "execution_count": 31,
     "metadata": {},
     "output_type": "execute_result"
    },
    {
     "data": {
      "image/png": "[encoded data removed]",
      "text/plain": [
       "<matplotlib.figure.Figure at 0x10607d70>"
      ]
     },
     "metadata": {},
     "output_type": "display_data"
    }
   ],
   "source": [
    "error=[]\n",
    "lista=[ x/100.0 for x in range(0,10,1)]\n",
    "for l in lista:\n",
    "    w=[rnd.random() for i in range(len(X_train[0])+1)]\n",
    "    for i in range(10):\n",
    "        w=entrena(X_train,Y_train,w,l=l,etha=0.0001)\n",
    "    error.append(minc(X_train,Y_train,w[1:],w[0]))\n",
    "    \n",
    "plt.plot(lista,error,color='blue')"
   ]
  },
  {
   "cell_type": "code",
   "execution_count": 32,
   "metadata": {
    "collapsed": false
   },
   "outputs": [
    {
     "name": "stdout",
     "output_type": "stream",
     "text": [
      "[0.0019698644041819787, 4.93738332736009e-05, 4.7160276410858607e-05, 4.6526794160024676e-05, 4.6225991444061417e-05, 4.6044696210175483e-05, 4.5921351027150269e-05, 4.5831553961480937e-05, 4.5763340686234698e-05, 4.5709955412415366e-05]\n"
     ]
    },
    {
     "data": {
      "text/plain": [
       "[0.0, 0.001, 0.002, 0.003, 0.004, 0.005, 0.006, 0.007, 0.008, 0.009]"
      ]
     },
     "execution_count": 32,
     "metadata": {},
     "output_type": "execute_result"
    }
   ],
   "source": [
    "print error\n",
    "lista=[ x/1000.0 for x in range(0,10,1)]\n",
    "lista"
   ]
  },
  {
   "cell_type": "code",
   "execution_count": null,
   "metadata": {
    "collapsed": true
   },
   "outputs": [],
   "source": []
  }
 ],
 "metadata": {
  "kernelspec": {
   "display_name": "Python 2",
   "language": "python",
   "name": "python2"
  },
  "language_info": {
   "codemirror_mode": {
    "name": "ipython",
    "version": 2
   },
   "file_extension": ".py",
   "mimetype": "text/x-python",
   "name": "python",
   "nbconvert_exporter": "python",
   "pygments_lexer": "ipython2",
   "version": "2.7.10"
  }
 },
 "nbformat": 4,
 "nbformat_minor": 0
}
